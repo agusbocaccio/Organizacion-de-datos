{
  "nbformat": 4,
  "nbformat_minor": 0,
  "metadata": {
    "colab": {
      "name": "TP2_datos.ipynb",
      "provenance": []
    },
    "kernelspec": {
      "display_name": "Python 3",
      "name": "python3"
    },
    "language_info": {
      "name": "python"
    }
  },
  "cells": [
    {
      "cell_type": "markdown",
      "metadata": {
        "id": "lflRFlBM6gP5"
      },
      "source": [
        "# Trabajo práctico 2 - Organización de datos\n",
        "### Facultad de ingeniería - Universidad de Buenos Aires\n",
        "\n",
        "\n",
        "---\n",
        "\n",
        "\n",
        "Alumna: Agustina Bocaccio \\\\\n",
        "Padron: 106393 \\\\\n",
        "Email: abocaccio@fi.uba.ar \\\\\n",
        "\n",
        "---\n",
        "\n",
        "#### Segundo cuatrimestre 2021\n",
        "#### Fecha de entrega: 1/11"
      ]
    },
    {
      "cell_type": "markdown",
      "metadata": {
        "id": "F-bTg1Iv7tq4"
      },
      "source": [
        "## Imports "
      ]
    },
    {
      "cell_type": "code",
      "metadata": {
        "colab": {
          "base_uri": "https://localhost:8080/"
        },
        "id": "k17Yp0uO7tYf",
        "outputId": "67196f69-8119-4281-b168-b86c4f458620"
      },
      "source": [
        "!pip install pyspark\n",
        "!pip install -U -q PyDrive\n",
        "!apt update\n",
        "!apt install openjdk-8-jdk-headless -qq\n",
        "#!apt install default-jre\n",
        "#!apt install default-jdk\n",
        "import os\n",
        "os.environ[\"JAVA_HOME\"] = \"/usr/lib/jvm/java-8-openjdk-amd64\""
      ],
      "execution_count": null,
      "outputs": [
        {
          "output_type": "stream",
          "name": "stdout",
          "text": [
            "Collecting pyspark\n",
            "  Downloading pyspark-3.2.0.tar.gz (281.3 MB)\n",
            "\u001b[K     |████████████████████████████████| 281.3 MB 37 kB/s \n",
            "\u001b[?25hCollecting py4j==0.10.9.2\n",
            "  Downloading py4j-0.10.9.2-py2.py3-none-any.whl (198 kB)\n",
            "\u001b[K     |████████████████████████████████| 198 kB 56.5 MB/s \n",
            "\u001b[?25hBuilding wheels for collected packages: pyspark\n",
            "  Building wheel for pyspark (setup.py) ... \u001b[?25l\u001b[?25hdone\n",
            "  Created wheel for pyspark: filename=pyspark-3.2.0-py2.py3-none-any.whl size=281805912 sha256=647bd896099e2497bcfde659997bb50aba193ac8ab950badb4d74161583e546c\n",
            "  Stored in directory: /root/.cache/pip/wheels/0b/de/d2/9be5d59d7331c6c2a7c1b6d1a4f463ce107332b1ecd4e80718\n",
            "Successfully built pyspark\n",
            "Installing collected packages: py4j, pyspark\n",
            "Successfully installed py4j-0.10.9.2 pyspark-3.2.0\n",
            "Get:1 http://security.ubuntu.com/ubuntu bionic-security InRelease [88.7 kB]\n",
            "Get:2 https://cloud.r-project.org/bin/linux/ubuntu bionic-cran40/ InRelease [3,626 B]\n",
            "Ign:3 https://developer.download.nvidia.com/compute/cuda/repos/ubuntu1804/x86_64  InRelease\n",
            "Hit:4 http://archive.ubuntu.com/ubuntu bionic InRelease\n",
            "Get:5 http://ppa.launchpad.net/c2d4u.team/c2d4u4.0+/ubuntu bionic InRelease [15.9 kB]\n",
            "Ign:6 https://developer.download.nvidia.com/compute/machine-learning/repos/ubuntu1804/x86_64  InRelease\n",
            "Get:7 https://developer.download.nvidia.com/compute/cuda/repos/ubuntu1804/x86_64  Release [696 B]\n",
            "Get:8 http://archive.ubuntu.com/ubuntu bionic-updates InRelease [88.7 kB]\n",
            "Hit:9 https://developer.download.nvidia.com/compute/machine-learning/repos/ubuntu1804/x86_64  Release\n",
            "Get:10 https://developer.download.nvidia.com/compute/cuda/repos/ubuntu1804/x86_64  Release.gpg [836 B]\n",
            "Hit:11 http://ppa.launchpad.net/cran/libgit2/ubuntu bionic InRelease\n",
            "Get:12 http://archive.ubuntu.com/ubuntu bionic-backports InRelease [74.6 kB]\n",
            "Hit:13 http://ppa.launchpad.net/deadsnakes/ppa/ubuntu bionic InRelease\n",
            "Get:14 http://security.ubuntu.com/ubuntu bionic-security/main amd64 Packages [2,398 kB]\n",
            "Get:15 http://security.ubuntu.com/ubuntu bionic-security/universe amd64 Packages [1,434 kB]\n",
            "Get:16 http://ppa.launchpad.net/graphics-drivers/ppa/ubuntu bionic InRelease [21.3 kB]\n",
            "Get:17 http://ppa.launchpad.net/c2d4u.team/c2d4u4.0+/ubuntu bionic/main Sources [1,810 kB]\n",
            "Get:19 https://developer.download.nvidia.com/compute/cuda/repos/ubuntu1804/x86_64  Packages [786 kB]\n",
            "Get:20 http://ppa.launchpad.net/c2d4u.team/c2d4u4.0+/ubuntu bionic/main amd64 Packages [927 kB]\n",
            "Get:21 http://archive.ubuntu.com/ubuntu bionic-updates/main amd64 Packages [2,835 kB]\n",
            "Get:22 http://archive.ubuntu.com/ubuntu bionic-updates/universe amd64 Packages [2,213 kB]\n",
            "Get:23 http://ppa.launchpad.net/graphics-drivers/ppa/ubuntu bionic/main amd64 Packages [44.7 kB]\n",
            "Fetched 12.7 MB in 3s (3,856 kB/s)\n",
            "Reading package lists... Done\n",
            "Building dependency tree       \n",
            "Reading state information... Done\n",
            "61 packages can be upgraded. Run 'apt list --upgradable' to see them.\n",
            "The following package was automatically installed and is no longer required:\n",
            "  libnvidia-common-460\n",
            "Use 'apt autoremove' to remove it.\n",
            "The following additional packages will be installed:\n",
            "  openjdk-8-jre-headless\n",
            "Suggested packages:\n",
            "  openjdk-8-demo openjdk-8-source libnss-mdns fonts-dejavu-extra\n",
            "  fonts-ipafont-gothic fonts-ipafont-mincho fonts-wqy-microhei\n",
            "  fonts-wqy-zenhei fonts-indic\n",
            "The following NEW packages will be installed:\n",
            "  openjdk-8-jdk-headless openjdk-8-jre-headless\n",
            "0 upgraded, 2 newly installed, 0 to remove and 61 not upgraded.\n",
            "Need to get 36.5 MB of archives.\n",
            "After this operation, 143 MB of additional disk space will be used.\n",
            "Selecting previously unselected package openjdk-8-jre-headless:amd64.\n",
            "(Reading database ... 155062 files and directories currently installed.)\n",
            "Preparing to unpack .../openjdk-8-jre-headless_8u292-b10-0ubuntu1~18.04_amd64.deb ...\n",
            "Unpacking openjdk-8-jre-headless:amd64 (8u292-b10-0ubuntu1~18.04) ...\n",
            "Selecting previously unselected package openjdk-8-jdk-headless:amd64.\n",
            "Preparing to unpack .../openjdk-8-jdk-headless_8u292-b10-0ubuntu1~18.04_amd64.deb ...\n",
            "Unpacking openjdk-8-jdk-headless:amd64 (8u292-b10-0ubuntu1~18.04) ...\n",
            "Setting up openjdk-8-jre-headless:amd64 (8u292-b10-0ubuntu1~18.04) ...\n",
            "update-alternatives: using /usr/lib/jvm/java-8-openjdk-amd64/jre/bin/orbd to provide /usr/bin/orbd (orbd) in auto mode\n",
            "update-alternatives: using /usr/lib/jvm/java-8-openjdk-amd64/jre/bin/servertool to provide /usr/bin/servertool (servertool) in auto mode\n",
            "update-alternatives: using /usr/lib/jvm/java-8-openjdk-amd64/jre/bin/tnameserv to provide /usr/bin/tnameserv (tnameserv) in auto mode\n",
            "Setting up openjdk-8-jdk-headless:amd64 (8u292-b10-0ubuntu1~18.04) ...\n",
            "update-alternatives: using /usr/lib/jvm/java-8-openjdk-amd64/bin/idlj to provide /usr/bin/idlj (idlj) in auto mode\n",
            "update-alternatives: using /usr/lib/jvm/java-8-openjdk-amd64/bin/wsimport to provide /usr/bin/wsimport (wsimport) in auto mode\n",
            "update-alternatives: using /usr/lib/jvm/java-8-openjdk-amd64/bin/jsadebugd to provide /usr/bin/jsadebugd (jsadebugd) in auto mode\n",
            "update-alternatives: using /usr/lib/jvm/java-8-openjdk-amd64/bin/native2ascii to provide /usr/bin/native2ascii (native2ascii) in auto mode\n",
            "update-alternatives: using /usr/lib/jvm/java-8-openjdk-amd64/bin/javah to provide /usr/bin/javah (javah) in auto mode\n",
            "update-alternatives: using /usr/lib/jvm/java-8-openjdk-amd64/bin/hsdb to provide /usr/bin/hsdb (hsdb) in auto mode\n",
            "update-alternatives: using /usr/lib/jvm/java-8-openjdk-amd64/bin/clhsdb to provide /usr/bin/clhsdb (clhsdb) in auto mode\n",
            "update-alternatives: using /usr/lib/jvm/java-8-openjdk-amd64/bin/extcheck to provide /usr/bin/extcheck (extcheck) in auto mode\n",
            "update-alternatives: using /usr/lib/jvm/java-8-openjdk-amd64/bin/schemagen to provide /usr/bin/schemagen (schemagen) in auto mode\n",
            "update-alternatives: using /usr/lib/jvm/java-8-openjdk-amd64/bin/xjc to provide /usr/bin/xjc (xjc) in auto mode\n",
            "update-alternatives: using /usr/lib/jvm/java-8-openjdk-amd64/bin/jhat to provide /usr/bin/jhat (jhat) in auto mode\n",
            "update-alternatives: using /usr/lib/jvm/java-8-openjdk-amd64/bin/wsgen to provide /usr/bin/wsgen (wsgen) in auto mode\n"
          ]
        }
      ]
    },
    {
      "cell_type": "code",
      "metadata": {
        "colab": {
          "base_uri": "https://localhost:8080/"
        },
        "id": "RKBRLFK175Ut",
        "outputId": "7e889341-d62a-42f6-ef0e-16c645a34a15"
      },
      "source": [
        "from pydrive.auth import GoogleAuth\n",
        "from pydrive.drive import GoogleDrive\n",
        "from google.colab import auth\n",
        "from oauth2client.client import GoogleCredentials\n",
        "from pyspark.sql import *\n",
        "from pyspark.sql.functions import *\n",
        "from pyspark import SparkContext\n",
        "from pyspark.sql import SQLContext\n",
        "import pandas as pd\n",
        "import pyspark\n",
        "from google.colab import drive \n",
        "drive.mount('/content/gdrive')"
      ],
      "execution_count": null,
      "outputs": [
        {
          "output_type": "stream",
          "name": "stdout",
          "text": [
            "Mounted at /content/gdrive\n"
          ]
        }
      ]
    },
    {
      "cell_type": "code",
      "metadata": {
        "id": "UcBXZUj-zf6u"
      },
      "source": [
        "spark = SparkSession.builder.getOrCreate()\n",
        "sc = spark.sparkContext"
      ],
      "execution_count": null,
      "outputs": []
    },
    {
      "cell_type": "markdown",
      "metadata": {
        "id": "G-4w328S63QM"
      },
      "source": [
        "## 16) 10 categorías que tienen la menor cantidad de contenido anónimo publicado."
      ]
    },
    {
      "cell_type": "code",
      "metadata": {
        "id": "lyq7CcUk6cC5"
      },
      "source": [
        "contents = spark.read.format(\"csv\").option(\"header\", True).load('gdrive/My Drive/Organización de datos/Wikipedia dataset 2c2021.zip (Unzipped Files)/contents.csv')\n",
        "rdd_contents = contents.rdd"
      ],
      "execution_count": null,
      "outputs": []
    },
    {
      "cell_type": "code",
      "metadata": {
        "id": "jlOwsdsDbO0q"
      },
      "source": [
        "categories = spark.read.format(\"csv\").option(\"header\", True).load('gdrive/My Drive/Organización de datos/Wikipedia dataset 2c2021.zip (Unzipped Files)/categorylinks.csv')\n",
        "rdd_categories = categories.rdd"
      ],
      "execution_count": null,
      "outputs": []
    },
    {
      "cell_type": "markdown",
      "metadata": {
        "id": "Md05Jp-lzuT9"
      },
      "source": [
        "De contents encuentro los usuarios que son anonimos, esto es, los usuarios que no tienen id ni username. Despues me quedo solo con los ids del contenido que haya quedado despues del filtrado"
      ]
    },
    {
      "cell_type": "code",
      "metadata": {
        "colab": {
          "base_uri": "https://localhost:8080/"
        },
        "id": "o0mMLVQ6-z7x",
        "outputId": "c7d9792f-f9a0-4712-f43a-b1c948d5c567"
      },
      "source": [
        "anonymous_contents = rdd_contents.filter(lambda x: x.revisor_id == None and x.revisor_username==None).map(lambda x: (x.id, 1)).cache()\n",
        "anonymous_contents.count()"
      ],
      "execution_count": null,
      "outputs": [
        {
          "output_type": "execute_result",
          "data": {
            "text/plain": [
              "193755"
            ]
          },
          "metadata": {},
          "execution_count": 6
        }
      ]
    },
    {
      "cell_type": "markdown",
      "metadata": {
        "id": "ahIQKhuH0VqZ"
      },
      "source": [
        "Filtro el rdd de categories y me quedo con las categorias y contenidos que no son nulos. Posteriormente, hago la interseccion de este rdd con el que tiene los ids de los usuarios anonimos para quedarme solo con las categorias y contenidos creados por usuarios anonimos."
      ]
    },
    {
      "cell_type": "code",
      "metadata": {
        "id": "Pmf0AeJif0lU"
      },
      "source": [
        "contents_and_categories = rdd_categories.filter(lambda x: x.cl_from != None and x.cl_to != None).map(lambda x: (x.cl_from, x.cl_to))\n",
        "categories_and_contents_by_anonymous_users = contents_and_categories.join(anonymous_contents).cache()"
      ],
      "execution_count": null,
      "outputs": []
    },
    {
      "cell_type": "markdown",
      "metadata": {
        "id": "Y1Qjgjqd5jk3"
      },
      "source": [
        "Tomo las 10 categorias con menor cantidad de contenido anonimo publicado:"
      ]
    },
    {
      "cell_type": "code",
      "metadata": {
        "colab": {
          "base_uri": "https://localhost:8080/"
        },
        "id": "PDy7Dg4beRm8",
        "outputId": "26f33e6b-1b1a-4067-c869-855fd0ce169c"
      },
      "source": [
        "categories_anonymous_contents = categories_and_contents_by_anonymous_users.map(lambda x: (x[1][0], x[1][1])).reduceByKey(lambda x, y: x+y).takeOrdered(10, lambda x: +x[1])\n",
        "categories_anonymous_contents"
      ],
      "execution_count": null,
      "outputs": [
        {
          "output_type": "execute_result",
          "data": {
            "text/plain": [
              "[('PÃ\\xado_X', 1),\n",
              " ('Objetos_astronÃ³micos_descubiertos_por_Eleanor_F._Helin', 1),\n",
              " ('Localidades_de_Guam', 1),\n",
              " ('Teseo', 1),\n",
              " ('Reus', 1),\n",
              " ('Troya', 1),\n",
              " ('TurquÃ\\xada_en_1996', 1),\n",
              " ('Tratados_de_HungrÃ\\xada_del_siglo_XX', 1),\n",
              " ('Tratados_de_Polonia_del_siglo_XX', 1),\n",
              " ('Tratados_de_Suecia_del_siglo_XX', 1)]"
            ]
          },
          "metadata": {},
          "execution_count": 8
        }
      ]
    },
    {
      "cell_type": "markdown",
      "metadata": {
        "id": "BjagpNnj6-mf"
      },
      "source": [
        "## 23) Cantidad total de contenidos por tipo de locación que pertenecen a la tierra."
      ]
    },
    {
      "cell_type": "code",
      "metadata": {
        "colab": {
          "base_uri": "https://localhost:8080/"
        },
        "id": "iPfu5SRY7DnZ",
        "outputId": "b83c5123-74e1-48db-b6e0-c8c9667f233f"
      },
      "source": [
        "sqlContext = SQLContext(sc)\n",
        "geo_tags = spark.read.format(\"csv\").option(\"header\", True).load('gdrive/My Drive/Organización de datos/Wikipedia dataset 2c2021.zip (Unzipped Files)/geo_tags.csv')\n",
        "rdd_geo = geo_tags.rdd"
      ],
      "execution_count": null,
      "outputs": [
        {
          "output_type": "stream",
          "name": "stderr",
          "text": [
            "/usr/local/lib/python3.7/dist-packages/pyspark/sql/context.py:79: FutureWarning: Deprecated in 3.0.0. Use SparkSession.builder.getOrCreate() instead.\n",
            "  FutureWarning\n"
          ]
        }
      ]
    },
    {
      "cell_type": "markdown",
      "metadata": {
        "id": "ehKiKPNB3J4c"
      },
      "source": [
        "Me quedo con los contenidos que pertenecen a la tierra y no tienen locacion nula. Despues saco las locaciones e ids que se repitan para no contar el mismo par (contenido, locacion) mas de una vez y por ultimo cuento por locacion la cantidad de contenidos."
      ]
    },
    {
      "cell_type": "code",
      "metadata": {
        "colab": {
          "base_uri": "https://localhost:8080/"
        },
        "id": "QPkSscWOKIAI",
        "outputId": "dcad9c46-4156-4110-89b5-8af7bf97e4cf"
      },
      "source": [
        "locations_earth = rdd_geo.filter(lambda x: x.gt_globe == 'earth' and x.gt_type != None).map(lambda x: (x.gt_type, x.gt_page_id)).distinct()\\\n",
        "                    .map(lambda x: (x[0], 1)).reduceByKey(lambda x,y: x+y)\n",
        "locations_earth.collect()"
      ],
      "execution_count": null,
      "outputs": [
        {
          "output_type": "execute_result",
          "data": {
            "text/plain": [
              "[('landmark', 65032),\n",
              " ('airport', 3592),\n",
              " ('adm2nd', 275),\n",
              " ('forrest', 9561),\n",
              " ('glacier', 266),\n",
              " ('edu', 3133),\n",
              " ('adm1st', 153),\n",
              " ('railwaystation', 10644),\n",
              " ('country', 1703),\n",
              " ('state', 7),\n",
              " ('event', 5119),\n",
              " ('pass', 10),\n",
              " ('region', 11),\n",
              " ('landscape', 29),\n",
              " ('isle(120', 1),\n",
              " ('type:landmark', 1),\n",
              " ('nunatak', 1),\n",
              " ('tain', 1),\n",
              " ('bridge', 1135),\n",
              " ('region:us', 184),\n",
              " ('title', 3),\n",
              " ('montaña', 1),\n",
              " ('adm2', 4),\n",
              " ('mountain/it-bz/it-bl', 1),\n",
              " ('mountain/it-bl', 1),\n",
              " ('monument', 1),\n",
              " ('mosque', 1),\n",
              " ('señal', 1),\n",
              " ('waterbodyy', 1),\n",
              " ('satellite', 1),\n",
              " ('buildings', 1),\n",
              " ('site', 1),\n",
              " ('mountain', 2295),\n",
              " ('waterbody', 389),\n",
              " ('city', 251865),\n",
              " ('building', 32),\n",
              " ('adm3rd', 268),\n",
              " ('isle', 5743),\n",
              " ('forest', 15),\n",
              " ('river', 113),\n",
              " ('reef', 1),\n",
              " ('tunnel', 1),\n",
              " ('port', 2),\n",
              " ('reservoir', 1),\n",
              " ('landmarkl', 4),\n",
              " ('landmarkc', 1),\n",
              " ('landmarka', 1),\n",
              " ('lago', 2),\n",
              " ('embalse', 1),\n",
              " ('place', 1),\n",
              " ('isle(1063', 1),\n",
              " ('organization', 3),\n",
              " ('town', 3),\n",
              " ('location', 1),\n",
              " ('island', 8),\n",
              " ('spaceport', 1),\n",
              " ('region:usa', 21),\n",
              " ('landmar', 1),\n",
              " ('bay', 1),\n",
              " ('village', 1),\n",
              " ('landamrk', 1),\n",
              " ('isle:', 1),\n",
              " ('isle(301', 1),\n",
              " ('waterfall', 1),\n",
              " ('dam', 2),\n",
              " ('inline', 1),\n",
              " ('nationalpark', 1),\n",
              " ('municipio', 1),\n",
              " ('church', 1),\n",
              " ('landmark:region:de-bw', 1),\n",
              " ('plane', 1),\n",
              " ('landmarkt', 1)]"
            ]
          },
          "metadata": {},
          "execution_count": 10
        }
      ]
    },
    {
      "cell_type": "markdown",
      "metadata": {
        "id": "Lkg5j4Rn7D5Z"
      },
      "source": [
        "## 27) La probabilidad de que la versión actual de un contenido fuera editada sin dejar comentario para usuarios que están logueados y que no están logueados"
      ]
    },
    {
      "cell_type": "markdown",
      "metadata": {
        "id": "Pkyz2TvwHtjH"
      },
      "source": [
        "Contents tiene toda la informacion de los contenidos de wikipedia en su version mas reciente, incluyendo las revisiones de cada una"
      ]
    },
    {
      "cell_type": "code",
      "metadata": {
        "id": "CcF23UsN7LO9"
      },
      "source": [
        "contents = spark.read.format(\"csv\").option(\"header\", True).load('gdrive/My Drive/Organización de datos/Wikipedia dataset 2c2021.zip (Unzipped Files)/contents.csv')\n",
        "rdd_contents = contents.rdd"
      ],
      "execution_count": null,
      "outputs": []
    },
    {
      "cell_type": "markdown",
      "metadata": {
        "id": "i-rVRiGJLLPE"
      },
      "source": [
        "Si no aparece el ip (es None) o tiene username es porque esta registrado"
      ]
    },
    {
      "cell_type": "code",
      "metadata": {
        "id": "yak91M7GHnJs"
      },
      "source": [
        "contents_no_comment = rdd_contents.filter(lambda x: x.revisor_comment == None).map(lambda x: (x.revisor_ip==None or x.revisor_username!= None)).cache()"
      ],
      "execution_count": null,
      "outputs": []
    },
    {
      "cell_type": "code",
      "metadata": {
        "colab": {
          "base_uri": "https://localhost:8080/"
        },
        "id": "nKkK8QiLN78i",
        "outputId": "df6b7502-68c2-43fc-b21e-8a9c32cc5183"
      },
      "source": [
        "non_commented_revisions_by_logged_users = contents_no_comment.countByValue()  \n",
        "non_commented_revisions_by_logged_users"
      ],
      "execution_count": null,
      "outputs": [
        {
          "output_type": "execute_result",
          "data": {
            "text/plain": [
              "defaultdict(int, {False: 77075, True: 392669})"
            ]
          },
          "metadata": {},
          "execution_count": 21
        }
      ]
    },
    {
      "cell_type": "code",
      "metadata": {
        "id": "aTDkRHVzQg4U"
      },
      "source": [
        "no_comment_revisions_total = contents_no_comment.count()"
      ],
      "execution_count": null,
      "outputs": []
    },
    {
      "cell_type": "code",
      "metadata": {
        "colab": {
          "base_uri": "https://localhost:8080/"
        },
        "id": "noHdEgSMOQu8",
        "outputId": "d526ae76-edda-472c-96a0-bc1f9f3c3e44"
      },
      "source": [
        "print(\"Probabilidad de que la versión actual de un contenido fuera editada sin dejar comentario para usuarios que están logueados:\",  (non_commented_revisions_by_logged_users[True]/no_comment_revisions_total))\n",
        "print(\"Probabilidad de que la versión actual de un contenido fuera editada sin dejar comentario para usuarios que no están logueados:\", (non_commented_revisions_by_logged_users[False]/no_comment_revisions_total))"
      ],
      "execution_count": null,
      "outputs": [
        {
          "output_type": "stream",
          "name": "stdout",
          "text": [
            "Probabilidad de que la versión actual de un contenido fuera editada sin dejar comentario para usuarios que están logueados: 0.8359212677543513\n",
            "Probabilidad de que la versión actual de un contenido fuera editada sin dejar comentario para usuarios que no están logueados: 0.1640787322456487\n"
          ]
        }
      ]
    },
    {
      "cell_type": "markdown",
      "metadata": {
        "id": "ss63y6_67Lb2"
      },
      "source": [
        "## 39) ¿Cuál es la acción más realizada por usuarios que no están registrados? "
      ]
    },
    {
      "cell_type": "code",
      "metadata": {
        "id": "BVtYFyWB7Vhz"
      },
      "source": [
        "logs = spark.read.format(\"csv\").option(\"header\", True).load('gdrive/My Drive/Organización de datos/Wikipedia dataset 2c2021.zip (Unzipped Files)/logs.csv')\n",
        "rdd_logs = logs.rdd"
      ],
      "execution_count": null,
      "outputs": []
    },
    {
      "cell_type": "markdown",
      "metadata": {
        "id": "SHkTv3_t7fHD"
      },
      "source": [
        "Me quedo con los usuarios que no estan registrados y no tienen accion nula"
      ]
    },
    {
      "cell_type": "code",
      "metadata": {
        "id": "vtc1sEI8VGv1"
      },
      "source": [
        "actions_by_non_registered_users = rdd_logs.filter(lambda x: x.contributor_ip != None and x.action!=None and x.contributor_username==None)"
      ],
      "execution_count": null,
      "outputs": []
    },
    {
      "cell_type": "markdown",
      "metadata": {
        "id": "aYay8TRL85tb"
      },
      "source": [
        "Agrupo por accion, las cuento y me quedo con la que mas se repite "
      ]
    },
    {
      "cell_type": "code",
      "metadata": {
        "colab": {
          "base_uri": "https://localhost:8080/"
        },
        "id": "rHnc_jGWyZwe",
        "outputId": "04cf4798-db00-44e1-ebc8-1451529b6ac7"
      },
      "source": [
        "amount_actions_by_non_registered_users= actions_by_non_registered_users.map(lambda x: (x.action,1)).reduceByKey(lambda x,y: x+y).cache()\n",
        "amount_actions_by_non_registered_users.takeOrdered(1, key=lambda x: -x[1])"
      ],
      "execution_count": null,
      "outputs": [
        {
          "output_type": "execute_result",
          "data": {
            "text/plain": [
              "[('create', 123293)]"
            ]
          },
          "metadata": {},
          "execution_count": 26
        }
      ]
    },
    {
      "cell_type": "markdown",
      "metadata": {
        "id": "qb564Kb5Vb9Y"
      },
      "source": [
        "## 20) Cantidad de Stubs por categoría en la Wikipedia."
      ]
    },
    {
      "cell_type": "markdown",
      "metadata": {
        "id": "-iTOPQhxtKL-"
      },
      "source": [
        "_\"AutoWikiBrowser is frequently set to automatically remove stub tags from any article with more than 500 words\"_\n"
      ]
    },
    {
      "cell_type": "markdown",
      "metadata": {
        "id": "qk0IBkedvd0v"
      },
      "source": [
        "Contar las palabras de los textos y determinar si ese texto es un stub (es un stub si tiene menos de 500 palabras)"
      ]
    },
    {
      "cell_type": "code",
      "metadata": {
        "id": "-T8unbA3Vlvi"
      },
      "source": [
        "texts = spark.read.format(\"csv\").option(\"header\", True).load('gdrive/My Drive/Organización de datos/Wikipedia dataset 2c2021.zip (Unzipped Files)/contents_text_sample.csv')\n",
        "rdd_texts = texts.rdd\n",
        "\n",
        "categories = spark.read.format(\"csv\").option(\"header\", True).load('gdrive/My Drive/Organización de datos/Wikipedia dataset 2c2021.zip (Unzipped Files)/categorylinks.csv')\n",
        "rdd_categories = categories.rdd"
      ],
      "execution_count": null,
      "outputs": []
    },
    {
      "cell_type": "code",
      "metadata": {
        "colab": {
          "base_uri": "https://localhost:8080/"
        },
        "id": "wIZIXZvLmPiL",
        "outputId": "8d992fb5-d506-4da8-93bd-dc12d14b22e9"
      },
      "source": [
        "stubs = rdd_texts.filter(lambda x: x.text != None).map(lambda x: (x.id, x.text.split())).filter(lambda x: len(x[1])<500 and x[0]!= None).cache()\n",
        "stubs.take(5)"
      ],
      "execution_count": null,
      "outputs": [
        {
          "output_type": "execute_result",
          "data": {
            "text/plain": [
              "[('50', ['{{Ficha', 'de', 'taxón']),\n",
              " (\"'''Anacardiaceae''' es una [[familia (biología)|familia]] de [[Plantae|plantas]] esencialmente [[árbol|arbóreas]] y [[arbusto|arbustivas]] perteneciente al [[Orden (biología)|orden]] [[Sapindales]]. La constituyen 77 [[género (biología)|géneros]] con unas 700 especies aceptadas\",\n",
              "  ['propias', 'de', 'países', 'tropicales']),\n",
              " ('Son árboles', ['raramente', 'subarbustos', 'o', '[[trepadora]]s']),\n",
              " (\"'''Anacardiaceae''' fue descrita por [[Robert Brown]] y publicado en ''[[Narrative of an Expedition to Explore the River Zaire]]''\",\n",
              "  ['1818.<ref',\n",
              "   'name',\n",
              "   '=',\n",
              "   'Trop>{{cita',\n",
              "   'web',\n",
              "   '|url=http://www.tropicos.org/Name/42000260',\n",
              "   '|título=',\n",
              "   'Anacardiaceae|fechaacceso=13',\n",
              "   'de',\n",
              "   'julio',\n",
              "   'de',\n",
              "   '2013',\n",
              "   '|obra=',\n",
              "   'Tropicos.org.',\n",
              "   '[[Missouri',\n",
              "   'Botanical',\n",
              "   'Garden]]}}</ref>']),\n",
              " ('* Blepharocaryaceae', ['Julianiaceae'])]"
            ]
          },
          "metadata": {},
          "execution_count": 35
        }
      ]
    },
    {
      "cell_type": "code",
      "metadata": {
        "colab": {
          "base_uri": "https://localhost:8080/"
        },
        "id": "n8lnjG0-CW8a",
        "outputId": "c54791a6-f052-445d-a4d7-39351e8e4dee"
      },
      "source": [
        "categories_and_id = rdd_categories.map(lambda x: (x.cl_from, x.cl_to))\n",
        "stubs_and_categories = stubs.join(categories_and_id).map(lambda x: (x[1][1], 1)).reduceByKey(lambda x, y: x+y)\n",
        "stubs_and_categories.collect()"
      ],
      "execution_count": null,
      "outputs": [
        {
          "output_type": "execute_result",
          "data": {
            "text/plain": [
              "[('TÃ©rminos_botÃ¡nicos', 22),\n",
              " ('Flora_de_LÃ\\xadbano', 3),\n",
              " ('Flora_de_Siria', 2),\n",
              " ('Nueces_y_semillas_oleaginosas', 4),\n",
              " ('Buses_seriales', 3),\n",
              " ('Wikipedia:ArtÃ\\xadculos_con_identificadores_SNAC', 1927),\n",
              " ('Wikipedia:ArtÃ\\xadculos_con_pasajes_que_requieren_referencias', 2101),\n",
              " ('Mezzosopranos_de_EspaÃ±a', 2),\n",
              " ('Personajes_citados_en_la_Divina_Comedia', 8),\n",
              " ('Santos_de_Macedonia', 1),\n",
              " ('Santos_de_la_Iglesia_ortodoxa', 29),\n",
              " ('Wikipedia:ArtÃ\\xadculos_destacados_en_la_Wikipedia_en_chino', 21),\n",
              " ('Escritores_en_inglÃ©s_del_siglo_XX', 95),\n",
              " ('Objetos_astronÃ³micos_descubiertos_desde_el_Observatorio_Palomar', 57),\n",
              " ('Wikipedia:ArtÃ\\xadculos_con_identificadores_COAM_persona', 18),\n",
              " ('Salud_del_varÃ³n', 5),\n",
              " ('Manuscrito_Voynich', 1),\n",
              " ('Grupos_de_rock_de_Suecia', 9),\n",
              " ('Batallas_en_Ã\\x81lava', 4),\n",
              " ('Inframundo_griego', 5),\n",
              " ('Localidades_de_la_Provincia_Occidental_del_Cabo', 3),\n",
              " ('Protocolos_de_Internet', 5),\n",
              " ('Arquitectos_de_Granada', 2),\n",
              " ('PelÃ\\xadculas_de_2005', 28),\n",
              " ('Ruido', 3),\n",
              " ('PÃ¡tzcuaro', 1),\n",
              " ('Partidos_polÃ\\xadticos_desaparecidos_de_EspaÃ±a', 24),\n",
              " ('Sistemas_de_autentificaciÃ³n', 3),\n",
              " ('PolÃ\\xadticos_de_la_Antigua_Grecia_del_siglo_VI_a._C.', 1),\n",
              " ('PolÃ\\xadticos_de_la_Antigua_Grecia_del_siglo_V_a._C.', 4),\n",
              " ('Futbolistas_de_los_PaÃ\\xadses_Bajos_en_la_Copa_Mundial_de_2006', 1),\n",
              " ('Nacidos_en_775', 1),\n",
              " ('Comendadores_de_la_Orden_del_Imperio_BritÃ¡nico', 22),\n",
              " ('MitologÃ\\xada_acadia', 10),\n",
              " ('Localidades_de_Esla-Campos', 4),\n",
              " ('Futbolistas_del_Real_Madrid_Club_de_FÃºtbol_en_los_aÃ±os_1990', 6),\n",
              " ('Futbolistas_de_la_UniÃ³n_Deportiva_Salamanca_en_los_aÃ±os_1990', 4),\n",
              " ('Nacidos_en_Bilbao', 32),\n",
              " ('Wikipedia:Consultas_de_borrado_sin_clasificar', 291),\n",
              " ('Wikipedia:PÃ¡ginas_con_referencias_con_parÃ¡metros_sin_nombre', 114),\n",
              " ('Escritores_de_literatura_fantÃ¡stica_de_EspaÃ±a', 4),\n",
              " ('Carmona', 3),\n",
              " ('Localidades_de_RÃ\\xado_Grande_del_Sur', 22),\n",
              " ('Wikipedia:ArtÃ\\xadculos_con_identificadores_IBGE', 137),\n",
              " ('Especies_extintas_por_la_actividad_humana', 10),\n",
              " ('Wikipedia:CategorÃ\\xadas_ocultas', 77),\n",
              " ('Eslavo_eclesiÃ¡stico', 1),\n",
              " ('Banca', 6),\n",
              " ('CatedrÃ¡ticos_de_la_Universidad_Central_de_Madrid', 3),\n",
              " ('Futbolistas_del_Celtic_Football_Club', 13),\n",
              " ('Actores_de_Chespirito', 3),\n",
              " ('Actrices_de_cine_de_MÃ©xico', 20),\n",
              " ('Humanistas_de_Italia_del_siglo_XIV', 2),\n",
              " ('Wikipedia:Consultas_de_borrado_de_diciembre_de_2005', 5),\n",
              " ('Monarcas_asesinados', 10),\n",
              " ('Tratados_de_EspaÃ±a_del_siglo_XIV', 3),\n",
              " ('CoreÃ³grafos_de_Francia', 3),\n",
              " ('Canciones_escritas_por_Britney_Spears', 1),\n",
              " ('Agencias_de_la_UniÃ³n_Europea', 2),\n",
              " ('UniÃ³n_Europea_en_1994', 1),\n",
              " ('Periodistas_deportivos_de_Chile', 3),\n",
              " ('Microondas', 2),\n",
              " ('Cantones_de_Zamora_Chinchipe', 2),\n",
              " ('Diputados_de_la_V_Legislatura_de_EspaÃ±a', 13),\n",
              " ('Ministros_de_EconomÃ\\xada_y_Hacienda_de_EspaÃ±a', 11),\n",
              " ('Doctores_honorarios_de_la_Universidad_de_Tel_Aviv', 10),\n",
              " ('Edificios_y_estructuras_de_los_Emiratos_Ã\\x81rabes_Unidos', 3),\n",
              " ('Empresas_por_paÃ\\xads', 9),\n",
              " ('Wikipedia:Consultas_de_borrado_de_marzo_de_2006', 6),\n",
              " ('Senadores_de_Colombia_1998-2002', 3),\n",
              " ('Wikipedia:ArtÃ\\xadculos_desactualizados_(aÃºn_sin_fecha)', 79),\n",
              " ('Nacidos_en_1978', 196),\n",
              " ('Pintores_de_Colombia_del_siglo_XX', 6),\n",
              " ('Vosgos', 1),\n",
              " ('Escritores_del_siglo_XXI', 11),\n",
              " ('Wikipedia:PÃ¡ginas_con_referencias_con_parÃ¡metros_redundantes', 217),\n",
              " ('Ã\\x81lbumes_de_pop', 62),\n",
              " ('Wikipedia:ArtÃ\\xadculos_con_identificadores_Centro_del_Patrimonio_Mundial',\n",
              "  94),\n",
              " ('Puentes_de_hormigÃ³n', 4),\n",
              " ('1701', 1),\n",
              " ('Futbolistas_de_Suecia_en_la_Eurocopa_2000', 1),\n",
              " ('Futbolistas_del_Aston_Villa_Football_Club', 19),\n",
              " ('Futbolistas_del_Hansa_Rostock_en_los_aÃ±os_2000', 2),\n",
              " ('Nacidos_en_1277', 1),\n",
              " ('Miembros_de_la_Academia_de_Ciencias_de_Baviera', 43),\n",
              " ('Empresas_fundadas_en_1937', 5),\n",
              " ('Nacidos_en_los_aÃ±os_1530', 1),\n",
              " ('Patrimonio_de_la_Humanidad_en_Estados_Unidos', 1),\n",
              " ('Militares_de_la_guerra_de_la_Independencia_espaÃ±ola', 14),\n",
              " ('PolÃ\\xadticos_de_la_UniÃ³n_Liberal', 7),\n",
              " ('Wikipedia:ArtÃ\\xadculos_con_identificadores_Archivo_HistÃ³rico_de_Diputados_de_EspaÃ±a',\n",
              "  138),\n",
              " (None, 90),\n",
              " ('Premio_Ondas', 34),\n",
              " ('Literatura_del_Romanticismo', 4),\n",
              " ('Mercosur', 3),\n",
              " ('Videojuegos_para_Sharp_X68000', 2),\n",
              " ('Temporada_2006_de_FÃ³rmula_1', 1),\n",
              " ('Escultores_de_la_Grecia_arcaica', 2),\n",
              " ('Guerra_de_los_Diez_DÃ\\xadas', 1),\n",
              " ('Historia_de_Yugoslavia', 4),\n",
              " ('Yugoslavia_en_1991', 1),\n",
              " ('Escudos_de_Alemania', 1),\n",
              " ('Presentadores_de_TelevisiÃ³n_EspaÃ±ola', 13),\n",
              " ('Reparto_de_Prison_Break', 3),\n",
              " ('IntÃ©rpretes_de_mÃºsica_clÃ¡sica_de_Alemania', 4),\n",
              " ('Quesos_de_leche_de_vaca_de_EspaÃ±a', 2),\n",
              " ('Wikipedia:ArtÃ\\xadculos_con_plantillas_Commons_que_deberÃ\\xadan_reemplazarse_por_Commonscat',\n",
              "  4),\n",
              " ('Videojuegos_de_Erbe_Software', 1),\n",
              " ('Animales_famosos', 13),\n",
              " ('Wikipedia:ArtÃ\\xadculos_destacados_en_la_Wikipedia_en_catalÃ¡n', 25),\n",
              " ('Grupos_de_mÃºsica_de_MÃ©xico', 23),\n",
              " ('Gabinete_de_Felipe_CalderÃ³n_Hinojosa', 3),\n",
              " ('Daneses_del_siglo_XIX', 2),\n",
              " ('Historiadores_de_Dinamarca', 1),\n",
              " ('Mujeres_del_siglo_XX', 84),\n",
              " ('Arquitectos_historicistas', 3),\n",
              " ('PolÃ\\xadticos_de_Guinea_Ecuatorial', 1),\n",
              " ('Pinturas_sobre_la_muerte', 8),\n",
              " ('GeografÃ\\xada_del_Ã³blast_de_Mykolaiv', 1),\n",
              " ('Libros_de_1983', 2),\n",
              " ('Ã\\x81lbumes_de_EspaÃ±a_de_2003', 5),\n",
              " ('Arquitectura_de_Malasia_del_siglo_XXI', 1),\n",
              " ('Rascacielos_de_Kuala_Lumpur', 1),\n",
              " ('Canciones_en_espaÃ±ol', 85),\n",
              " ('Alumnado_de_la_Universidad_de_Salamanca_en_el_siglo_XX', 28),\n",
              " ('Gyps', 1),\n",
              " ('Baloncestistas_de_la_selecciÃ³n_de_Lituania', 2),\n",
              " ('Fallecidos_en_1848', 10),\n",
              " ('Familias_de_mamÃ\\xadferos', 7),\n",
              " ('Estadios_de_fÃºtbol_inaugurados_en_1988', 3),\n",
              " ('Videojuegos_para_DECO_Cassette_System', 1),\n",
              " ('LarraÃ\\xadn', 4),\n",
              " ('Diputados_por_Cuzco', 32),\n",
              " ('Actores_infantiles_por_paÃ\\xads', 3),\n",
              " ('PelÃ\\xadculas_ambientadas_en_un_paÃ\\xads_europeo_ficticio', 2),\n",
              " ('PelÃ\\xadculas_de_suspenso', 123),\n",
              " ('Reptiles_no_amenazados', 33),\n",
              " ('MitologÃ\\xada_mesopotÃ¡mica', 7),\n",
              " ('Localidades_del_estado_Aragua', 3),\n",
              " ('Doctores_honorarios_de_la_Universidad_Hebrea_de_JerusalÃ©n', 15),\n",
              " ('Presidentes_del_Parlamento_Europeo', 2),\n",
              " ('Afluentes_del_rÃ\\xado_Escalda_de_BÃ©lgica', 2),\n",
              " ('GeografÃ\\xada_de_Flandes', 3),\n",
              " ('Localidades_de_Aude', 19),\n",
              " ('Futbolistas_de_MÃ©xico_en_los_Juegos_Centroamericanos_y_del_Caribe_San_Salvador_1935',\n",
              "  1),\n",
              " ('PelÃ\\xadculas_de_Warner_Bros.', 42),\n",
              " ('Deportistas_de_Chile_en_los_Juegos_OlÃ\\xadmpicos_de_RÃ\\xado_de_Janeiro_2016',\n",
              "  3),\n",
              " ('Distritos_de_Huanta', 1),\n",
              " ('ConstelaciÃ³n_de_Delphinus', 3),\n",
              " ('Estrellas_binarias', 24),\n",
              " ('Localidades_de_Oise', 39),\n",
              " ('PelÃ\\xadculas_ambientadas_en_la_Antigua_Roma', 2),\n",
              " ('Localidades_de_Pirineos_AtlÃ¡nticos', 24),\n",
              " ('Fallecidos_en_1940', 34),\n",
              " ('Filipinos_del_siglo_XIX', 2),\n",
              " ('Activistas_de_Alemania', 2),\n",
              " ('ProgramaciÃ³n_paralela', 2),\n",
              " ('Colecciones_del_Museo_de_Orsay', 6),\n",
              " ('Cuadros_del_Impresionismo_de_Francia', 4),\n",
              " ('EconomÃ\\xada_de_Argentina', 3),\n",
              " ('PolÃ\\xadticos_de_EspaÃ±a_del_siglo_XXI', 17),\n",
              " ('Cantantes_de_heavy_metal_de_Estados_Unidos', 15),\n",
              " ('Cantantes_masculinos_de_Estados_Unidos', 53),\n",
              " ('Personajes_de_dibujos_animados', 27),\n",
              " ('Nacidos_en_La_CoruÃ±a', 21),\n",
              " ('Compositores_del_Clasicismo_de_BÃ©lgica', 1),\n",
              " ('Artistas_visuales_de_Chile', 6),\n",
              " ('Fallecidos_en_el_Sudoeste_de_Inglaterra', 2),\n",
              " ('Canciones_de_Queen', 4),\n",
              " ('MÃºsica_latina', 2),\n",
              " ('BotÃ¡nicos_de_Alemania_del_siglo_XIX', 27),\n",
              " ('Premios_de_mÃºsica_rock', 2),\n",
              " ('VÃ\\xadas_verdes_en_Cantabria', 1),\n",
              " ('Alumnado_del_Colegio_Nacional_de_Buenos_Aires', 13),\n",
              " ('Fallecidos_en_1919', 28),\n",
              " ('Maestras_de_Argentina', 3),\n",
              " ('Videojuegos_de_Consola_Virtual_para_Wii_U', 7),\n",
              " ('Escudos_con_castillos', 7),\n",
              " ('Escudos_con_coronas', 11),\n",
              " ('Grandes_cruces_de_la_Orden_de_la_Beneficencia', 3),\n",
              " ('Ministros_del_franquismo', 7),\n",
              " ('V_Legislatura_de_las_Cortes_EspaÃ±olas', 8),\n",
              " ('Fallecidos_en_2015', 122),\n",
              " ('Cultura_de_Cabimas', 1),\n",
              " ('Wikipedia:ArtÃ\\xadculos_buenos_en_portada', 262),\n",
              " ('Puertos_deportivos_del_PaÃ\\xads_Vasco', 2),\n",
              " ('GrÃ¡ficos_vectoriales', 3),\n",
              " ('Modelos_de_monovolÃºmenes', 7),\n",
              " ('Temporada_1936_de_fÃºtbol_en_Chile', 1),\n",
              " ('Obispos_y_arzobispos_de_MilÃ¡n', 5),\n",
              " ('Kouvola', 2),\n",
              " ('Hedysareae', 1),\n",
              " ('Artamus', 1),\n",
              " ('PÃ¡jaros_cantores_(Passeriformes)_no_amenazados', 271),\n",
              " ('Castillos_de_la_provincia_de_Guadalajara', 2),\n",
              " ('Diputados_del_Congreso_de_la_NaciÃ³n_Argentina_por_la_Provincia_de_Buenos_Aires',\n",
              "  15),\n",
              " ('Alumnado_de_la_Universidad_AutÃ³noma_de_Madrid', 6),\n",
              " ('Aeronaves_de_ala_media', 10),\n",
              " ('Puentes_de_Inglaterra_del_siglo_XX', 3),\n",
              " ('Wikipedia:ArtÃ\\xadculos_con_identificadores_NHLE', 37),\n",
              " ('Historia_de_La_Haya', 1),\n",
              " ('Tratados_de_Portugal_del_siglo_XVII', 1),\n",
              " ('Videojuegos_ambientados_en_Madrid', 2),\n",
              " ('Plantas_descritas_por_C.A.Mey.', 1),\n",
              " ('Refrigerantes', 2),\n",
              " ('PrevenciÃ³n_del_suicidio', 2),\n",
              " ('Futbolistas_de_Venezuela', 25),\n",
              " ('Irlanda_en_1649', 2),\n",
              " ('Equipos_de_fÃºtbol_de_la_RegiÃ³n_de_ValparaÃ\\xadso', 1),\n",
              " ('Equipos_de_fÃºtbol_fundados_en_1909', 2),\n",
              " ('CatÃ³licos_de_Guinea_Ecuatorial', 1),\n",
              " ('Series_de_televisiÃ³n_iniciadas_en_2008', 14),\n",
              " ('Registro_Nacional_de_Lugares_HistÃ³ricos_por_estado', 4),\n",
              " ('FÃºtbol_en_los_Juegos_OlÃ\\xadmpicos_por_aÃ±o', 1),\n",
              " ('Nacidos_en_877', 2),\n",
              " ('PelÃ\\xadculas_de_2008', 36),\n",
              " ('Plantillas_estadÃ\\xadsticas_ciclones_tropicales', 3),\n",
              " ('PeriÃ³dicos_en_espaÃ±ol', 41),\n",
              " ('Historia_de_Siria', 4),\n",
              " ('Campellolebias', 1),\n",
              " ('Disturbios_en_el_siglo_XX', 4),\n",
              " ('Estados_Unidos_en_1966', 2),\n",
              " ('Epiplatys', 1),\n",
              " ('CofradÃ\\xadas_de_JesÃºs_de_la_PasiÃ³n_en_EspaÃ±a', 1),\n",
              " ('Cultura_de_Ã\\x81lava', 2),\n",
              " ('Localidades_de_Alto_Saona', 32),\n",
              " ('Programas_de_televisiÃ³n_en_espaÃ±ol', 50),\n",
              " ('Fauna_endÃ©mica_de_la_RepÃºblica_DemocrÃ¡tica_del_Congo', 3),\n",
              " ('Videojuegos_de_2008', 18),\n",
              " ('Futbolistas_del_Club_UniÃ³n_Comercio', 6),\n",
              " ('Ciudades_arzobispales_de_Estados_Unidos', 1),\n",
              " ('Futbolistas_del_Club_Deportivo_Ciudad_de_Pedernales', 1),\n",
              " ('Futbolistas_del_Club_Social,_Cultural_y_Deportivo_Halley', 2),\n",
              " ('Nacidos_en_Atenas', 23),\n",
              " ('Futbolistas_del_Club_Social_y_Deportivo_Colo-Colo_en_los_aÃ±os_2000', 10),\n",
              " ('Comarcas_tradicionales_de_la_provincia_de_LeÃ³n', 7),\n",
              " ('RÃ\\xados_de_la_RegiÃ³n_del_BiobÃ\\xado', 4),\n",
              " ('Percusionistas_de_jazz', 3),\n",
              " ('Actores_de_cine_de_Italia', 30),\n",
              " ('AÃ±os_660_a._C.', 1),\n",
              " ('AÃ±os_en_Nicaragua', 2),\n",
              " ('Alfabetos_obsoletos', 2),\n",
              " ('LitÃ³grafos_de_MÃ©xico', 1),\n",
              " ('Futbolistas_del_Football_Club_Dynamo_Kyiv_3', 1),\n",
              " ('Series_de_televisiÃ³n_finalizadas_en_1955', 2),\n",
              " ('Conferencias_Gifford', 10),\n",
              " ('Frank_Zappa', 2),\n",
              " ('Episodios_de_la_quinta_temporada_de_Lost', 2),\n",
              " ('United_Airlines', 2),\n",
              " ('Servicios_pÃºblicos_de_Libia', 1),\n",
              " ('Masters_de_Miami_2009', 1),\n",
              " ('Edificios_religiosos_en_Vietnam', 1),\n",
              " ('Museos_de_Colonia', 3),\n",
              " ('1981_por_paÃ\\xads', 5),\n",
              " ('Humanistas_del_Renacimiento', 1),\n",
              " ('Universidad_Nacional_de_TucumÃ¡n', 3),\n",
              " ('Plantas_descritas_en_1908', 1),\n",
              " ('Funcionarios_administrativos', 6),\n",
              " ('TelevisiÃ³n_de_Chile_en_los_aÃ±os_2000', 6),\n",
              " ('Productores_de_cine_de_EspaÃ±a', 15),\n",
              " ('Jardines_botÃ¡nicos_de_Alemania', 8),\n",
              " ('Turismo_en_AndalucÃ\\xada', 1),\n",
              " ('Accidentes_geogrÃ¡ficos_de_los_Pirineos', 2),\n",
              " ('Estados_y_territorios_desaparecidos_en_1857', 3),\n",
              " ('Mujeres_nazis', 5),\n",
              " ('Nacidos_en_1917', 54),\n",
              " ('Nazis_condenados_a_cadena_perpetua', 1),\n",
              " ('Nacidos_en_1996', 179),\n",
              " ('Baloncestistas_del_Real_Madrid', 14),\n",
              " ('Fallecidos_en_Bilbao', 7),\n",
              " ('Escritores_del_Estado_de_MÃ©xico', 2),\n",
              " ('Vino_de_arroz', 1),\n",
              " ('Estados_Unidos_en_1950', 4),\n",
              " ('Huracanes_en_Cuba', 2),\n",
              " ('Huracanes_en_Florida', 4),\n",
              " ('Series_de_novelas_ligeras', 9),\n",
              " ('Museos_de_Atenas', 2),\n",
              " ('Deportistas_de_California', 9),\n",
              " ('GastronomÃ\\xada_de_la_provincia_de_MÃ¡laga', 3),\n",
              " ('Platos_con_leche', 2),\n",
              " ('Curadores_de_arte', 5),\n",
              " ('Copa_Davis', 12),\n",
              " ('Rotonda_de_las_Personas_Ilustres_(MÃ©xico)', 9),\n",
              " ('Arzobispos_del_siglo_XX', 11),\n",
              " ('Beatos_de_Croacia', 1),\n",
              " ('Arquitectura_de_EspaÃ±a_de_2010', 2),\n",
              " ('Sociedad_de_Kenia', 1),\n",
              " ('Objetos_astronÃ³micos_descubiertos_en_1913', 2),\n",
              " ('Hongos_fÃ³siles', 1),\n",
              " ('EstÃ¡ndares_informÃ¡ticos', 2),\n",
              " ('IEEE', 2),\n",
              " ('Puentes_inaugurados_en_1849', 1),\n",
              " ('GeografÃ\\xada_de_la_RegiÃ³n_de_Magallanes', 6),\n",
              " ('RÃ\\xados_de_cuencas_endorreicas_de_TayikistÃ¡n', 1),\n",
              " ('PelÃ\\xadculas_distribuidas_en_formato_Digital_3D', 4),\n",
              " ('Relaciones_internacionales_de_JapÃ³n', 3),\n",
              " ('Escritores_de_Barcelona', 18),\n",
              " ('Pintores_de_Francia_del_siglo_XIX', 19),\n",
              " ('Municipios_de_Macedonia_del_Norte', 2),\n",
              " ('Series_Mundiales', 8),\n",
              " ('IngenierÃ\\xada_de_software', 9),\n",
              " ('Modelos_de_Acura', 1),\n",
              " ('Nacidos_en_el_siglo_XII', 15),\n",
              " ('Nadadores_en_los_Juegos_OlÃ\\xadmpicos_de_Atenas_2004', 1),\n",
              " ('Localidades_de_la_provincia_de_Asti', 6),\n",
              " ('Arte_popular', 1),\n",
              " ('Ã\\x81lbumes_grabados_en_el_Akasaka_Blitz', 1),\n",
              " ('Voleibol_en_Alemania', 1),\n",
              " ('Localidades_de_la_provincia_de_Venecia', 2),\n",
              " ('PelÃ\\xadculas_de_Argentina', 86),\n",
              " ('PelÃ\\xadculas_dramÃ¡ticas_de_Argentina', 20),\n",
              " ('Fallecidos_por_ahogamiento', 8),\n",
              " ('Reino_Unido_en_el_siglo_XXI', 1),\n",
              " ('Ciudad_metropolitana_de_Cagliari', 1),\n",
              " ('Nacidos_en_1856', 33),\n",
              " ('Concejales_del_Ayuntamiento_de_Gerona', 3),\n",
              " ('Profesores_de_la_Universidad_Abierta_de_CataluÃ±a', 1),\n",
              " ('Ocupaciones_religiosas', 4),\n",
              " ('Arquitectos_de_Estados_Unidos', 6),\n",
              " ('Phoxinus', 4),\n",
              " ('Italianos_por_localidad', 8),\n",
              " ('Baloncestistas_del_Erdemir_Zonguldak', 2),\n",
              " ('Anarcocomunismo', 2),\n",
              " ('PrÃ\\xadncipes_herederos', 1),\n",
              " ('DiplomÃ¡ticos_de_TurquÃ\\xada', 1),\n",
              " ('Elios_Petos', 1),\n",
              " ('Fallecidos_en_el_siglo_II_a._C.', 7),\n",
              " ('Canciones_de_1994', 8),\n",
              " ('Jardines_botÃ¡nicos_de_Florida', 5),\n",
              " ('Muridae', 4),\n",
              " ('Wikipedia:Consultas_de_borrado_de_organizaciones,_empresas_y_productos',\n",
              "  12),\n",
              " ('Futbolistas_de_Coquimbo_Unido_en_los_aÃ±os_2010', 6),\n",
              " ('1939_por_paÃ\\xads', 3),\n",
              " ('Grupos_de_rock_de_Indonesia', 1),\n",
              " ('Charopidae', 7),\n",
              " ('Cortometrajes_de_Francia', 9),\n",
              " ('PelÃ\\xadculas_rodadas_en_ParÃ\\xads', 2),\n",
              " ('Gastropoda', 8),\n",
              " ('Insectos_de_Malasia', 8),\n",
              " ('Mantodeos_de_Tailandia', 3),\n",
              " ('Iridopterygidae', 12),\n",
              " ('Ilustradores_de_EspaÃ±a', 7),\n",
              " ('Actrices_de_teatro_de_Estados_Unidos', 32),\n",
              " ('AÃ±os_1980_en_Singapur', 1),\n",
              " ('ColeÃ³pteros_de_AmÃ©rica_Central', 12),\n",
              " ('Condecorados_con_la_primera_clase_de_la_Cruz_de_Hierro', 4),\n",
              " ('Insectos_de_Estados_Unidos', 16),\n",
              " ('Cultura_de_Manizales', 1),\n",
              " ('Obispos_jesuitas', 2),\n",
              " ('Nacidos_en_1792', 12),\n",
              " ('Realistas_en_la_guerra_de_la_Independencia_de_PerÃº', 4),\n",
              " ('Ã\\x81lbumes_por_productor', 18),\n",
              " ('Localidades_del_condado_de_Forest_(Pensilvania)', 2),\n",
              " ('Club_Deportivo_CastellÃ³n', 1),\n",
              " ('Anfibios_por_paÃ\\xads', 5),\n",
              " ('Novelas_ligeras_de_aventuras', 6),\n",
              " ('Novelas_ligeras_de_romance', 10),\n",
              " ('Novelas_ligeras_ecchi', 6),\n",
              " ('Series_de_anime_producidas_por_Sentai_Filmworks', 6),\n",
              " ('Mazarroneros', 1),\n",
              " ('Localidades_del_condado_de_Union_(Carolina_del_Norte)', 3),\n",
              " ('Nacidos_en_Waddinxveen', 1),\n",
              " ('Boroughs_de_Nueva_Jersey', 20),\n",
              " ('Grupos_de_mÃºsica_de_Georgia_(Estados_Unidos)', 3),\n",
              " ('Taxones_descritos_por_Jean_Cabanis', 11),\n",
              " ('Baloncestistas_de_Serbia', 17),\n",
              " ('RepÃºblica_Socialista_SoviÃ©tica_de_Bielorrusia', 1),\n",
              " ('Polytmus', 2),\n",
              " ('Oratorios', 1),\n",
              " ('Wikipedia:ArtÃ\\xadculos_con_texto_en_mongol', 10),\n",
              " ('Series_de_televisiÃ³n_finalizadas_en_2004', 11),\n",
              " ('Telenovelas_cÃ³micas_de_Argentina', 2),\n",
              " ('Serranidae', 1),\n",
              " ('Saga_Orkneyinga', 2),\n",
              " ('EP_de_Sonic_Youth', 2),\n",
              " ('Escritores_de_MichoacÃ¡n', 3),\n",
              " ('Ciudades_de_Kansas', 27),\n",
              " ('Curia_romana', 7),\n",
              " ('Rascacielos_de_Colombia_entre_100_y_149_metros', 1),\n",
              " ('Rascacielos_de_oficinas_de_BogotÃ¡', 2),\n",
              " ('Localidades_del_condado_de_Tipton_(Tennessee)', 1),\n",
              " ('Pueblos_de_Tennessee', 10),\n",
              " ('Localidades_del_condado_de_DoÃ±a_Ana', 4),\n",
              " ('PelÃ\\xadculas_sobre_periodismo', 8),\n",
              " ('Ciudades_de_Wisconsin', 10),\n",
              " ('Localidades_del_condado_de_Jefferson_(Wisconsin)', 2),\n",
              " ('Localidades_del_condado_de_Norman', 4),\n",
              " ('Religiosos_de_Francia_del_siglo_VI', 1),\n",
              " ('Pueblos_de_Wisconsin', 51),\n",
              " ('Deportistas_de_El_Salvador_en_los_Juegos_OlÃ\\xadmpicos_de_PekÃ\\xadn_2008',\n",
              "  1),\n",
              " ('Futbolistas_del_Club_AtlÃ©tico_3_de_Febrero', 5),\n",
              " ('AcadÃ©micos_e_investigadores_de_la_Universidad_Nacional_AutÃ³noma_de_MÃ©xico',\n",
              "  13),\n",
              " ('Alumnado_de_la_Universidad_Nacional_AutÃ³noma_de_MÃ©xico', 10),\n",
              " ('Profesores_de_la_Universidad_Iberoamericana', 3),\n",
              " ('Centros_comerciales_de_MÃ©xico', 1),\n",
              " ('Ã\\x81lbumes_demo', 1),\n",
              " ('Futbolistas_del_Montevideo_Wanderers_FÃºtbol_Club', 12),\n",
              " ('Grupos_de_mÃºsica_formados_en_los_aÃ±os_1980', 16),\n",
              " ('ConsejerÃ\\xadas_de_la_Junta_de_Extremadura', 3),\n",
              " ('Santos_catÃ³licos_de_Alemania_del_siglo_XI', 2),\n",
              " ('ArchipiÃ©lagos_e_islas_del_krai_de_Primorie', 1),\n",
              " ('FC_Swarovski_Tirol', 1),\n",
              " ('Grupos_de_mÃºsica_renacentista', 4),\n",
              " ('Turismo_en_RÃ\\xado_de_Janeiro', 3),\n",
              " ('Derecho_laboral_por_paÃ\\xads', 1),\n",
              " ('GeografÃ\\xada_de_Pachuca', 1),\n",
              " ('Escritores_de_la_Antigua_Grecia', 12),\n",
              " ('Futbolistas_de_Italia_en_la_Eurocopa_2016', 3),\n",
              " ('Futbolistas_de_la_selecciÃ³n_de_fÃºtbol_sub-20_de_Italia', 12),\n",
              " ('Nobleza_de_Reino_Unido', 5),\n",
              " ('Monjes_budistas_de_Estados_Unidos', 1),\n",
              " ('Monjes_budistas_de_JapÃ³n', 6),\n",
              " ('Historia_militar_de_la_RepÃºblica_DemocrÃ¡tica_del_Congo', 1),\n",
              " ('Escritores_de_Alemania_del_siglo_XVIII', 4),\n",
              " ('GeografÃ\\xada_de_Eslovaquia', 3),\n",
              " ('2012_por_paÃ\\xads', 10),\n",
              " ('Ministerios_de_Portugal', 1),\n",
              " ('Museos_de_EspaÃ±a_de_los_aÃ±os_1980', 4),\n",
              " ('CosmÃ©ticos', 5),\n",
              " ('Inundaciones_en_Europa', 2),\n",
              " ('PolÃ\\xadtica_por_aÃ±o', 46),\n",
              " ('Entrenadores_del_Olimpia_Milano', 1),\n",
              " ('DivisiÃ³n-A', 1),\n",
              " ('Edificios_y_estructuras_terminadas_en_el_siglo_XXV_a._C.', 1),\n",
              " ('AÃ±os_en_Checoslovaquia', 3),\n",
              " ('Videojuegos_de_rol_de_acciÃ³n', 14),\n",
              " ('Personas_por_milenio', 1),\n",
              " ('Municipios_de_los_PaÃ\\xadses_Bajos_por_provincia', 1),\n",
              " ('Obras_literarias_de_los_aÃ±os_1660', 1),\n",
              " ('PolÃ\\xadtica_en_1782', 2),\n",
              " ('Organizaciones_desaparecidas_en_el_siglo_XX', 1),\n",
              " ('Cuadros_por_dÃ©cada', 1),\n",
              " ('Wikipedia:ArtÃ\\xadculos_con_identificadores_BCIN', 28),\n",
              " ('Parques_nacionales_de_RepÃºblica_Popular_China', 2),\n",
              " ('Batallas_de_Suecia_por_siglo', 1),\n",
              " ('PolÃ\\xadtica_en_1855', 2),\n",
              " ('Fallecidos_en_1813', 9),\n",
              " ('Ã\\x81lbumes_en_vivo_de_2001', 3),\n",
              " ('\"Futbolistas_del_Club_AtlÃ©tico_de_Madrid_\"\"B\"\"\"', 21),\n",
              " ('Series_de_televisiÃ³n_de_detectives', 5),\n",
              " ('Futbolistas_de_EspaÃ±a_en_los_Juegos_OlÃ\\xadmpicos_de_Amberes_1920', 1),\n",
              " ('Anexos:Monumentos_de_MÃ©xico_por_municipio', 7),\n",
              " ('Alemanes_del_siglo_XIX', 3),\n",
              " ('Arquitectura_moderna_en_Nueva_York', 4),\n",
              " ('Muscisaxicola', 3),\n",
              " ('Grupos_de_mÃºsica_formados_en_2010', 10),\n",
              " ('Primates_sin_datos_suficientes_sobre_conservaciÃ³n', 1),\n",
              " ('Sumo', 2),\n",
              " ('PelÃ\\xadculas_de_1945', 4),\n",
              " ('Series_de_televisiÃ³n_de_EspaÃ±a_de_los_aÃ±os_2010', 16),\n",
              " ('Departamento_TafÃ\\xad_Viejo', 1),\n",
              " ('ZoolÃ³gicos_de_Nuevo_MÃ©xico', 2),\n",
              " ('Escritores_de_los_PaÃ\\xadses_Bajos_del_siglo_XX', 8),\n",
              " ('Sistemas_de_InformaciÃ³n_GeogrÃ¡fica', 3),\n",
              " ('Estaciones_ferroviarias_cerradas_de_EspaÃ±a', 6),\n",
              " ('LÃ\\xadnea_Moreda-Granada', 1),\n",
              " ('PelÃ\\xadculas_basadas_en_historietas', 11),\n",
              " ('PelÃ\\xadculas_infantiles', 47),\n",
              " ('Futbolistas_de_Lomas_de_Zamora', 4),\n",
              " ('Manuscritos_por_siglo', 1),\n",
              " ('Haciendas', 1),\n",
              " ('Hoplosaenidea', 4),\n",
              " ('Ã\\x81lbumes_en_vivo_de_2012', 3),\n",
              " ('Cultura_de_Italia', 6),\n",
              " ('Palacios_reales', 4),\n",
              " ('Zepherina', 5),\n",
              " ('EsquÃ\\xad_en_2015', 1),\n",
              " ('Corregidores_de_PerÃº', 4),\n",
              " ('Literatura_en_esperanto', 2),\n",
              " ('Podargus', 1),\n",
              " ('MÃºsicos_de_Argentina_por_gÃ©nero', 1),\n",
              " ('Escultura_por_siglo', 1),\n",
              " ('AÃ±os_60', 2),\n",
              " ('FarmacÃ©uticos_de_Guatemala', 1),\n",
              " ('Localidades_de_Colonia', 2),\n",
              " ('Actores_de_teatro_de_Argentina', 38),\n",
              " ('Estadios_de_Uruguay', 1),\n",
              " ('Municipios_de_ParanÃ¡_(Brasil)', 2),\n",
              " ('Premios_de_televisiÃ³n_de_Chile', 1),\n",
              " ('Anura', 6),\n",
              " ('Sinagogas_de_Toronto', 1),\n",
              " ('Bibliotecas_de_TurkmenistÃ¡n', 1),\n",
              " ('Futbolistas_del_Darlington_Football_Club', 2),\n",
              " ('Personajes_de_la_mitologÃ\\xada_griega_por_ascendencia', 2),\n",
              " ('Leptobarbus', 1),\n",
              " ('Puentes_de_Tailandia_del_siglo_XX', 3),\n",
              " ('Arquitectura_moderna_en_Ecuador', 3),\n",
              " ('PelÃ\\xadculas_de_acciÃ³n_de_Estados_Unidos', 10),\n",
              " ('PelÃ\\xadculas_de_la_guerra_de_Vietnam', 2),\n",
              " ('Iglesias_de_la_Comunidad_Valenciana_del_siglo_XIII', 1),\n",
              " ('Ruta_de_los_Borja', 1),\n",
              " ('Mesorregiones_de_AmapÃ¡', 1),\n",
              " ('Cantantes_del_Reino_Unido', 5),\n",
              " ('Abogados_de_la_Ciudad_de_MÃ©xico', 5),\n",
              " ('Alumnado_de_la_Universidad_del_Valle_de_MÃ©xico', 1),\n",
              " ('Futbolistas_del_Club_Social_y_Deportivo_TristÃ¡n_SuÃ¡rez', 3),\n",
              " ('Cultura_de_Bulgaria', 1),\n",
              " ('Actores_de_Paraguay', 1),\n",
              " ('Apioideae', 5),\n",
              " ('Antiguos_bosques_nacionales_de_Estados_Unidos', 1),\n",
              " ('Campeonato_nacional_de_Estados_Unidos_1903', 1),\n",
              " ('Futbolistas_del_Club_AtlÃ©tico_de_Madrid_Femenino', 3),\n",
              " ('FÃºtbol_en_los_Juegos_Suramericanos', 3),\n",
              " ('Edificios_y_estructuras_de_Birmingham', 1),\n",
              " ('Baloncestistas_del_Saski-Baskonia', 19),\n",
              " ('MinerÃ\\xada_del_carbÃ³n', 1),\n",
              " ('ArquidiÃ³cesis_de_Mercedes-LujÃ¡n', 1),\n",
              " ('Funcionarios_de_EspaÃ±a', 8),\n",
              " ('Escritores_de_Inglaterra_por_gÃ©nero', 3),\n",
              " ('SatÃ\\xadricos_por_paÃ\\xads', 1),\n",
              " ('Edificios_y_estructuras_de_BrunÃ©i', 1),\n",
              " ('Chiapa_de_Corzo', 1),\n",
              " ('Software_libre', 32),\n",
              " ('Animales_descritos_en_1885', 5),\n",
              " ('Lepturinae', 3),\n",
              " ('Programas_de_televisiÃ³n_de_Cuatro', 12),\n",
              " ('Futbolistas_del_Sevilla_FÃºtbol_Club_en_los_aÃ±os_1990', 5),\n",
              " ('Rosaledas_de_EspaÃ±a', 1),\n",
              " ('Grandes_Cancilleres', 9),\n",
              " ('Grupos_de_teatro', 2),\n",
              " ('Ã\\x81lbumes_en_vivo_de_2004', 2),\n",
              " ('FilosofÃ\\xada_del_amor', 1),\n",
              " ('Plantas_descritas_en_los_aÃ±os_1770', 1),\n",
              " ('FÃºtbol_en_los_PaÃ\\xadses_Bajos_por_territorio_dependiente', 1),\n",
              " ('Coaliciones_electorales_de_EspaÃ±a_formadas_para_concurrir_a_las_elecciones_al_Parlamento_Europeo_de_2014',\n",
              "  1),\n",
              " ('Futbolistas_de_BÃ©lgica_en_la_Copa_Mundial_de_1998', 1),\n",
              " ('Futbolistas_del_Lierse_SK', 2),\n",
              " ('Nobles_de_Francia_del_siglo_XII', 7),\n",
              " ('Ciencia_por_dÃ©cada', 5),\n",
              " ('Organizaciones_fundadas_en_1961', 1),\n",
              " ('Condecoraciones_de_SudÃ¡frica', 1),\n",
              " ('Relaciones_internacionales_de_SudÃ¡frica', 2),\n",
              " ('Cuentos_del_siglo_XXI', 1),\n",
              " ('Artistas_de_MichoacÃ¡n', 3),\n",
              " ('Huracanes_en_CanadÃ¡', 1),\n",
              " ('Giras_musicales_de_2015', 9),\n",
              " ('Giras_musicales_de_Super_Junior', 1),\n",
              " ('DiÃ³cesis_creadas_por_Benedicto_XVI', 2),\n",
              " ('Arquitectura_de_Alemania_del_siglo_XIX', 6),\n",
              " ('Localidades_de_Londres', 3),\n",
              " ('PenÃ\\xadnsulas_de_las_islas_Malvinas', 1),\n",
              " ('Mariscales_de_campo_de_Austria', 3),\n",
              " ('Novelas_de_los_aÃ±os_2010', 1),\n",
              " ('Futbolistas_de_la_selecciÃ³n_de_fÃºtbol_de_MÃ©xico_en_los_aÃ±os_2020', 2),\n",
              " ('Futbolistas_del_QuerÃ©taro_FÃºtbol_Club', 19),\n",
              " ('TriarquÃ\\xada_de_Negroponte', 1),\n",
              " ('Canciones_sobre_muerte', 4),\n",
              " ('Egipto_en_el_siglo_XXI', 1),\n",
              " ('Animales_descritos_en_1887', 4),\n",
              " ('Plantas_descritas_por_Lindley', 16),\n",
              " ('Baloncestistas_de_los_Carolina_Cougars', 2),\n",
              " ('Futbolistas_del_Al-Ahli_Doha', 1),\n",
              " ('Reinas_de_belleza', 18),\n",
              " ('CrustÃ¡ceos_del_mar_MediterrÃ¡neo', 3),\n",
              " ('Iglesias_barrocas_de_AndalucÃ\\xada', 6),\n",
              " ('Cuadros_de_1884', 1),\n",
              " ('Triatletas_de_los_PaÃ\\xadses_Bajos', 4),\n",
              " ('Emigrantes_de_Chile', 2),\n",
              " ('Pintores_del_academicismo', 2),\n",
              " ('Tratados_de_HungrÃ\\xada', 2),\n",
              " ('Tratados_de_Luxemburgo', 2),\n",
              " ('Chrysomelidae', 17),\n",
              " ('AÃ±os_en_Mongolia', 2),\n",
              " ('Antiguos_impuestos_de_EspaÃ±a', 7),\n",
              " ('Futbolistas_de_la_selecciÃ³n_de_fÃºtbol_de_Burundi', 1),\n",
              " ('Deporte_en_BerlÃ\\xadn', 1),\n",
              " ('Temporada_2014-15_de_FÃ³rmula_E', 1),\n",
              " ('Reinas_consortes_de_Lotaringia', 1),\n",
              " ('Mujeres_militares', 1),\n",
              " ('Grupos_de_rock_de_Estados_Unidos', 15),\n",
              " ('Grupos_de_rock_de_Navarra', 1),\n",
              " ('Escudos_con_canguros', 2),\n",
              " ('Escudos_con_toros', 3),\n",
              " ('Grupos_empresariales_de_Estados_Unidos', 2),\n",
              " ('FÃºtbol_en_Argentina_en_2015', 2),\n",
              " ('Yudocas_de_AzerbaiyÃ¡n', 2),\n",
              " ('Deportistas_de_Vizcaya', 5),\n",
              " ('2011_por_paÃ\\xads', 7),\n",
              " ('Ã\\x81lbumes_de_Finger_Eleven', 2),\n",
              " ('Intersexuales', 3),\n",
              " ('Revistas_desaparecidas_de_Suecia', 1),\n",
              " ('Parroquias_de_AbadÃ\\xadn', 3),\n",
              " ('Casos_judiciales_por_materia', 2),\n",
              " ('Frameworks_para_aplicaciones_web', 1),\n",
              " ('JudaÃ\\xadsmo_en_MÃ©xico', 1),\n",
              " ('Deporte_en_Bangkok', 1),\n",
              " ('Historia_econÃ³mica_del_siglo_XVIII_en_EspaÃ±a', 1),\n",
              " ('Museos_de_la_provincia_de_Albacete', 2),\n",
              " ('Alumnado_de_la_Universidad_de_Wurzburgo', 6),\n",
              " ('Isla_Livingston', 2),\n",
              " ('Compositores_de_Suiza', 2),\n",
              " ('Pintores_de_PerÃº_del_siglo_XX', 4),\n",
              " ('Escritores_de_Escocia_del_siglo_XVII', 1),\n",
              " ('PelÃ\\xadculas_de_1986', 18),\n",
              " ('Fumigantes', 1),\n",
              " ('Mujeres_ficticias', 6),\n",
              " ('Medallistas_olÃ\\xadmpicos_de_oro_de_Atlanta_1996', 6),\n",
              " ('Medallistas_olÃ\\xadmpicos_de_oro_de_los_PaÃ\\xadses_Bajos', 4),\n",
              " ('Futbolistas_del_Club_AtlÃ©tico_Sarmiento_(JunÃ\\xadn)', 11),\n",
              " ('Alumnado_de_la_Universidad_Estatal_de_MoscÃº', 4),\n",
              " ('MÃºsica_en_1741', 1),\n",
              " ('Historiadores_de_Ecuador', 2),\n",
              " ('SociÃ³logas_de_EspaÃ±a', 3),\n",
              " ('Literatura_maya', 2),\n",
              " ('ArcÃ¡ngeles', 1),\n",
              " ('Equipos_de_fÃºtbol_militares', 4),\n",
              " ('Grupos_de_rock_de_Ecuador', 5),\n",
              " ('Fauna_endÃ©mica_de_Antioquia', 1),\n",
              " ('Carlistas_de_las_Islas_Baleares', 1),\n",
              " ('Condecorados_con_la_Cruz_Laureada_de_San_Fernando', 16),\n",
              " ('PelÃ\\xadculas_de_Buena_Vista_Pictures', 1),\n",
              " ('Condado_de_Emery', 1),\n",
              " ('Fallecidos_en_1412', 1),\n",
              " ('Objetos_astronÃ³micos_descubiertos_por_Ingrid_van_Houten-Groeneveld', 16),\n",
              " ('Objetos_de_DC_Comics', 3),\n",
              " ('Batallas_de_Inglaterra_del_siglo_XV', 2),\n",
              " ('Objetos_astronÃ³micos_descubiertos_desde_el_Observatorio_de_Berna-Zimmerwald',\n",
              "  4),\n",
              " ('Gobierno_de_MÃ©xico', 4),\n",
              " ('Prisiones_de_MÃ©xico', 3),\n",
              " ('Ciclismo_en_1962', 1),\n",
              " ('Ciclistas_de_Italia', 43),\n",
              " ('Apellidos_por_familias', 29),\n",
              " ('Escritoras_de_Uruguay', 9),\n",
              " ('Campeonato_Sudamericano_de_Gimnasia_RÃ\\xadtmica', 1),\n",
              " ('Objetos_astronÃ³micos_descubiertos_desde_la_EstaciÃ³n_PiszkÃ©stetÅ\\x91', 2),\n",
              " ('Edificios_y_estructuras_de_Dodoma', 1),\n",
              " ('DiÃ³cesis_de_Albany', 1),\n",
              " ('TraducciÃ³n_asistida', 1),\n",
              " ('Valle_inferior_del_rÃ\\xado_Chubut', 1),\n",
              " ('Ciencia_de_los_aÃ±os_1380', 1),\n",
              " ('Sociedades_e_institutos_aprobados_por_Pablo_VI', 4),\n",
              " ('Canciones_de_2011', 10),\n",
              " ('Artistas_por_discogrÃ¡fica', 20),\n",
              " ('Estaciones_de_la_lÃ\\xadnea_University_Link', 1),\n",
              " ('Wikipedia:Wikipedistas_por_aÃ±o_de_nacimiento', 4),\n",
              " ('Escritores_de_Italia_del_siglo_XVIII', 3),\n",
              " ('Italianas_del_siglo_XIX', 4),\n",
              " ('Baloncestistas_del_Virtus_Pallacanestro_Bologna', 14),\n",
              " ('Novelas_de_MÃ©xico_del_siglo_XX', 2),\n",
              " ('Alumnado_de_la_Universidad_de_Minnesota', 7),\n",
              " ('Cuadros_de_los_aÃ±os_1990', 1),\n",
              " ('Jurisdicciones_greco-catÃ³licas_ucranianas', 1),\n",
              " ('FÃºtbol_en_JapÃ³n_en_1994', 1),\n",
              " ('Unidades_militares_de_Estados_Unidos', 3),\n",
              " ('Ugandeses_por_siglo', 1),\n",
              " ('Insectos_descritos_en_1849', 1),\n",
              " ('Baloncestistas_de_la_Liga_Nacional_de_Baloncesto_de_Suiza', 3),\n",
              " ('Alta_Francia', 1),\n",
              " ('BasÃ\\xadlicas_de_Francia', 6),\n",
              " ('Catedrales_de_la_regiÃ³n_de_Nueva_Aquitania', 2),\n",
              " ('Actores_masculinos_de_cine_de_JapÃ³n', 5),\n",
              " ('Ocio_al_aire_libre', 1),\n",
              " ('Turismo_por_paÃ\\xads', 8),\n",
              " ('Arte_de_1875', 1),\n",
              " ('Periodistas_de_EspaÃ±a_del_siglo_XX', 69),\n",
              " ('Partidos_polÃ\\xadticos_fundados_en_1976', 3),\n",
              " ('Baloncestistas_de_Francia_en_los_Juegos_OlÃ\\xadmpicos_de_Tokio_2020', 1),\n",
              " ('Baloncestistas_de_la_selecciÃ³n_de_Francia', 4),\n",
              " ('GÃ©neros_de_peces', 43),\n",
              " ('Trachichthyidae', 1),\n",
              " ('Tlaxco', 1),\n",
              " ('Historia_contemporÃ¡nea_de_Europa', 2),\n",
              " ('Comisarios_generales_de_Cruzada', 1),\n",
              " ('Prefectura_de_Tochigi', 1),\n",
              " ('Ferrocarriles_de_alta_velocidad_por_paÃ\\xads', 1),\n",
              " ('Sistemas_operativos_ficticios', 5),\n",
              " ('Organizaciones_de_Bielorrusia', 1),\n",
              " ('Comunistas_de_EspaÃ±a', 14),\n",
              " ('Equipos_de_fÃºtbol_por_aÃ±o_de_desapariciÃ³n', 7),\n",
              " ('Aeropuertos_por_paÃ\\xads', 10),\n",
              " ('Actores_masculinos_de_China', 2),\n",
              " ('DinastÃ\\xadas_de_China', 2),\n",
              " ('Estados_de_Asia_en_la_Edad_Media', 4),\n",
              " ('Nacidos_en_Mannheim', 4),\n",
              " ('Agaricaceae', 2),\n",
              " ('Dinamarca_en_1939', 1),\n",
              " ('CategorÃ\\xadas_de_mÃºsicos_de_CanadÃ¡', 2),\n",
              " ('Estados_y_territorios_desaparecidos_de_Alemania_por_estado', 1),\n",
              " ('Novelas_en_italiano', 9),\n",
              " ('Caprimulgus', 2),\n",
              " ('Selecciones_deportivas_de_Ghana', 1),\n",
              " ('Jugadores_de_pÃ¡del_de_EspaÃ±a', 2),\n",
              " ('Wikipedia:Userboxes_de_wikiproyectos', 19),\n",
              " ('PaÃ\\xadses_Bajos_en_2015', 1),\n",
              " ('Rally_en_1976', 1),\n",
              " ('Esgrimidores_en_los_Juegos_OlÃ\\xadmpicos_de_MÃ©xico_1968', 4),\n",
              " ('Medallistas_olÃ\\xadmpicos_de_bronce_de_Francia', 9),\n",
              " ('Medallistas_olÃ\\xadmpicos_de_plata_de_Francia', 11),\n",
              " ('Esgrimidores_de_Italia', 15),\n",
              " ('Nacidos_en_Oxford', 7),\n",
              " ('Nacidos_en_Berna', 8),\n",
              " ('Islam_por_paÃ\\xads', 7),\n",
              " ('RepÃºblica_de_Venecia_en_el_siglo_XVI', 2),\n",
              " ('Localidades_de_la_regiÃ³n_de_Dinamarca_Meridional', 17),\n",
              " ('Alumnado_del_Liceo_ValentÃ\\xadn_Letelier_de_Santiago', 1),\n",
              " ('Contadores_de_Chile', 4),\n",
              " ('PelÃ\\xadculas_ambientadas_en_Estocolmo', 1),\n",
              " ('FÃºtbol_base_en_EspaÃ±a', 1),\n",
              " ('Cuarzo', 3),\n",
              " ('Baloncestistas_del_Landstede_Basketbal', 1),\n",
              " ('Futbolistas_de_la_selecciÃ³n_de_fÃºtbol_sub-15_de_Portugal', 3),\n",
              " ('Futbolistas_del_Thespakusatsu_Gunma', 12),\n",
              " ('Medallistas_olÃ\\xadmpicos_de_oro_de_Eslovenia', 2),\n",
              " ('Nobles_de_Alemania_del_siglo_X', 4),\n",
              " ('Alumnado_de_la_Universidad_de_Buenos_Aires', 12),\n",
              " ('Futbolistas_del_Roasso_Kumamoto', 12),\n",
              " ('Ã\\x93blasts_desaparecidos_de_Rusia', 1),\n",
              " ('Programas_de_televisiÃ³n_iniciados_en_2018', 6),\n",
              " ('Futbolistas_del_Club_Deportivo_CapiatÃ¡', 1),\n",
              " ('Profesores_de_la_Pontificia_Universidad_CatÃ³lica_Madre_y_Maestra', 1),\n",
              " ('Feminismo_de_la_igualdad', 2),\n",
              " ('FilÃ³sofos_de_Estados_Unidos_del_siglo_XXI', 5),\n",
              " ('Localidades_de_La_BaÃ±a_(La_CoruÃ±a)', 7),\n",
              " ('Museos_arqueolÃ³gicos_de_Grecia', 8),\n",
              " ('Norirlandeses', 1),\n",
              " ('TomÃ©', 2),\n",
              " ('Religiosos_catÃ³licos_de_los_PaÃ\\xadses_Bajos', 1),\n",
              " ('Vida_Independiente', 1),\n",
              " ('Pilotos_de_motociclismo_de_Australia', 2),\n",
              " ('Doctores_honoris_causa_de_universidades_de_PerÃº', 3),\n",
              " ('Futbolistas_de_Corea_del_Sur_en_la_Copa_Mundial_Femenina_de_FÃºtbol_de_2019',\n",
              "  1),\n",
              " ('Arquitectos_de_Rumania', 1),\n",
              " ('PelÃ\\xadculas_ambientadas_en_Londres', 3),\n",
              " ('Nacidos_en_1397', 1),\n",
              " ('Ciclismo_en_los_PaÃ\\xadses_Bajos_en_2019', 1),\n",
              " ('Arte_del_siglo_XVII', 6),\n",
              " ('PelÃ\\xadculas_en_blanco_y_negro_de_EspaÃ±a', 16),\n",
              " ('PelÃ\\xadculas_de_Antonio_Ozores', 2),\n",
              " ('Directoras_de_cine_de_SudÃ¡frica', 1),\n",
              " ('Arquitectura_judÃ\\xada', 1),\n",
              " ('Arte_judÃ\\xado', 1),\n",
              " ('FÃºtbol_en_EspaÃ±a_en_1909', 1),\n",
              " ('Arabia_preislÃ¡mica', 1),\n",
              " ('Bienes_protegidos_de_EspaÃ±a_declarados_en_los_aÃ±os_1900', 2),\n",
              " ('Wikipedia:PÃ¡ginas_con_traducciones_del_danÃ©s', 9),\n",
              " ('Distritos_de_la_prefectura_de_Gifu', 1),\n",
              " ('Desastres_naturales_en_2020', 4),\n",
              " ('Malus_domestica', 38),\n",
              " ('ParanÃ¡_(Argentina)', 2),\n",
              " ('Escritoras_de_Francia', 20),\n",
              " ('Obispos_del_siglo_VII', 3),\n",
              " ('Municipios_de_la_RegiÃ³n_Centro', 2),\n",
              " ('Diputados_de_PerÃº_1892-1894', 5),\n",
              " ('Halle_(Sajonia-Anhalt)', 2),\n",
              " ('Selecciones_femeninas_de_fÃºtbol_sub-20', 6),\n",
              " ('Cristianos_ortodoxos_de_Ucrania', 2),\n",
              " ('Wikipedia:PÃ¡ginas_con_extractos_rotos', 2),\n",
              " ('Agentes_subvirales', 2),\n",
              " ('Empresas_de_MÃ©xico_fundadas_en_1927', 1),\n",
              " ('Duques_de_Pomerania', 2),\n",
              " ('Profesoras_de_Chile', 3),\n",
              " ('EconomÃ\\xada_de_la_UniÃ³n_Europea', 5),\n",
              " ('AÃ±os_del_siglo_XVII_por_paÃ\\xads', 8),\n",
              " ('1504', 3),\n",
              " ('Antiislamismo', 2),\n",
              " ('Ajedrez', 6),\n",
              " ('BiÃ³logos_del_siglo_XVIII', 2),\n",
              " ('NeoescolÃ¡stica', 2),\n",
              " ('Castillos_construidos_en_el_siglo_XV', 1),\n",
              " ('Cristianismo_del_siglo_XIII', 2),\n",
              " ('Museos_inaugurados_en_1990', 2),\n",
              " ('Ã\\x81lbumes_de_funk', 2),\n",
              " ('Deporte_en_Alemania_en_2021', 4),\n",
              " ('FÃºtbol_en_2020', 24),\n",
              " ('FÃºtbol_en_2021', 30),\n",
              " ('Moyobambinos', 1),\n",
              " ('Nacidos_en_Helsinki', 19),\n",
              " ('Historia_de_Estados_Unidos_(1990-presente)', 2),\n",
              " ('Youtubers_de_Corea_del_Sur', 2),\n",
              " ('Relaciones_bilaterales_de_MalÃ\\xad', 1),\n",
              " ('Estados_y_territorios_por_aÃ±o_de_fundaciÃ³n', 37),\n",
              " ('Rascacielos_de_oficinas_de_Manhattan', 14),\n",
              " ('Abogados_de_Estados_Unidos', 13),\n",
              " ('Grecia_en_2020', 2),\n",
              " ('Activistas_de_Reino_Unido', 3),\n",
              " ('EC_1.21.99', 1),\n",
              " ('Escritores_de_misterio', 6),\n",
              " ('Genes_del_cromosoma_X', 4),\n",
              " ('Esquiadores_de_fondo_con_discapacidad_de_Bielorrusia', 2),\n",
              " ('Diputados_provinciales_de_Argentina_(Salta)', 2),\n",
              " ('Jinetes_de_Australia', 1),\n",
              " ('Partidos_polÃ\\xadticos_de_HungrÃ\\xada', 2),\n",
              " ('Wikipedia:Listas_de_episodios_con_colores_de_lÃ\\xadnea_no_conformes', 8),\n",
              " ('Radio_en_1948', 1),\n",
              " ('Alumnado_de_la_Universidad_de_Artes,_Ciencias_y_ComunicaciÃ³n', 1),\n",
              " ('Interprovincial_Championship', 4),\n",
              " ('Hinterhuberinae', 1),\n",
              " ('TurquÃ\\xada_en_la_Ã©poca_romana', 1),\n",
              " ('Estados_Unidos_en_1895', 2),\n",
              " ('Premio_Goldman', 3),\n",
              " ('Conflictos_en_1973', 2),\n",
              " ('PolÃ\\xadtica_en_1973', 5),\n",
              " ('Canciones_de_EurovisiÃ³n_de_Yugoslavia', 1),\n",
              " ('Personas_de_Zielona_GÃ³ra', 1),\n",
              " ('Religiosos_de_Macedonia_del_Norte', 1),\n",
              " ('Centenarios_de_Filipinas', 1),\n",
              " ('Patinadores_de_EspaÃ±a', 1),\n",
              " ('TeÃ³logos_de_EspaÃ±a_del_siglo_XVI', 5),\n",
              " ('Arquitectura_del_siglo_III_a._C.', 2),\n",
              " ('Periodistas_deportivos_por_paÃ\\xads', 3),\n",
              " ('Canciones_de_Myke_Towers', 1),\n",
              " ('Cuadros_de_1673', 1),\n",
              " ('PasiÃ³n_de_JesÃºs_en_la_pintura', 3),\n",
              " ('Pintura_de_EspaÃ±a_del_siglo_XVII', 4),\n",
              " ('Fallecidos_en_EspaÃ±a_por_localidad', 18),\n",
              " ('Canciones_de_Coldplay', 2),\n",
              " ('TecnologÃ\\xada_de_vÃ\\xaddeo_y_cine', 13),\n",
              " ('MediÃ¡ticos_de_Alemania', 1),\n",
              " ('Tiradores_en_los_Juegos_OlÃ\\xadmpicos_de_Londres_2012', 1),\n",
              " ('Arquitectura_de_Cantabria', 1),\n",
              " ('Localidades_de_Tripura', 2),\n",
              " ('Wikipedia:ArtÃ\\xadculos_con_texto_en_suajili', 2),\n",
              " ('Historia_de_la_informÃ¡tica', 4),\n",
              " ('Cultivos_originarios_de_Colombia', 1),\n",
              " ('Personajes_del_Ramayana', 2),\n",
              " ('1903', 1),\n",
              " ('Ciencia_de_los_aÃ±os_1900', 3),\n",
              " ('CÃ¡lculo_tensorial', 3),\n",
              " ('Generales_de_Israel', 5),\n",
              " ('Traductores_del_inglÃ©s_al_alemÃ¡n', 2),\n",
              " ('Escritores_en_sÃ¡nscrito', 8),\n",
              " ('Fallecidos_en_1882', 18),\n",
              " ('Alumnado_de_la_Universidad_de_MÃ\\xadchigan', 15),\n",
              " ('Diputados_de_la_LVII_Legislatura_de_MÃ©xico', 9),\n",
              " ('Palermo_(Buenos_Aires)', 7),\n",
              " ('Provincia_de_Santiago_de_Chuco', 1),\n",
              " ('Naranja', 1),\n",
              " ('Peregrinaciones_cristianas', 3),\n",
              " ('Organizaciones_polÃ\\xadticas_de_la_Comunidad_Valenciana', 2),\n",
              " ('FilosofÃ\\xada_en_MÃ©xico', 2),\n",
              " ('FilÃ³sofos_por_paÃ\\xads', 3),\n",
              " ('Futbolistas_de_la_selecciÃ³n_de_fÃºtbol_de_EspaÃ±a_en_los_aÃ±os_2000', 1),\n",
              " ('Futbolistas_de_la_selecciÃ³n_de_fÃºtbol_de_EspaÃ±a_en_los_aÃ±os_2010', 5),\n",
              " ('Rabinos_del_siglo_XVI', 1),\n",
              " ('Empresas_fundadas_en_1995', 5),\n",
              " ('Localidades_establecidas_en_1888', 1),\n",
              " ('Jamaiquinos_por_actividad', 1),\n",
              " ('Videojuegos_con_versiones_alternativas', 3),\n",
              " ('Videojuegos_de_Game_Freak', 3),\n",
              " ('Derecho_administrativo_de_EspaÃ±a', 6),\n",
              " ('Fallecidos_por_cÃ¡ncer_en_la_RepÃºblica_Popular_China', 1),\n",
              " ('DÃ³lar_(moneda)', 1),\n",
              " ('Duquesas_de_York', 2),\n",
              " ('Pubertad', 2),\n",
              " ('Trabajo', 3),\n",
              " ('AdministraciÃ³n_local_de_EspaÃ±a', 2),\n",
              " ('PelÃ\\xadculas_ambientadas_en_los_aÃ±os_1930', 9),\n",
              " ('Baloncestistas_de_Estados_Unidos_en_los_Juegos_OlÃ\\xadmpicos_de_PekÃ\\xadn_2008',\n",
              "  2),\n",
              " ('Partidos_polÃ\\xadticos_chilenos_de_izquierda', 5),\n",
              " ('GER', 14),\n",
              " ('Obispos_de_MÃ©xico_del_siglo_XVII', 2),\n",
              " ('Iglesias_de_la_Comunidad_Valenciana_del_siglo_XVII', 2),\n",
              " ('Historia_moderna_de_la_RegiÃ³n_de_Murcia', 5),\n",
              " ('Municipio_Rivas_DÃ¡vila', 1),\n",
              " ('CrÃ\\xadticos_literarios_de_EspaÃ±a_del_siglo_XVIII', 2),\n",
              " ('Personas_de_MonzÃ³n', 1),\n",
              " ('CatedrÃ¡ticos_de_la_Universidad_de_Salamanca', 13),\n",
              " ('Alumnado_del_University_College_(Oxford)', 1),\n",
              " ('Fallecidos_en_TurÃ\\xadn', 10),\n",
              " ('Catedrales_de_MÃ©xico_del_siglo_XX', 1),\n",
              " ('Alemania_en_la_Segunda_Guerra_Mundial', 8),\n",
              " ('Cultura_de_Filipinas', 3),\n",
              " ('ZÃ³calos_de_Intel', 2),\n",
              " ('Patrulleros_del_PerÃº', 1),\n",
              " ('Comunismo_en_Palestina', 1),\n",
              " ('Futbolistas_de_la_Real_Sociedad_de_FÃºtbol_en_los_aÃ±os_1970', 6),\n",
              " ('Embajadores_de_Uruguay_en_el_Reino_Unido', 1),\n",
              " ('Medallistas_olÃ\\xadmpicos_de_bronce_de_SÃ\\xaddney_2000', 10),\n",
              " ('Asentamientos_de_Nuevo_MÃ©xico', 1),\n",
              " ('GeografÃ\\xada_del_departamento_de_Oise', 1),\n",
              " ('RÃ\\xados_de_la_regiÃ³n_de_Alta_Francia', 1),\n",
              " ('GastronomÃ\\xada_de_Semana_Santa', 4),\n",
              " ('Artistas', 4),\n",
              " ('Partido_de_Puan', 3),\n",
              " ('JudÃ\\xados_ficticios', 1),\n",
              " ('Rinpoches', 2),\n",
              " ('Cantantes_de_pop_de_Chile', 4),\n",
              " ('Emigrantes_de_Cuba', 1),\n",
              " ('Periodistas_de_Cuba', 4),\n",
              " ('HepatologÃ\\xada', 3),\n",
              " ('Edificios_ficticios', 3),\n",
              " ('Desarrolladores_de_la_FundaciÃ³n_Mozilla', 2),\n",
              " ('Localidades_de_la_provincia_de_Barcelona', 25),\n",
              " ('Sepultados_en_el_Cementerio_General_de_la_Ciudad_de_Guatemala', 2),\n",
              " ('Austria_en_2004', 1),\n",
              " ('Canciones_de_Nirvana', 5),\n",
              " ('Nacidos_en_1638', 5),\n",
              " ('Objetos_astronÃ³micos', 3),\n",
              " ('Arquitectura_del_siglo_XVII', 5),\n",
              " ('Monasterios_budistas', 1),\n",
              " ('Antiguas_ciudades_griegas_macedonias', 4),\n",
              " ('Series_de_anime_realizadas_por_Nippon_Animation', 4),\n",
              " ('Eventos_anuales_de_Londres', 2),\n",
              " ('Malpighia', 1),\n",
              " ('Cronistas_de_EspaÃ±a', 4),\n",
              " ('Personas_de_la_provincia_de_Guadalajara', 1),\n",
              " ('Nacidos_en_el_siglo_XVII', 13),\n",
              " ('Obispos_de_Valencia_(Venezuela)', 1),\n",
              " ('Personas_sin_identificar', 4),\n",
              " ('Banqueros_de_PerÃº', 4),\n",
              " ('Militares_britÃ¡nicos_de_las_guerras_revolucionarias_francesas', 1),\n",
              " ('Futbolistas_del_Southend_United_Football_Club', 3),\n",
              " ('Vitorianas', 6),\n",
              " ('Futbolistas_de_la_selecciÃ³n_de_fÃºtbol_sub-23_de_MÃ©xico', 5),\n",
              " ('PelÃ\\xadculas_de_1971', 15),\n",
              " ('Cantantes_de_Florida', 6),\n",
              " ('Nacidos_en_1802', 13),\n",
              " ('Prefectura_de_Å\\x8cita', 1),\n",
              " ('RÃ\\xados_de_la_Guayana_Esequiba', 1),\n",
              " ('Machairodontinae', 3),\n",
              " ('Wikiproyecto:Francia', 1),\n",
              " ('Futbolistas_del_Deportivo_Cali', 27),\n",
              " ('Puentes_inaugurados_en_1972', 2),\n",
              " ('Condecorados_con_la_Rosa_de_Oro', 4),\n",
              " ('Mujeres_de_BÃ©lgica_del_siglo_XX', 4),\n",
              " ('Estados_desaparecidos_por_continente', 1),\n",
              " ('Grupos_de_mÃºsica_de_Estados_Unidos_por_estado', 4),\n",
              " ('Inventores_de_Alemania_del_siglo_XIX', 3),\n",
              " ('Estaciones_del_Metro_de_MoscÃº_inauguradas_en_1952', 1),\n",
              " ('Paul_McCartney', 1),\n",
              " ('Browningia', 2),\n",
              " ('Plantas_descritas_en_1920', 3),\n",
              " ('Nacidos_en_Tiflis', 20),\n",
              " ('Grupos_de_rock_and_roll', 2),\n",
              " ('Burkholderiales', 6),\n",
              " ('Fallecidos_en_259', 1),\n",
              " ('Historia_de_Navarra', 8),\n",
              " ('Futbolistas_del_Club_Estudiantes_de_La_Plata', 18),\n",
              " ('Futbolistas_del_Club_Sportivo_Belgrano_(San_Francisco)', 6),\n",
              " ('Futbolistas_del_Hapoel_Haifa', 3),\n",
              " ('Comunas_del_Valais', 6),\n",
              " ('Estaciones_de_la_lÃ\\xadnea_11_del_metro_de_ParÃ\\xads', 1),\n",
              " ('Historia_de_Polonia', 6),\n",
              " ('Ciencia_y_tecnologÃ\\xada_de_Noruega', 1),\n",
              " ('EconomÃ\\xada_de_Noruega', 1),\n",
              " ('Suaeda', 1),\n",
              " ('Obras_de_1964', 2),\n",
              " ('VehÃ\\xadculos_desarrollados_por_la_GM_Korea', 1),\n",
              " ('Empresarios_de_Francia', 7),\n",
              " ('Wikipedia:Candidatos_a_recursos_destacados', 21),\n",
              " ('Fallecidos_en_Lieja', 5),\n",
              " ('Editoriales_de_Francia', 5),\n",
              " ('Juristas_de_Albacete', 4),\n",
              " ('Futbolistas_de_Lima', 12),\n",
              " ('Tipos_abstractos_de_datos', 2),\n",
              " ('BotÃ¡nicos_de_Suiza_del_siglo_XIX', 6),\n",
              " ('Localidades_de_Alpes_de_Alta_Provenza', 13),\n",
              " ('Historia_de_Camboya', 3),\n",
              " ('Melochia', 1),\n",
              " ('Militares_de_los_PaÃ\\xadses_Bajos_del_siglo_XVI', 1),\n",
              " ('Militares_de_Navarra', 11),\n",
              " ('AgrÃ³nomos_de_Francia', 3),\n",
              " ('PsicÃ³logos_evolucionistas', 1),\n",
              " ('Historia_de_Bolivia_por_tema', 1),\n",
              " ('Historia_numismÃ¡tica', 2),\n",
              " ('Secuestrados_por_ETA', 1),\n",
              " ('Unitarismo', 1),\n",
              " ('Wikipedia:Wikificar_religiÃ³n', 4),\n",
              " ('Serbios_del_siglo_XIX', 2),\n",
              " ('Equipos_de_fÃºtbol_fundados_en_1923', 9),\n",
              " ('Dactylorhiza', 1),\n",
              " ('Casonas_montaÃ±esas', 1),\n",
              " ('Nacidos_en_Palma_de_Mallorca', 31),\n",
              " ('Equipos_de_la_Kategoria_e_ParÃ«', 2),\n",
              " ('Zygopetalum', 1),\n",
              " ('Profesores_de_Cuba', 4),\n",
              " ('Grupos_de_rock_de_la_Comunidad_de_Madrid', 9),\n",
              " ('465', 1),\n",
              " ('ArchipiÃ©lagos_e_islas_del_mar_de_Ojotsk_de_Rusia', 1),\n",
              " ('Profesores_de_universidades_de_Francia', 2),\n",
              " ('Wrightieae', 2),\n",
              " ('Goyanos', 1),\n",
              " ('Colombia_en_2008', 1),\n",
              " ('Estadios_de_fÃºtbol_del_PaÃ\\xads_Vasco_del_siglo_XX', 1),\n",
              " ('All-American', 9),\n",
              " ('ErevÃ¡n', 3),\n",
              " ('IX_Legislatura_de_EspaÃ±a', 5),\n",
              " ('Militares_de_la_ExpediciÃ³n_Libertadora_al_Paraguay', 2),\n",
              " ('MÃºsicos_de_tango_de_Argentina', 6),\n",
              " ('Expediciones_cientÃ\\xadficas', 5),\n",
              " ('Grecia_por_siglo', 4),\n",
              " ('Desinfectantes', 4),\n",
              " ('Pianistas_de_Estados_Unidos', 12),\n",
              " ('Flora_de_Macaronesia', 3),\n",
              " ('Iris', 3),\n",
              " ('Harderwijk', 1),\n",
              " ('Baloncestistas_de_Misuri', 1),\n",
              " ('Masones_de_Honduras', 1),\n",
              " ('PolÃ\\xadticos_de_Honduras', 8),\n",
              " ('Futbolistas_de_la_selecciÃ³n_de_fÃºtbol_de_Chile_en_los_aÃ±os_1940', 1),\n",
              " ('Linarenses_(Chile)', 2),\n",
              " ('Series_de_televisiÃ³n_iniciadas_en_2007', 11),\n",
              " ('Sushi', 3),\n",
              " ('Composiciones_por_instrumento', 1),\n",
              " ('Localidades_de_la_provincia_de_Santiago', 1),\n",
              " ('Nobles_de_EspaÃ±a_del_siglo_XVII', 9),\n",
              " ('Fallecidos_en_1930', 22),\n",
              " ('Chile_en_1946', 1),\n",
              " ('Historia_de_Carabineros_de_Chile', 1),\n",
              " ('Orden_Playa_GirÃ³n', 3),\n",
              " ...]"
            ]
          },
          "metadata": {},
          "execution_count": 63
        }
      ]
    },
    {
      "cell_type": "markdown",
      "metadata": {
        "id": "VADPplrhVmX2"
      },
      "source": [
        "## 25) Obtenga con spark los datos (de forma ya agregada) que le permitan realizar la siguiente visualización y realice la misma\n",
        "\n",
        "<img src= \"https://drive.google.com/uc?id=1_kxX9qFwo6zBa3lp3p_mDYG16L4Y5VCE\" width=\"65%\">"
      ]
    },
    {
      "cell_type": "code",
      "metadata": {
        "id": "C4yyTPh92iro"
      },
      "source": [
        "logs = spark.read.format(\"csv\").option(\"header\", True).load('gdrive/My Drive/Organización de datos/Wikipedia dataset 2c2021.zip (Unzipped Files)/logs.csv')\n",
        "rdd_logs = logs.rdd"
      ],
      "execution_count": null,
      "outputs": []
    },
    {
      "cell_type": "markdown",
      "metadata": {
        "id": "5GE3WesD1_BK"
      },
      "source": [
        "Me quedo con los usuarios registrados (esta registrado tiene id y username). Despues me quedo con las acciones seleccionadas para hacer el heatmap y me quedo con la accion y el usuario que la realizo"
      ]
    },
    {
      "cell_type": "code",
      "metadata": {
        "id": "yvNJiZCNrsSZ"
      },
      "source": [
        "actions_by_registered_users = rdd_logs.filter(lambda x: x.action!=None and x.contributor_username!=None and x.contributor_id!=None)\n",
        "\n",
        "def is_selected_action(action): \n",
        "  selected_actions = ['move', 'delete', 'create', 'block', 'autocreate']\n",
        "  if(action in selected_actions):\n",
        "      return True\n",
        "  return False\n",
        "\n",
        "selected_actions_registered_users = actions_by_registered_users.filter(lambda x: is_selected_action(x.action)).map(lambda x: ((x.action, x.contributor_username), 1)).cache()"
      ],
      "execution_count": null,
      "outputs": []
    },
    {
      "cell_type": "markdown",
      "metadata": {
        "id": "SVa0Tq4_EdNM"
      },
      "source": [
        "De este rdd obtengo la cantidad total de usuarios: "
      ]
    },
    {
      "cell_type": "code",
      "metadata": {
        "id": "K7IwrrAjEfsE"
      },
      "source": [
        "total_users= selected_actions_registered_users.count()"
      ],
      "execution_count": null,
      "outputs": []
    },
    {
      "cell_type": "markdown",
      "metadata": {
        "id": "CiOB_FqCEkrA"
      },
      "source": [
        "Cuento el total por tuplas (accion, username) para tener la cantidad de esa accion que realizo ese usuario"
      ]
    },
    {
      "cell_type": "code",
      "metadata": {
        "colab": {
          "base_uri": "https://localhost:8080/"
        },
        "id": "H2cy-MaJ7Wz8",
        "outputId": "bbd2740d-ea0e-4d91-9005-d1d4298f8984"
      },
      "source": [
        "amount_actions_users = selected_actions_registered_users.reduceByKey(lambda x, y: x+y).map(lambda x: (x[0][1], list((x[0][0], x[1]))))\n",
        "amount_actions_users.take(20)"
      ],
      "execution_count": null,
      "outputs": [
        {
          "output_type": "execute_result",
          "data": {
            "text/plain": [
              "[('ManuelGR', ['delete', 295]),\n",
              " ('Ecemaml', ['move', 3473]),\n",
              " ('Hugo López', ['move', 34]),\n",
              " ('Xenoforme', ['move', 37]),\n",
              " ('¡Willy En Las Ruedas!', ['move', 2]),\n",
              " ('Gcsantiago', ['move', 7]),\n",
              " ('Pino', ['move', 6]),\n",
              " ('Augusto maguina', ['move', 44]),\n",
              " ('NANCY ARELLANO', ['move', 1]),\n",
              " ('Ranshao', ['move', 1]),\n",
              " ('Arístides Herrera Cuntti', ['move', 162]),\n",
              " ('Tano4595', ['move', 1748]),\n",
              " ('Tatu~eswiki', ['move', 1]),\n",
              " ('Afrox', ['move', 51]),\n",
              " ('Ejmeza', ['block', 60]),\n",
              " ('Proximo.xv', ['move', 18]),\n",
              " ('Alhen', ['move', 428]),\n",
              " ('Robotkarel', ['move', 5]),\n",
              " ('Porao', ['move', 107]),\n",
              " ('Xuankar', ['move', 54])]"
            ]
          },
          "metadata": {},
          "execution_count": 43
        }
      ]
    },
    {
      "cell_type": "markdown",
      "metadata": {
        "id": "9Gk1q9l3Ueh7"
      },
      "source": [
        "Obtengo promedio de cada accion:"
      ]
    },
    {
      "cell_type": "code",
      "metadata": {
        "colab": {
          "base_uri": "https://localhost:8080/"
        },
        "id": "zUilG89hSXhA",
        "outputId": "49809ae9-822a-4449-b611-9ce584d2f18e"
      },
      "source": [
        "average_actions= selected_actions_registered_users.map(lambda x: (x[0][0], 1)).reduceByKey(lambda x, y: x+y).map(lambda x: list((x[0], x[1]/total_users))).collect()\n",
        "average_actions"
      ],
      "execution_count": null,
      "outputs": [
        {
          "output_type": "execute_result",
          "data": {
            "text/plain": [
              "[['autocreate', 0.12563746956180938],\n",
              " ['block', 0.03141129487481907],\n",
              " ['create', 0.5449416844194096],\n",
              " ['move', 0.0786547627679777],\n",
              " ['delete', 0.21935478837598427]]"
            ]
          },
          "metadata": {},
          "execution_count": 44
        }
      ]
    },
    {
      "cell_type": "markdown",
      "metadata": {
        "id": "UVcPiGdVwjzq"
      },
      "source": [
        "Me guardo los promedios en constantes"
      ]
    },
    {
      "cell_type": "code",
      "metadata": {
        "id": "OuGOmVTcwjFJ"
      },
      "source": [
        "av_autocreate = average_actions[0][1]\n",
        "av_block = average_actions[1][1]\n",
        "av_create = average_actions[2][1]\n",
        "av_move = average_actions[3][1]\n",
        "av_delete = average_actions[4][1]"
      ],
      "execution_count": null,
      "outputs": []
    },
    {
      "cell_type": "markdown",
      "metadata": {
        "id": "Y9_UFAauUt1r"
      },
      "source": [
        "Agrupo por usuario y obtengo un rdd que tiene en cada registro una tupla con  la cantidad de accion menos promedio para cada accion de un usuario."
      ]
    },
    {
      "cell_type": "code",
      "metadata": {
        "id": "u0U8CP_abq6i",
        "colab": {
          "base_uri": "https://localhost:8080/"
        },
        "outputId": "d29f5543-13c2-4e7c-94da-5537da9be088"
      },
      "source": [
        "def get_action_user(actions, action_name, average_action):\n",
        "  for a in actions:\n",
        "    if(a[0]==action_name):\n",
        "      return (a[1]- average_action)\n",
        "  return (0-average_action)\n",
        "\n",
        "\n",
        "new_amount_actions_users = amount_actions_users.groupByKey().map(lambda x:  (get_action_user(x[1], 'move', av_move),  get_action_user(x[1], 'delete', av_delete), get_action_user(x[1],'create', av_create), get_action_user(x[1], 'block', av_block),  get_action_user(x[1], 'autocreate', av_autocreate))).cache()\n",
        "new_amount_actions_users.take(20)"
      ],
      "execution_count": null,
      "outputs": [
        {
          "output_type": "execute_result",
          "data": {
            "text/plain": [
              "[(3472.921345237232,\n",
              "  6963.780645211624,\n",
              "  -0.5449416844194096,\n",
              "  1372.9685887051253,\n",
              "  -0.12563746956180938),\n",
              " (36.921345237232025,\n",
              "  190.780645211624,\n",
              "  -0.5449416844194096,\n",
              "  14.968588705125182,\n",
              "  -0.12563746956180938),\n",
              " (50.921345237232025,\n",
              "  -0.21935478837598427,\n",
              "  0.4550583155805904,\n",
              "  -0.03141129487481907,\n",
              "  -0.12563746956180938),\n",
              " (4.921345237232022,\n",
              "  -0.21935478837598427,\n",
              "  0.4550583155805904,\n",
              "  -0.03141129487481907,\n",
              "  -0.12563746956180938),\n",
              " (375.921345237232,\n",
              "  1987.780645211624,\n",
              "  -0.5449416844194096,\n",
              "  586.9685887051252,\n",
              "  -0.12563746956180938),\n",
              " (4.921345237232022,\n",
              "  -0.21935478837598427,\n",
              "  -0.5449416844194096,\n",
              "  -0.03141129487481907,\n",
              "  -0.12563746956180938),\n",
              " (20.92134523723202,\n",
              "  -0.21935478837598427,\n",
              "  -0.5449416844194096,\n",
              "  -0.03141129487481907,\n",
              "  -0.12563746956180938),\n",
              " (7.921345237232022,\n",
              "  -0.21935478837598427,\n",
              "  1.4550583155805903,\n",
              "  -0.03141129487481907,\n",
              "  -0.12563746956180938),\n",
              " (1.9213452372320223,\n",
              "  -0.21935478837598427,\n",
              "  -0.5449416844194096,\n",
              "  -0.03141129487481907,\n",
              "  -0.12563746956180938),\n",
              " (0.9213452372320223,\n",
              "  -0.21935478837598427,\n",
              "  -0.5449416844194096,\n",
              "  -0.03141129487481907,\n",
              "  -0.12563746956180938),\n",
              " (-0.0786547627679777,\n",
              "  -0.21935478837598427,\n",
              "  0.4550583155805904,\n",
              "  -0.03141129487481907,\n",
              "  -0.12563746956180938),\n",
              " (-0.0786547627679777,\n",
              "  -0.21935478837598427,\n",
              "  0.4550583155805904,\n",
              "  -0.03141129487481907,\n",
              "  -0.12563746956180938),\n",
              " (-0.0786547627679777,\n",
              "  -0.21935478837598427,\n",
              "  0.4550583155805904,\n",
              "  -0.03141129487481907,\n",
              "  -0.12563746956180938),\n",
              " (-0.0786547627679777,\n",
              "  -0.21935478837598427,\n",
              "  0.4550583155805904,\n",
              "  -0.03141129487481907,\n",
              "  -0.12563746956180938),\n",
              " (-0.0786547627679777,\n",
              "  -0.21935478837598427,\n",
              "  0.4550583155805904,\n",
              "  -0.03141129487481907,\n",
              "  -0.12563746956180938),\n",
              " (-0.0786547627679777,\n",
              "  -0.21935478837598427,\n",
              "  0.4550583155805904,\n",
              "  -0.03141129487481907,\n",
              "  -0.12563746956180938),\n",
              " (-0.0786547627679777,\n",
              "  -0.21935478837598427,\n",
              "  0.4550583155805904,\n",
              "  -0.03141129487481907,\n",
              "  -0.12563746956180938),\n",
              " (-0.0786547627679777,\n",
              "  -0.21935478837598427,\n",
              "  0.4550583155805904,\n",
              "  -0.03141129487481907,\n",
              "  -0.12563746956180938),\n",
              " (-0.0786547627679777,\n",
              "  -0.21935478837598427,\n",
              "  0.4550583155805904,\n",
              "  -0.03141129487481907,\n",
              "  -0.12563746956180938),\n",
              " (-0.0786547627679777,\n",
              "  -0.21935478837598427,\n",
              "  0.4550583155805904,\n",
              "  -0.03141129487481907,\n",
              "  -0.12563746956180938)]"
            ]
          },
          "metadata": {},
          "execution_count": 46
        }
      ]
    },
    {
      "cell_type": "markdown",
      "metadata": {
        "id": "Q2QrobuDQLUm"
      },
      "source": [
        "Me guardo las posiciones de los valores para cada accion:"
      ]
    },
    {
      "cell_type": "code",
      "metadata": {
        "id": "zgdSugEXQArq"
      },
      "source": [
        "move = 0 \n",
        "delete = 1\n",
        "create = 2\n",
        "block = 3\n",
        "autocreate = 4"
      ],
      "execution_count": null,
      "outputs": []
    },
    {
      "cell_type": "markdown",
      "metadata": {
        "id": "kwhZd9CpGRFv"
      },
      "source": [
        "Hago la funcion de correlacion entre dos acciones, recibe el rdd y la posicion de la cantidad-promedio de las acciones a analizar"
      ]
    },
    {
      "cell_type": "code",
      "metadata": {
        "id": "lJwXCgVKX6va"
      },
      "source": [
        "import numpy as np\n",
        "\n",
        "def correlation(rdd_actions, pos_action1, pos_action2):\n",
        "  dividend = rdd_actions.map(lambda x: x[pos_action1]*x[pos_action2]).reduce(lambda a,b: a+b)\n",
        "\n",
        "  sums_divider = rdd_actions.map(lambda x: x[pos_action1]*x[pos_action1]).reduce(lambda a,b: a+b) * rdd_actions.map(lambda x: x[pos_action2]*x[pos_action2]).reduce(lambda a,b: a+b) \n",
        "  divider = np.sqrt(sums_divider)\n",
        "\n",
        "  return dividend/divider"
      ],
      "execution_count": null,
      "outputs": []
    },
    {
      "cell_type": "markdown",
      "metadata": {
        "id": "y9OkgiFjCDyf"
      },
      "source": [
        "Pruebo que para la misma accion la correlacion de 1, y que cambiando el orden de las acciones me de lo mismo: "
      ]
    },
    {
      "cell_type": "code",
      "metadata": {
        "colab": {
          "base_uri": "https://localhost:8080/"
        },
        "id": "0QCCi_EtzTY2",
        "outputId": "6d273265-6011-4c65-de4b-41ea91317a1e"
      },
      "source": [
        "move_move =  correlation(new_amount_actions_users, move, move)\n",
        "move_move"
      ],
      "execution_count": null,
      "outputs": [
        {
          "output_type": "execute_result",
          "data": {
            "text/plain": [
              "1.0"
            ]
          },
          "metadata": {},
          "execution_count": 49
        }
      ]
    },
    {
      "cell_type": "code",
      "metadata": {
        "colab": {
          "base_uri": "https://localhost:8080/"
        },
        "id": "NDBQ9l82COjR",
        "outputId": "191094c0-27fa-4101-b2dc-6610b1e7bc48"
      },
      "source": [
        "move_delete= correlation(new_amount_actions_users, delete, move)\n",
        "delete_move= correlation(new_amount_actions_users, move, delete)\n",
        "\n",
        "move_delete, delete_move"
      ],
      "execution_count": null,
      "outputs": [
        {
          "output_type": "execute_result",
          "data": {
            "text/plain": [
              "(0.08347055219905994, 0.08347055219905994)"
            ]
          },
          "metadata": {},
          "execution_count": 50
        }
      ]
    },
    {
      "cell_type": "markdown",
      "metadata": {
        "id": "fj5hsgRGGoSZ"
      },
      "source": [
        "Obtengo todas las correlaciones que necesito entre acciones: "
      ]
    },
    {
      "cell_type": "code",
      "metadata": {
        "id": "IaVlJp-DzHCy"
      },
      "source": [
        "delete_move= correlation(new_amount_actions_users, move, delete)\n",
        "block_move= correlation(new_amount_actions_users, move, block)\n",
        "create_move= correlation(new_amount_actions_users, move, create)\n",
        "create_autocreate =  correlation(new_amount_actions_users, create, autocreate)\n",
        "move_autocreate =  correlation(new_amount_actions_users, move, autocreate)\n",
        "delete_autocreate = correlation(new_amount_actions_users, autocreate, delete)\n",
        "delete_create = correlation(new_amount_actions_users, create, delete)\n",
        "block_delete =  correlation(new_amount_actions_users, block, delete)\n",
        "block_create =  correlation(new_amount_actions_users, block, create)\n",
        "block_autocreate =  correlation(new_amount_actions_users, block, autocreate)"
      ],
      "execution_count": null,
      "outputs": []
    },
    {
      "cell_type": "markdown",
      "metadata": {
        "id": "5WBHYxN46MX5"
      },
      "source": [
        "Acomodo los valores en una matriz para poder graficar, pongo 1 en los lugares en los que se analiza la correlacion entre una accion y si misma, ya que como se vio mas arriba y como se ve en el heatmap del enunciado, da 1"
      ]
    },
    {
      "cell_type": "code",
      "metadata": {
        "id": "bqEMKmWh3GtY"
      },
      "source": [
        "correlations = [[1.0, block_autocreate, create_autocreate, delete_autocreate, move_autocreate],\n",
        "             [block_autocreate, 1.0, block_create, block_delete, block_move],\n",
        "             [create_autocreate, block_create, 1.0, delete_create, create_move], \n",
        "             [delete_autocreate, block_delete, delete_create, 1.0, delete_move],\n",
        "             [move_autocreate, block_move, create_move, delete_move, 1.0]]"
      ],
      "execution_count": null,
      "outputs": []
    },
    {
      "cell_type": "code",
      "metadata": {
        "id": "qsZRIJ7JUO6e",
        "colab": {
          "base_uri": "https://localhost:8080/",
          "height": 520
        },
        "outputId": "f9128fc5-6923-45bb-ebbd-005f0348240f"
      },
      "source": [
        "import seaborn as sns\n",
        "import numpy as np\n",
        "import matplotlib.pyplot as plt\n",
        "\n",
        "sns.set(rc={'figure.figsize':(10,8)})\n",
        "\n",
        "labels = ['autocreate', 'block', 'create', 'delete', 'move'] \n",
        "g = sns.heatmap(correlations, cmap=\"rocket\", fmt='f' , xticklabels=labels, yticklabels=labels)\n",
        "g.set_ylabel(\"action\")\n",
        "g.set_xlabel(\"action\")\n",
        "g.set_title(\"Correlacion entre acciones para usuarios registrados\", size=15)\n",
        "plt.show()"
      ],
      "execution_count": null,
      "outputs": [
        {
          "output_type": "display_data",
          "data": {
            "image/png": "[encoded data removed]",
            "text/plain": [
              "<Figure size 720x576 with 2 Axes>"
            ]
          },
          "metadata": {}
        }
      ]
    }
  ]
}
