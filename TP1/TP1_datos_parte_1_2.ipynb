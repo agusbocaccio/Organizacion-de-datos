{
  "nbformat": 4,
  "nbformat_minor": 0,
  "metadata": {
    "colab": {
      "name": "TP1_datos_parte_1.2.ipynb",
      "provenance": []
    },
    "kernelspec": {
      "name": "python3",
      "display_name": "Python 3"
    },
    "language_info": {
      "name": "python"
    }
  },
  "cells": [
    {
      "cell_type": "markdown",
      "metadata": {
        "id": "2gEM_H7iwlw1"
      },
      "source": [
        "# Trabajo práctico 1 (Parte 1.2) - Organización de datos\n",
        "### Facultad de ingeniería - Universidad de Buenos Aires\n",
        "\n",
        "\n",
        "---\n",
        "\n",
        "\n",
        "Alumna: Agustina Bocaccio \\\\\n",
        "Padron: 106393 \\\\\n",
        "Email: abocaccio@fi.uba.ar \\\\\n",
        "\n",
        "---\n",
        "\n",
        "#### Segundo cuatrimestre 2021\n",
        "#### Fecha de entrega: 14/10"
      ]
    },
    {
      "cell_type": "markdown",
      "metadata": {
        "id": "sQ2ugURUHJx5"
      },
      "source": [
        "## Imports"
      ]
    },
    {
      "cell_type": "code",
      "metadata": {
        "id": "BDBX8kuNuRcg"
      },
      "source": [
        "import pandas as pd\n",
        "import numpy as np\n",
        "import matplotlib.pyplot as plt"
      ],
      "execution_count": null,
      "outputs": []
    },
    {
      "cell_type": "code",
      "metadata": {
        "id": "zVWbglIw7Lt4"
      },
      "source": [
        "from pydrive.auth import GoogleAuth\n",
        "from pydrive.drive import GoogleDrive\n",
        "from google.colab import auth\n",
        "from oauth2client.client import GoogleCredentials\n",
        "\n",
        "auth.authenticate_user()\n",
        "gauth = GoogleAuth()\n",
        "gauth.credentials = GoogleCredentials.get_application_default()\n",
        "drive = GoogleDrive(gauth)"
      ],
      "execution_count": null,
      "outputs": []
    },
    {
      "cell_type": "markdown",
      "metadata": {
        "id": "XKt3NkDx696c"
      },
      "source": [
        "## Parte 1.2"
      ]
    },
    {
      "cell_type": "markdown",
      "metadata": {
        "id": "JL0y0SaKxdW4"
      },
      "source": [
        "### 46) Si decimos que la ubicación de una categoría es el promedio de la latitud y longitud de sus contenidos geolocalizados que son miembros de ella (si es que tiene): ¿Cuales son las dos categorías más cercanas?"
      ]
    },
    {
      "cell_type": "code",
      "metadata": {
        "id": "UNonEw-hO3gu"
      },
      "source": [
        "id='12KNPiAF8AsGTLGRSpMUw2XdwYXwSosr3'\n",
        "downloaded = drive.CreateFile({'id': id})\n",
        "downloaded.GetContentFile('geo_tags.csv')\n",
        "\n",
        "geo_tags = pd.read_csv('geo_tags.csv') "
      ],
      "execution_count": null,
      "outputs": []
    },
    {
      "cell_type": "code",
      "metadata": {
        "id": "jcc2BA5XXxBc"
      },
      "source": [
        "id='1-JktDI4xrc3EDsnDUvsMqUFw67Art3_M'\n",
        "downloaded = drive.CreateFile({'id': id})\n",
        "downloaded.GetContentFile('category_links.csv')\n",
        "\n",
        "category_links = pd.read_csv('category_links.csv', usecols=['cl_from', 'cl_to']) "
      ],
      "execution_count": null,
      "outputs": []
    },
    {
      "cell_type": "code",
      "metadata": {
        "id": "6c1H4fFLyKlx",
        "colab": {
          "base_uri": "https://localhost:8080/"
        },
        "outputId": "a031bb7d-a25c-4de6-d883-70b5837ea218"
      },
      "source": [
        "category_links"
      ],
      "execution_count": null,
      "outputs": [
        {
          "output_type": "execute_result",
          "data": {
            "text/html": [
              "<div>\n",
              "<style scoped>\n",
              "    .dataframe tbody tr th:only-of-type {\n",
              "        vertical-align: middle;\n",
              "    }\n",
              "\n",
              "    .dataframe tbody tr th {\n",
              "        vertical-align: top;\n",
              "    }\n",
              "\n",
              "    .dataframe thead th {\n",
              "        text-align: right;\n",
              "    }\n",
              "</style>\n",
              "<table border=\"1\" class=\"dataframe\">\n",
              "  <thead>\n",
              "    <tr style=\"text-align: right;\">\n",
              "      <th></th>\n",
              "      <th>cl_from</th>\n",
              "      <th>cl_to</th>\n",
              "    </tr>\n",
              "  </thead>\n",
              "  <tbody>\n",
              "    <tr>\n",
              "      <th>0</th>\n",
              "      <td>5</td>\n",
              "      <td>Wikipedia:Mantenimiento</td>\n",
              "    </tr>\n",
              "    <tr>\n",
              "      <th>1</th>\n",
              "      <td>5</td>\n",
              "      <td>Wikipedia:PÃ¡ginas_con_enlaces_mÃ¡gicos_de_ISBN</td>\n",
              "    </tr>\n",
              "    <tr>\n",
              "      <th>2</th>\n",
              "      <td>7</td>\n",
              "      <td>Andorra</td>\n",
              "    </tr>\n",
              "    <tr>\n",
              "      <th>3</th>\n",
              "      <td>7</td>\n",
              "      <td>Instituciones_patrocinadoras_de_equipos_ciclistas</td>\n",
              "    </tr>\n",
              "    <tr>\n",
              "      <th>4</th>\n",
              "      <td>7</td>\n",
              "      <td>Wikipedia:ArtÃ­culos_con_datos_locales</td>\n",
              "    </tr>\n",
              "    <tr>\n",
              "      <th>...</th>\n",
              "      <td>...</td>\n",
              "      <td>...</td>\n",
              "    </tr>\n",
              "    <tr>\n",
              "      <th>13308614</th>\n",
              "      <td>10010781</td>\n",
              "      <td>Nacidos_en_1994</td>\n",
              "    </tr>\n",
              "    <tr>\n",
              "      <th>13308615</th>\n",
              "      <td>10010781</td>\n",
              "      <td>Personas_vivas</td>\n",
              "    </tr>\n",
              "    <tr>\n",
              "      <th>13308616</th>\n",
              "      <td>10010783</td>\n",
              "      <td>Fundaciones_en_SudÃ¡frica</td>\n",
              "    </tr>\n",
              "    <tr>\n",
              "      <th>13308617</th>\n",
              "      <td>10010787</td>\n",
              "      <td>Fundaciones_en_SudÃ¡frica_por_aÃ±o</td>\n",
              "    </tr>\n",
              "    <tr>\n",
              "      <th>13308618</th>\n",
              "      <td>10010787</td>\n",
              "      <td>SudÃ¡frica_en_2010</td>\n",
              "    </tr>\n",
              "  </tbody>\n",
              "</table>\n",
              "<p>13308619 rows × 2 columns</p>\n",
              "</div>"
            ],
            "text/plain": [
              "           cl_from                                              cl_to\n",
              "0                5                            Wikipedia:Mantenimiento\n",
              "1                5    Wikipedia:PÃ¡ginas_con_enlaces_mÃ¡gicos_de_ISBN\n",
              "2                7                                            Andorra\n",
              "3                7  Instituciones_patrocinadoras_de_equipos_ciclistas\n",
              "4                7             Wikipedia:ArtÃ­culos_con_datos_locales\n",
              "...            ...                                                ...\n",
              "13308614  10010781                                    Nacidos_en_1994\n",
              "13308615  10010781                                     Personas_vivas\n",
              "13308616  10010783                          Fundaciones_en_SudÃ¡frica\n",
              "13308617  10010787                 Fundaciones_en_SudÃ¡frica_por_aÃ±o\n",
              "13308618  10010787                                 SudÃ¡frica_en_2010\n",
              "\n",
              "[13308619 rows x 2 columns]"
            ]
          },
          "metadata": {},
          "execution_count": 5
        }
      ]
    },
    {
      "cell_type": "code",
      "metadata": {
        "id": "LrwG6VmJwCZP",
        "colab": {
          "base_uri": "https://localhost:8080/"
        },
        "outputId": "3643c28b-ad5f-4194-9f48-f1b754de16ef"
      },
      "source": [
        "geo_tags"
      ],
      "execution_count": null,
      "outputs": [
        {
          "output_type": "execute_result",
          "data": {
            "text/html": [
              "<div>\n",
              "<style scoped>\n",
              "    .dataframe tbody tr th:only-of-type {\n",
              "        vertical-align: middle;\n",
              "    }\n",
              "\n",
              "    .dataframe tbody tr th {\n",
              "        vertical-align: top;\n",
              "    }\n",
              "\n",
              "    .dataframe thead th {\n",
              "        text-align: right;\n",
              "    }\n",
              "</style>\n",
              "<table border=\"1\" class=\"dataframe\">\n",
              "  <thead>\n",
              "    <tr style=\"text-align: right;\">\n",
              "      <th></th>\n",
              "      <th>gt_id</th>\n",
              "      <th>gt_page_id</th>\n",
              "      <th>gt_globe</th>\n",
              "      <th>gt_primary</th>\n",
              "      <th>gt_lat</th>\n",
              "      <th>gt_lon</th>\n",
              "      <th>gt_dim</th>\n",
              "      <th>gt_type</th>\n",
              "      <th>gt_name</th>\n",
              "      <th>gt_country</th>\n",
              "      <th>gt_region</th>\n",
              "    </tr>\n",
              "  </thead>\n",
              "  <tbody>\n",
              "    <tr>\n",
              "      <th>0</th>\n",
              "      <td>158041</td>\n",
              "      <td>4328020</td>\n",
              "      <td>earth</td>\n",
              "      <td>0</td>\n",
              "      <td>41.507500</td>\n",
              "      <td>-5.817500</td>\n",
              "      <td>1000</td>\n",
              "      <td>NaN</td>\n",
              "      <td>NaN</td>\n",
              "      <td>NaN</td>\n",
              "      <td>NaN</td>\n",
              "    </tr>\n",
              "    <tr>\n",
              "      <th>1</th>\n",
              "      <td>5844377</td>\n",
              "      <td>4670424</td>\n",
              "      <td>earth</td>\n",
              "      <td>0</td>\n",
              "      <td>13.738000</td>\n",
              "      <td>-89.292000</td>\n",
              "      <td>10000</td>\n",
              "      <td>city</td>\n",
              "      <td>NaN</td>\n",
              "      <td>NaN</td>\n",
              "      <td>NaN</td>\n",
              "    </tr>\n",
              "    <tr>\n",
              "      <th>2</th>\n",
              "      <td>5844381</td>\n",
              "      <td>4670424</td>\n",
              "      <td>earth</td>\n",
              "      <td>0</td>\n",
              "      <td>13.702000</td>\n",
              "      <td>-89.208000</td>\n",
              "      <td>10000</td>\n",
              "      <td>city</td>\n",
              "      <td>NaN</td>\n",
              "      <td>NaN</td>\n",
              "      <td>NaN</td>\n",
              "    </tr>\n",
              "    <tr>\n",
              "      <th>3</th>\n",
              "      <td>5844383</td>\n",
              "      <td>4670424</td>\n",
              "      <td>earth</td>\n",
              "      <td>0</td>\n",
              "      <td>13.400000</td>\n",
              "      <td>-89.750000</td>\n",
              "      <td>10000</td>\n",
              "      <td>city</td>\n",
              "      <td>NaN</td>\n",
              "      <td>NaN</td>\n",
              "      <td>NaN</td>\n",
              "    </tr>\n",
              "    <tr>\n",
              "      <th>4</th>\n",
              "      <td>5844388</td>\n",
              "      <td>4670424</td>\n",
              "      <td>earth</td>\n",
              "      <td>0</td>\n",
              "      <td>12.850000</td>\n",
              "      <td>-88.000000</td>\n",
              "      <td>10000</td>\n",
              "      <td>city</td>\n",
              "      <td>NaN</td>\n",
              "      <td>NaN</td>\n",
              "      <td>NaN</td>\n",
              "    </tr>\n",
              "    <tr>\n",
              "      <th>...</th>\n",
              "      <td>...</td>\n",
              "      <td>...</td>\n",
              "      <td>...</td>\n",
              "      <td>...</td>\n",
              "      <td>...</td>\n",
              "      <td>...</td>\n",
              "      <td>...</td>\n",
              "      <td>...</td>\n",
              "      <td>...</td>\n",
              "      <td>...</td>\n",
              "      <td>...</td>\n",
              "    </tr>\n",
              "    <tr>\n",
              "      <th>556388</th>\n",
              "      <td>136672179</td>\n",
              "      <td>5239183</td>\n",
              "      <td>earth</td>\n",
              "      <td>0</td>\n",
              "      <td>3.450000</td>\n",
              "      <td>-76.533333</td>\n",
              "      <td>1000</td>\n",
              "      <td>NaN</td>\n",
              "      <td>NaN</td>\n",
              "      <td>NaN</td>\n",
              "      <td>NaN</td>\n",
              "    </tr>\n",
              "    <tr>\n",
              "      <th>556389</th>\n",
              "      <td>136672180</td>\n",
              "      <td>104468</td>\n",
              "      <td>earth</td>\n",
              "      <td>1</td>\n",
              "      <td>30.815839</td>\n",
              "      <td>45.996069</td>\n",
              "      <td>1000</td>\n",
              "      <td>NaN</td>\n",
              "      <td>NaN</td>\n",
              "      <td>NaN</td>\n",
              "      <td>NaN</td>\n",
              "    </tr>\n",
              "    <tr>\n",
              "      <th>556390</th>\n",
              "      <td>136672181</td>\n",
              "      <td>968281</td>\n",
              "      <td>earth</td>\n",
              "      <td>1</td>\n",
              "      <td>46.953333</td>\n",
              "      <td>6.256944</td>\n",
              "      <td>10000</td>\n",
              "      <td>city</td>\n",
              "      <td>NaN</td>\n",
              "      <td>NaN</td>\n",
              "      <td>NaN</td>\n",
              "    </tr>\n",
              "    <tr>\n",
              "      <th>556391</th>\n",
              "      <td>136672182</td>\n",
              "      <td>79985</td>\n",
              "      <td>earth</td>\n",
              "      <td>0</td>\n",
              "      <td>45.109659</td>\n",
              "      <td>7.641221</td>\n",
              "      <td>500</td>\n",
              "      <td>NaN</td>\n",
              "      <td>NaN</td>\n",
              "      <td>NaN</td>\n",
              "      <td>NaN</td>\n",
              "    </tr>\n",
              "    <tr>\n",
              "      <th>556392</th>\n",
              "      <td>136672183</td>\n",
              "      <td>872296</td>\n",
              "      <td>earth</td>\n",
              "      <td>1</td>\n",
              "      <td>15.425675</td>\n",
              "      <td>-90.326285</td>\n",
              "      <td>10000</td>\n",
              "      <td>city</td>\n",
              "      <td>NaN</td>\n",
              "      <td>NaN</td>\n",
              "      <td>NaN</td>\n",
              "    </tr>\n",
              "  </tbody>\n",
              "</table>\n",
              "<p>556393 rows × 11 columns</p>\n",
              "</div>"
            ],
            "text/plain": [
              "            gt_id  gt_page_id gt_globe  ...  gt_name  gt_country  gt_region\n",
              "0          158041     4328020    earth  ...      NaN         NaN        NaN\n",
              "1         5844377     4670424    earth  ...      NaN         NaN        NaN\n",
              "2         5844381     4670424    earth  ...      NaN         NaN        NaN\n",
              "3         5844383     4670424    earth  ...      NaN         NaN        NaN\n",
              "4         5844388     4670424    earth  ...      NaN         NaN        NaN\n",
              "...           ...         ...      ...  ...      ...         ...        ...\n",
              "556388  136672179     5239183    earth  ...      NaN         NaN        NaN\n",
              "556389  136672180      104468    earth  ...      NaN         NaN        NaN\n",
              "556390  136672181      968281    earth  ...      NaN         NaN        NaN\n",
              "556391  136672182       79985    earth  ...      NaN         NaN        NaN\n",
              "556392  136672183      872296    earth  ...      NaN         NaN        NaN\n",
              "\n",
              "[556393 rows x 11 columns]"
            ]
          },
          "metadata": {},
          "execution_count": 6
        }
      ]
    },
    {
      "cell_type": "code",
      "metadata": {
        "id": "LUOmwzY7wGQR",
        "colab": {
          "base_uri": "https://localhost:8080/"
        },
        "outputId": "b6699c0a-da8d-41f0-b735-371cec6d98f2"
      },
      "source": [
        "geo_tags.info()"
      ],
      "execution_count": null,
      "outputs": [
        {
          "output_type": "stream",
          "name": "stdout",
          "text": [
            "<class 'pandas.core.frame.DataFrame'>\n",
            "RangeIndex: 556393 entries, 0 to 556392\n",
            "Data columns (total 11 columns):\n",
            " #   Column      Non-Null Count   Dtype  \n",
            "---  ------      --------------   -----  \n",
            " 0   gt_id       556393 non-null  int64  \n",
            " 1   gt_page_id  556393 non-null  int64  \n",
            " 2   gt_globe    556393 non-null  object \n",
            " 3   gt_primary  556393 non-null  int64  \n",
            " 4   gt_lat      556393 non-null  float64\n",
            " 5   gt_lon      556393 non-null  float64\n",
            " 6   gt_dim      556393 non-null  int64  \n",
            " 7   gt_type     449893 non-null  object \n",
            " 8   gt_name     72557 non-null   object \n",
            " 9   gt_country  79192 non-null   object \n",
            " 10  gt_region   3088 non-null    object \n",
            "dtypes: float64(2), int64(4), object(5)\n",
            "memory usage: 46.7+ MB\n"
          ]
        }
      ]
    },
    {
      "cell_type": "code",
      "metadata": {
        "colab": {
          "base_uri": "https://localhost:8080/"
        },
        "id": "z7iPzlOr3dI8",
        "outputId": "4c8a5dd0-c3ce-4fb0-9b61-6694838cc656"
      },
      "source": [
        "pd.DataFrame({'Cantidad de nulos': geo_tags.isnull().sum()})"
      ],
      "execution_count": null,
      "outputs": [
        {
          "output_type": "execute_result",
          "data": {
            "text/html": [
              "<div>\n",
              "<style scoped>\n",
              "    .dataframe tbody tr th:only-of-type {\n",
              "        vertical-align: middle;\n",
              "    }\n",
              "\n",
              "    .dataframe tbody tr th {\n",
              "        vertical-align: top;\n",
              "    }\n",
              "\n",
              "    .dataframe thead th {\n",
              "        text-align: right;\n",
              "    }\n",
              "</style>\n",
              "<table border=\"1\" class=\"dataframe\">\n",
              "  <thead>\n",
              "    <tr style=\"text-align: right;\">\n",
              "      <th></th>\n",
              "      <th>Cantidad de nulos</th>\n",
              "    </tr>\n",
              "  </thead>\n",
              "  <tbody>\n",
              "    <tr>\n",
              "      <th>gt_id</th>\n",
              "      <td>0</td>\n",
              "    </tr>\n",
              "    <tr>\n",
              "      <th>gt_page_id</th>\n",
              "      <td>0</td>\n",
              "    </tr>\n",
              "    <tr>\n",
              "      <th>gt_globe</th>\n",
              "      <td>0</td>\n",
              "    </tr>\n",
              "    <tr>\n",
              "      <th>gt_primary</th>\n",
              "      <td>0</td>\n",
              "    </tr>\n",
              "    <tr>\n",
              "      <th>gt_lat</th>\n",
              "      <td>0</td>\n",
              "    </tr>\n",
              "    <tr>\n",
              "      <th>gt_lon</th>\n",
              "      <td>0</td>\n",
              "    </tr>\n",
              "    <tr>\n",
              "      <th>gt_dim</th>\n",
              "      <td>0</td>\n",
              "    </tr>\n",
              "    <tr>\n",
              "      <th>gt_type</th>\n",
              "      <td>106500</td>\n",
              "    </tr>\n",
              "    <tr>\n",
              "      <th>gt_name</th>\n",
              "      <td>483836</td>\n",
              "    </tr>\n",
              "    <tr>\n",
              "      <th>gt_country</th>\n",
              "      <td>477201</td>\n",
              "    </tr>\n",
              "    <tr>\n",
              "      <th>gt_region</th>\n",
              "      <td>553305</td>\n",
              "    </tr>\n",
              "  </tbody>\n",
              "</table>\n",
              "</div>"
            ],
            "text/plain": [
              "            Cantidad de nulos\n",
              "gt_id                       0\n",
              "gt_page_id                  0\n",
              "gt_globe                    0\n",
              "gt_primary                  0\n",
              "gt_lat                      0\n",
              "gt_lon                      0\n",
              "gt_dim                      0\n",
              "gt_type                106500\n",
              "gt_name                483836\n",
              "gt_country             477201\n",
              "gt_region              553305"
            ]
          },
          "metadata": {},
          "execution_count": 8
        }
      ]
    },
    {
      "cell_type": "code",
      "metadata": {
        "colab": {
          "base_uri": "https://localhost:8080/"
        },
        "id": "sKpO9_pE3yse",
        "outputId": "d4f993da-fbfd-4933-84d2-32b6744d5c69"
      },
      "source": [
        "pd.DataFrame({'Cantidad de nulos': category_links.isnull().sum()})"
      ],
      "execution_count": null,
      "outputs": [
        {
          "output_type": "execute_result",
          "data": {
            "text/html": [
              "<div>\n",
              "<style scoped>\n",
              "    .dataframe tbody tr th:only-of-type {\n",
              "        vertical-align: middle;\n",
              "    }\n",
              "\n",
              "    .dataframe tbody tr th {\n",
              "        vertical-align: top;\n",
              "    }\n",
              "\n",
              "    .dataframe thead th {\n",
              "        text-align: right;\n",
              "    }\n",
              "</style>\n",
              "<table border=\"1\" class=\"dataframe\">\n",
              "  <thead>\n",
              "    <tr style=\"text-align: right;\">\n",
              "      <th></th>\n",
              "      <th>Cantidad de nulos</th>\n",
              "    </tr>\n",
              "  </thead>\n",
              "  <tbody>\n",
              "    <tr>\n",
              "      <th>cl_from</th>\n",
              "      <td>0</td>\n",
              "    </tr>\n",
              "    <tr>\n",
              "      <th>cl_to</th>\n",
              "      <td>0</td>\n",
              "    </tr>\n",
              "  </tbody>\n",
              "</table>\n",
              "</div>"
            ],
            "text/plain": [
              "         Cantidad de nulos\n",
              "cl_from                  0\n",
              "cl_to                    0"
            ]
          },
          "metadata": {},
          "execution_count": 9
        }
      ]
    },
    {
      "cell_type": "markdown",
      "metadata": {
        "id": "QJxABme130Uf"
      },
      "source": [
        "Los dataframes no tienen valores nulos en las columnas que afectan a mi problema, por lo que no es necesario limpiarlos"
      ]
    },
    {
      "cell_type": "markdown",
      "metadata": {
        "id": "9DSeXn5VrKXy"
      },
      "source": [
        "Agrupo por id del contenido al que corresponde el geo_tags y aplico el promedio a la latitud y a la longitud."
      ]
    },
    {
      "cell_type": "code",
      "metadata": {
        "id": "mEkMH2YSxY_6",
        "colab": {
          "base_uri": "https://localhost:8080/",
          "height": 450
        },
        "outputId": "75858b7d-03e9-4cb0-a326-e470e62cf47a"
      },
      "source": [
        "geo_mean = geo_tags.loc[:,['gt_page_id','gt_lat', 'gt_lon']].groupby('gt_page_id').agg({'gt_lat': 'mean', 'gt_lon': 'mean'})\n",
        "geo_mean"
      ],
      "execution_count": null,
      "outputs": [
        {
          "output_type": "execute_result",
          "data": {
            "text/html": [
              "<div>\n",
              "<style scoped>\n",
              "    .dataframe tbody tr th:only-of-type {\n",
              "        vertical-align: middle;\n",
              "    }\n",
              "\n",
              "    .dataframe tbody tr th {\n",
              "        vertical-align: top;\n",
              "    }\n",
              "\n",
              "    .dataframe thead th {\n",
              "        text-align: right;\n",
              "    }\n",
              "</style>\n",
              "<table border=\"1\" class=\"dataframe\">\n",
              "  <thead>\n",
              "    <tr style=\"text-align: right;\">\n",
              "      <th></th>\n",
              "      <th>gt_lat</th>\n",
              "      <th>gt_lon</th>\n",
              "    </tr>\n",
              "    <tr>\n",
              "      <th>gt_page_id</th>\n",
              "      <th></th>\n",
              "      <th></th>\n",
              "    </tr>\n",
              "  </thead>\n",
              "  <tbody>\n",
              "    <tr>\n",
              "      <th>7</th>\n",
              "      <td>42.500000</td>\n",
              "      <td>1.500000</td>\n",
              "    </tr>\n",
              "    <tr>\n",
              "      <th>10</th>\n",
              "      <td>-34.599722</td>\n",
              "      <td>-58.381944</td>\n",
              "    </tr>\n",
              "    <tr>\n",
              "      <th>15</th>\n",
              "      <td>42.506111</td>\n",
              "      <td>1.522222</td>\n",
              "    </tr>\n",
              "    <tr>\n",
              "      <th>26</th>\n",
              "      <td>43.162222</td>\n",
              "      <td>-2.070000</td>\n",
              "    </tr>\n",
              "    <tr>\n",
              "      <th>39</th>\n",
              "      <td>34.532778</td>\n",
              "      <td>69.165833</td>\n",
              "    </tr>\n",
              "    <tr>\n",
              "      <th>...</th>\n",
              "      <td>...</td>\n",
              "      <td>...</td>\n",
              "    </tr>\n",
              "    <tr>\n",
              "      <th>10010686</th>\n",
              "      <td>23.250000</td>\n",
              "      <td>91.450000</td>\n",
              "    </tr>\n",
              "    <tr>\n",
              "      <th>10010689</th>\n",
              "      <td>34.341944</td>\n",
              "      <td>62.203056</td>\n",
              "    </tr>\n",
              "    <tr>\n",
              "      <th>10010690</th>\n",
              "      <td>23.000000</td>\n",
              "      <td>91.730000</td>\n",
              "    </tr>\n",
              "    <tr>\n",
              "      <th>10010724</th>\n",
              "      <td>-30.931944</td>\n",
              "      <td>147.628889</td>\n",
              "    </tr>\n",
              "    <tr>\n",
              "      <th>10010793</th>\n",
              "      <td>35.107090</td>\n",
              "      <td>-3.899240</td>\n",
              "    </tr>\n",
              "  </tbody>\n",
              "</table>\n",
              "<p>371411 rows × 2 columns</p>\n",
              "</div>"
            ],
            "text/plain": [
              "               gt_lat      gt_lon\n",
              "gt_page_id                       \n",
              "7           42.500000    1.500000\n",
              "10         -34.599722  -58.381944\n",
              "15          42.506111    1.522222\n",
              "26          43.162222   -2.070000\n",
              "39          34.532778   69.165833\n",
              "...               ...         ...\n",
              "10010686    23.250000   91.450000\n",
              "10010689    34.341944   62.203056\n",
              "10010690    23.000000   91.730000\n",
              "10010724   -30.931944  147.628889\n",
              "10010793    35.107090   -3.899240\n",
              "\n",
              "[371411 rows x 2 columns]"
            ]
          },
          "metadata": {},
          "execution_count": 10
        }
      ]
    },
    {
      "cell_type": "code",
      "metadata": {
        "id": "MCK7J2nWiAyK",
        "colab": {
          "base_uri": "https://localhost:8080/",
          "height": 473
        },
        "outputId": "f632527d-5fb8-4fb4-b92e-e17b2a35ed50"
      },
      "source": [
        "geo_categories = pd.merge(left=category_links, right=geo_tags, left_on='cl_from', right_on='gt_page_id')\n",
        "geo_categories"
      ],
      "execution_count": null,
      "outputs": [
        {
          "output_type": "execute_result",
          "data": {
            "text/html": [
              "<div>\n",
              "<style scoped>\n",
              "    .dataframe tbody tr th:only-of-type {\n",
              "        vertical-align: middle;\n",
              "    }\n",
              "\n",
              "    .dataframe tbody tr th {\n",
              "        vertical-align: top;\n",
              "    }\n",
              "\n",
              "    .dataframe thead th {\n",
              "        text-align: right;\n",
              "    }\n",
              "</style>\n",
              "<table border=\"1\" class=\"dataframe\">\n",
              "  <thead>\n",
              "    <tr style=\"text-align: right;\">\n",
              "      <th></th>\n",
              "      <th>cl_from</th>\n",
              "      <th>cl_to</th>\n",
              "      <th>gt_id</th>\n",
              "      <th>gt_page_id</th>\n",
              "      <th>gt_globe</th>\n",
              "      <th>gt_primary</th>\n",
              "      <th>gt_lat</th>\n",
              "      <th>gt_lon</th>\n",
              "      <th>gt_dim</th>\n",
              "      <th>gt_type</th>\n",
              "      <th>gt_name</th>\n",
              "      <th>gt_country</th>\n",
              "      <th>gt_region</th>\n",
              "    </tr>\n",
              "  </thead>\n",
              "  <tbody>\n",
              "    <tr>\n",
              "      <th>0</th>\n",
              "      <td>7</td>\n",
              "      <td>Andorra</td>\n",
              "      <td>136647726</td>\n",
              "      <td>7</td>\n",
              "      <td>earth</td>\n",
              "      <td>0</td>\n",
              "      <td>42.500000</td>\n",
              "      <td>1.500000</td>\n",
              "      <td>10000</td>\n",
              "      <td>city</td>\n",
              "      <td>NaN</td>\n",
              "      <td>NaN</td>\n",
              "      <td>NaN</td>\n",
              "    </tr>\n",
              "    <tr>\n",
              "      <th>1</th>\n",
              "      <td>7</td>\n",
              "      <td>Instituciones_patrocinadoras_de_equipos_ciclistas</td>\n",
              "      <td>136647726</td>\n",
              "      <td>7</td>\n",
              "      <td>earth</td>\n",
              "      <td>0</td>\n",
              "      <td>42.500000</td>\n",
              "      <td>1.500000</td>\n",
              "      <td>10000</td>\n",
              "      <td>city</td>\n",
              "      <td>NaN</td>\n",
              "      <td>NaN</td>\n",
              "      <td>NaN</td>\n",
              "    </tr>\n",
              "    <tr>\n",
              "      <th>2</th>\n",
              "      <td>7</td>\n",
              "      <td>Wikipedia:ArtÃ­culos_con_datos_locales</td>\n",
              "      <td>136647726</td>\n",
              "      <td>7</td>\n",
              "      <td>earth</td>\n",
              "      <td>0</td>\n",
              "      <td>42.500000</td>\n",
              "      <td>1.500000</td>\n",
              "      <td>10000</td>\n",
              "      <td>city</td>\n",
              "      <td>NaN</td>\n",
              "      <td>NaN</td>\n",
              "      <td>NaN</td>\n",
              "    </tr>\n",
              "    <tr>\n",
              "      <th>3</th>\n",
              "      <td>7</td>\n",
              "      <td>Wikipedia:ArtÃ­culos_con_datos_por_trasladar_a...</td>\n",
              "      <td>136647726</td>\n",
              "      <td>7</td>\n",
              "      <td>earth</td>\n",
              "      <td>0</td>\n",
              "      <td>42.500000</td>\n",
              "      <td>1.500000</td>\n",
              "      <td>10000</td>\n",
              "      <td>city</td>\n",
              "      <td>NaN</td>\n",
              "      <td>NaN</td>\n",
              "      <td>NaN</td>\n",
              "    </tr>\n",
              "    <tr>\n",
              "      <th>4</th>\n",
              "      <td>7</td>\n",
              "      <td>Wikipedia:ArtÃ­culos_con_enlaces_externos_rotos</td>\n",
              "      <td>136647726</td>\n",
              "      <td>7</td>\n",
              "      <td>earth</td>\n",
              "      <td>0</td>\n",
              "      <td>42.500000</td>\n",
              "      <td>1.500000</td>\n",
              "      <td>10000</td>\n",
              "      <td>city</td>\n",
              "      <td>NaN</td>\n",
              "      <td>NaN</td>\n",
              "      <td>NaN</td>\n",
              "    </tr>\n",
              "    <tr>\n",
              "      <th>...</th>\n",
              "      <td>...</td>\n",
              "      <td>...</td>\n",
              "      <td>...</td>\n",
              "      <td>...</td>\n",
              "      <td>...</td>\n",
              "      <td>...</td>\n",
              "      <td>...</td>\n",
              "      <td>...</td>\n",
              "      <td>...</td>\n",
              "      <td>...</td>\n",
              "      <td>...</td>\n",
              "      <td>...</td>\n",
              "      <td>...</td>\n",
              "    </tr>\n",
              "    <tr>\n",
              "      <th>3042005</th>\n",
              "      <td>10010690</td>\n",
              "      <td>Wikipedia:ArtÃ­culos_con_datos_por_trasladar_a...</td>\n",
              "      <td>136668617</td>\n",
              "      <td>10010690</td>\n",
              "      <td>earth</td>\n",
              "      <td>1</td>\n",
              "      <td>23.000000</td>\n",
              "      <td>91.730000</td>\n",
              "      <td>10000</td>\n",
              "      <td>city</td>\n",
              "      <td>NaN</td>\n",
              "      <td>NaN</td>\n",
              "      <td>NaN</td>\n",
              "    </tr>\n",
              "    <tr>\n",
              "      <th>3042006</th>\n",
              "      <td>10010690</td>\n",
              "      <td>Wikipedia:ArtÃ­culos_con_ficha_sin_actualizar</td>\n",
              "      <td>136668617</td>\n",
              "      <td>10010690</td>\n",
              "      <td>earth</td>\n",
              "      <td>1</td>\n",
              "      <td>23.000000</td>\n",
              "      <td>91.730000</td>\n",
              "      <td>10000</td>\n",
              "      <td>city</td>\n",
              "      <td>NaN</td>\n",
              "      <td>NaN</td>\n",
              "      <td>NaN</td>\n",
              "    </tr>\n",
              "    <tr>\n",
              "      <th>3042007</th>\n",
              "      <td>10010690</td>\n",
              "      <td>Wikipedia:ArtÃ­culos_sin_imagen_en_entidad_sub...</td>\n",
              "      <td>136668617</td>\n",
              "      <td>10010690</td>\n",
              "      <td>earth</td>\n",
              "      <td>1</td>\n",
              "      <td>23.000000</td>\n",
              "      <td>91.730000</td>\n",
              "      <td>10000</td>\n",
              "      <td>city</td>\n",
              "      <td>NaN</td>\n",
              "      <td>NaN</td>\n",
              "      <td>NaN</td>\n",
              "    </tr>\n",
              "    <tr>\n",
              "      <th>3042008</th>\n",
              "      <td>10010724</td>\n",
              "      <td>RÃ­os_de_Nueva_Gales_del_Sur</td>\n",
              "      <td>136670269</td>\n",
              "      <td>10010724</td>\n",
              "      <td>earth</td>\n",
              "      <td>1</td>\n",
              "      <td>-30.931944</td>\n",
              "      <td>147.628889</td>\n",
              "      <td>1000</td>\n",
              "      <td>landmark</td>\n",
              "      <td>NaN</td>\n",
              "      <td>NaN</td>\n",
              "      <td>NaN</td>\n",
              "    </tr>\n",
              "    <tr>\n",
              "      <th>3042009</th>\n",
              "      <td>10010724</td>\n",
              "      <td>Wikipedia:ArtÃ­culos_con_coordenadas_en_Wikidata</td>\n",
              "      <td>136670269</td>\n",
              "      <td>10010724</td>\n",
              "      <td>earth</td>\n",
              "      <td>1</td>\n",
              "      <td>-30.931944</td>\n",
              "      <td>147.628889</td>\n",
              "      <td>1000</td>\n",
              "      <td>landmark</td>\n",
              "      <td>NaN</td>\n",
              "      <td>NaN</td>\n",
              "      <td>NaN</td>\n",
              "    </tr>\n",
              "  </tbody>\n",
              "</table>\n",
              "<p>3042010 rows × 13 columns</p>\n",
              "</div>"
            ],
            "text/plain": [
              "          cl_from  ... gt_region\n",
              "0               7  ...       NaN\n",
              "1               7  ...       NaN\n",
              "2               7  ...       NaN\n",
              "3               7  ...       NaN\n",
              "4               7  ...       NaN\n",
              "...           ...  ...       ...\n",
              "3042005  10010690  ...       NaN\n",
              "3042006  10010690  ...       NaN\n",
              "3042007  10010690  ...       NaN\n",
              "3042008  10010724  ...       NaN\n",
              "3042009  10010724  ...       NaN\n",
              "\n",
              "[3042010 rows x 13 columns]"
            ]
          },
          "metadata": {},
          "execution_count": 12
        }
      ]
    },
    {
      "cell_type": "code",
      "metadata": {
        "colab": {
          "base_uri": "https://localhost:8080/",
          "height": 450
        },
        "id": "9N5PFCDhjeCb",
        "outputId": "135ae04e-f511-4dcd-fd4d-bfdede8f2161"
      },
      "source": [
        "# agrupo por id del contenido al que corresponde el geo_tags y aplico el promedio a la latitud y a la longitud.\n",
        "geo_mean = geo_categories.loc[:,['cl_to','gt_lat', 'gt_lon']].groupby('cl_to').mean()\n",
        "a = np.array(geo_mean[['gt_lat', 'gt_lon']].values.tolist())\n",
        "a\n",
        "geo_mean"
      ],
      "execution_count": null,
      "outputs": [
        {
          "output_type": "execute_result",
          "data": {
            "text/html": [
              "<div>\n",
              "<style scoped>\n",
              "    .dataframe tbody tr th:only-of-type {\n",
              "        vertical-align: middle;\n",
              "    }\n",
              "\n",
              "    .dataframe tbody tr th {\n",
              "        vertical-align: top;\n",
              "    }\n",
              "\n",
              "    .dataframe thead th {\n",
              "        text-align: right;\n",
              "    }\n",
              "</style>\n",
              "<table border=\"1\" class=\"dataframe\">\n",
              "  <thead>\n",
              "    <tr style=\"text-align: right;\">\n",
              "      <th></th>\n",
              "      <th>gt_lat</th>\n",
              "      <th>gt_lon</th>\n",
              "    </tr>\n",
              "    <tr>\n",
              "      <th>cl_to</th>\n",
              "      <th></th>\n",
              "      <th></th>\n",
              "    </tr>\n",
              "  </thead>\n",
              "  <tbody>\n",
              "    <tr>\n",
              "      <th>1._FC_Colonia</th>\n",
              "      <td>50.933611</td>\n",
              "      <td>6.875000</td>\n",
              "    </tr>\n",
              "    <tr>\n",
              "      <th>1._FC_Heidenheim_1846</th>\n",
              "      <td>48.668500</td>\n",
              "      <td>10.139300</td>\n",
              "    </tr>\n",
              "    <tr>\n",
              "      <th>1._FC_Kaiserslautern</th>\n",
              "      <td>49.434444</td>\n",
              "      <td>7.775833</td>\n",
              "    </tr>\n",
              "    <tr>\n",
              "      <th>1._FC_NÃ¼rnberg</th>\n",
              "      <td>49.426389</td>\n",
              "      <td>11.125278</td>\n",
              "    </tr>\n",
              "    <tr>\n",
              "      <th>1._FC_Union_Berlin</th>\n",
              "      <td>52.457222</td>\n",
              "      <td>13.568056</td>\n",
              "    </tr>\n",
              "    <tr>\n",
              "      <th>...</th>\n",
              "      <td>...</td>\n",
              "      <td>...</td>\n",
              "    </tr>\n",
              "    <tr>\n",
              "      <th>Å koda</th>\n",
              "      <td>50.421100</td>\n",
              "      <td>14.930600</td>\n",
              "    </tr>\n",
              "    <tr>\n",
              "      <th>Å»agaÅ</th>\n",
              "      <td>51.616667</td>\n",
              "      <td>15.316667</td>\n",
              "    </tr>\n",
              "    <tr>\n",
              "      <th>Å»nin</th>\n",
              "      <td>52.849580</td>\n",
              "      <td>17.719920</td>\n",
              "    </tr>\n",
              "    <tr>\n",
              "      <th>Å»ywiec</th>\n",
              "      <td>49.688633</td>\n",
              "      <td>19.204017</td>\n",
              "    </tr>\n",
              "    <tr>\n",
              "      <th>Å½ilina</th>\n",
              "      <td>49.225833</td>\n",
              "      <td>18.708125</td>\n",
              "    </tr>\n",
              "  </tbody>\n",
              "</table>\n",
              "<p>108042 rows × 2 columns</p>\n",
              "</div>"
            ],
            "text/plain": [
              "                          gt_lat     gt_lon\n",
              "cl_to                                      \n",
              "1._FC_Colonia          50.933611   6.875000\n",
              "1._FC_Heidenheim_1846  48.668500  10.139300\n",
              "1._FC_Kaiserslautern   49.434444   7.775833\n",
              "1._FC_NÃ¼rnberg        49.426389  11.125278\n",
              "1._FC_Union_Berlin     52.457222  13.568056\n",
              "...                          ...        ...\n",
              "Å koda                 50.421100  14.930600\n",
              "Å»agaÅ                51.616667  15.316667\n",
              "Å»nin                  52.849580  17.719920\n",
              "Å»ywiec                49.688633  19.204017\n",
              "Å½ilina                49.225833  18.708125\n",
              "\n",
              "[108042 rows x 2 columns]"
            ]
          },
          "metadata": {},
          "execution_count": 13
        }
      ]
    },
    {
      "cell_type": "code",
      "metadata": {
        "id": "SUL4dvIm44Vt",
        "colab": {
          "base_uri": "https://localhost:8080/"
        },
        "outputId": "7ab4d9e6-e237-450e-e166-f522434e12c7"
      },
      "source": [
        "from sklearn.neighbors import KDTree\n",
        "tree = KDTree(a)\n",
        "dist, ind = tree.query(a, k=2)                \n",
        "print(ind)  # indices of 2 closest neighbors\n",
        "print(dist)  # distances to 2 closest neighbors"
      ],
      "execution_count": null,
      "outputs": [
        {
          "output_type": "stream",
          "name": "stdout",
          "text": [
            "[[     0  80614]\n",
            " [     1  10951]\n",
            " [ 30997      2]\n",
            " ...\n",
            " [108039  86958]\n",
            " [108040 105397]\n",
            " [108041  91688]]\n",
            "[[0.         0.00644806]\n",
            " [0.         0.01694943]\n",
            " [0.         0.        ]\n",
            " ...\n",
            " [0.         0.0660249 ]\n",
            " [0.         0.05390422]\n",
            " [0.         0.03146806]]\n"
          ]
        }
      ]
    },
    {
      "cell_type": "code",
      "metadata": {
        "id": "W1RhrHZ-USuU",
        "colab": {
          "base_uri": "https://localhost:8080/"
        },
        "outputId": "085e2b28-cb19-4015-9b6e-066824927b99"
      },
      "source": [
        "min_index= np.argmin(dist[:,1])\n",
        "print(ind[min_index])\n",
        "print(a[ind[min_index][0]], a[ind[min_index][1]])"
      ],
      "execution_count": null,
      "outputs": [
        {
          "output_type": "stream",
          "name": "stdout",
          "text": [
            "[30997     2]\n",
            "[49.434444  7.775833] [49.434444  7.775833]\n"
          ]
        }
      ]
    },
    {
      "cell_type": "code",
      "metadata": {
        "colab": {
          "base_uri": "https://localhost:8080/"
        },
        "id": "4DgM0-FtmNq7",
        "outputId": "bd47d5ab-83a4-44b1-a4b4-9e26fb11d5db"
      },
      "source": [
        "print('Categorias mas cercanas:')\n",
        "print(geo_categories.loc[ind[min_index][0], ['cl_to']])\n",
        "print(geo_categories.loc[ind[min_index][1], ['cl_to']])"
      ],
      "execution_count": null,
      "outputs": [
        {
          "output_type": "stream",
          "name": "stdout",
          "text": [
            "Categorias mas cercanas:\n",
            "cl_to    Wikipedia:PÃ¡ginas_que_utilizan_Timeline\n",
            "Name: 30997, dtype: object\n",
            "cl_to    Wikipedia:ArtÃ­culos_con_datos_locales\n",
            "Name: 2, dtype: object\n"
          ]
        }
      ]
    },
    {
      "cell_type": "markdown",
      "metadata": {
        "id": "RsARfPmHxgX5"
      },
      "source": [
        "### 53) Si para un usuario tenemos la cantidad de acciones que realizó para cada tipo de log y la cantidad de veces que fue bloqueado: ¿Cuál es la acción que más y menos correlaciona con ser bloqueado? ¿Qué acción correlaciona más con saber algo(babel>=0) de inglés?"
      ]
    },
    {
      "cell_type": "code",
      "metadata": {
        "id": "4SPxg9QPT04s"
      },
      "source": [
        "id='1E1HtTbXVdwJJW7Z7XeyMf9H-GQVgD0OK'\n",
        "downloaded = drive.CreateFile({'id': id})\n",
        "downloaded.GetContentFile('logs.csv')"
      ],
      "execution_count": null,
      "outputs": []
    },
    {
      "cell_type": "code",
      "metadata": {
        "colab": {
          "base_uri": "https://localhost:8080/"
        },
        "id": "TCEks4Nc1U3v",
        "outputId": "598379ba-eb36-405e-eea0-21e71f8dbf4d"
      },
      "source": [
        "id='1RILGHMiAuB3n3Nc1n1cHshOR4QkQLDmb'\n",
        "downloaded = drive.CreateFile({'id': id})\n",
        "downloaded.GetContentFile('languages.csv')\n",
        "\n",
        "languages = pd.read_csv('languages.csv')\n",
        "languages.info()"
      ],
      "execution_count": null,
      "outputs": [
        {
          "output_type": "stream",
          "name": "stdout",
          "text": [
            "<class 'pandas.core.frame.DataFrame'>\n",
            "RangeIndex: 35666 entries, 0 to 35665\n",
            "Data columns (total 3 columns):\n",
            " #   Column       Non-Null Count  Dtype \n",
            "---  ------       --------------  ----- \n",
            " 0   babel_user   35666 non-null  int64 \n",
            " 1   babel_lang   35662 non-null  object\n",
            " 2   babel_level  35666 non-null  object\n",
            "dtypes: int64(1), object(2)\n",
            "memory usage: 836.0+ KB\n"
          ]
        }
      ]
    },
    {
      "cell_type": "markdown",
      "metadata": {
        "id": "pbqktQvYlpzp"
      },
      "source": [
        "Me quedo solo con las columnas que uso"
      ]
    },
    {
      "cell_type": "code",
      "metadata": {
        "id": "Ztaj5EbPBQuy",
        "colab": {
          "base_uri": "https://localhost:8080/"
        },
        "outputId": "2645225a-7212-447b-858d-28a866f289e2"
      },
      "source": [
        "logs = pd.read_csv('logs.csv', usecols=['contributor_ip', 'contributor_id' ,'contributor_username','title', 'action']) "
      ],
      "execution_count": null,
      "outputs": [
        {
          "output_type": "stream",
          "name": "stderr",
          "text": [
            "/usr/local/lib/python3.7/dist-packages/IPython/core/interactiveshell.py:2718: DtypeWarning: Columns (4) have mixed types.Specify dtype option on import or set low_memory=False.\n",
            "  interactivity=interactivity, compiler=compiler, result=result)\n"
          ]
        }
      ]
    },
    {
      "cell_type": "code",
      "metadata": {
        "id": "JLenjHTXsN6a",
        "colab": {
          "base_uri": "https://localhost:8080/"
        },
        "outputId": "c256de44-0522-4c41-ea5e-26c5baaae22e"
      },
      "source": [
        "pd.DataFrame({'Cantidad de nulos': logs.isnull().sum(), 'Porcentaje de nulos': (logs.isnull().mean() * 100)})"
      ],
      "execution_count": null,
      "outputs": [
        {
          "output_type": "execute_result",
          "data": {
            "text/html": [
              "<div>\n",
              "<style scoped>\n",
              "    .dataframe tbody tr th:only-of-type {\n",
              "        vertical-align: middle;\n",
              "    }\n",
              "\n",
              "    .dataframe tbody tr th {\n",
              "        vertical-align: top;\n",
              "    }\n",
              "\n",
              "    .dataframe thead th {\n",
              "        text-align: right;\n",
              "    }\n",
              "</style>\n",
              "<table border=\"1\" class=\"dataframe\">\n",
              "  <thead>\n",
              "    <tr style=\"text-align: right;\">\n",
              "      <th></th>\n",
              "      <th>Cantidad de nulos</th>\n",
              "      <th>Porcentaje de nulos</th>\n",
              "    </tr>\n",
              "  </thead>\n",
              "  <tbody>\n",
              "    <tr>\n",
              "      <th>contributor_username</th>\n",
              "      <td>125253</td>\n",
              "      <td>1.027595</td>\n",
              "    </tr>\n",
              "    <tr>\n",
              "      <th>contributor_id</th>\n",
              "      <td>125253</td>\n",
              "      <td>1.027595</td>\n",
              "    </tr>\n",
              "    <tr>\n",
              "      <th>contributor_ip</th>\n",
              "      <td>12064770</td>\n",
              "      <td>98.981241</td>\n",
              "    </tr>\n",
              "    <tr>\n",
              "      <th>action</th>\n",
              "      <td>2</td>\n",
              "      <td>0.000016</td>\n",
              "    </tr>\n",
              "    <tr>\n",
              "      <th>title</th>\n",
              "      <td>2005</td>\n",
              "      <td>0.016449</td>\n",
              "    </tr>\n",
              "  </tbody>\n",
              "</table>\n",
              "</div>"
            ],
            "text/plain": [
              "                      Cantidad de nulos  Porcentaje de nulos\n",
              "contributor_username             125253             1.027595\n",
              "contributor_id                   125253             1.027595\n",
              "contributor_ip                 12064770            98.981241\n",
              "action                                2             0.000016\n",
              "title                              2005             0.016449"
            ]
          },
          "metadata": {},
          "execution_count": 20
        }
      ]
    },
    {
      "cell_type": "code",
      "metadata": {
        "id": "3Vr300cfe8vG",
        "colab": {
          "base_uri": "https://localhost:8080/",
          "height": 419
        },
        "outputId": "4b522906-9cfa-47c3-8b32-af606ecdef7f"
      },
      "source": [
        "logs"
      ],
      "execution_count": null,
      "outputs": [
        {
          "output_type": "execute_result",
          "data": {
            "text/html": [
              "<div>\n",
              "<style scoped>\n",
              "    .dataframe tbody tr th:only-of-type {\n",
              "        vertical-align: middle;\n",
              "    }\n",
              "\n",
              "    .dataframe tbody tr th {\n",
              "        vertical-align: top;\n",
              "    }\n",
              "\n",
              "    .dataframe thead th {\n",
              "        text-align: right;\n",
              "    }\n",
              "</style>\n",
              "<table border=\"1\" class=\"dataframe\">\n",
              "  <thead>\n",
              "    <tr style=\"text-align: right;\">\n",
              "      <th></th>\n",
              "      <th>contributor_username</th>\n",
              "      <th>contributor_id</th>\n",
              "      <th>contributor_ip</th>\n",
              "      <th>action</th>\n",
              "      <th>title</th>\n",
              "    </tr>\n",
              "  </thead>\n",
              "  <tbody>\n",
              "    <tr>\n",
              "      <th>0</th>\n",
              "      <td>Sabbut</td>\n",
              "      <td>2075.0</td>\n",
              "      <td>NaN</td>\n",
              "      <td>delete</td>\n",
              "      <td>Verificacionismo</td>\n",
              "    </tr>\n",
              "    <tr>\n",
              "      <th>1</th>\n",
              "      <td>Sabbut</td>\n",
              "      <td>2075.0</td>\n",
              "      <td>NaN</td>\n",
              "      <td>delete</td>\n",
              "      <td>Rapunzel</td>\n",
              "    </tr>\n",
              "    <tr>\n",
              "      <th>2</th>\n",
              "      <td>Sabbut</td>\n",
              "      <td>2075.0</td>\n",
              "      <td>NaN</td>\n",
              "      <td>delete</td>\n",
              "      <td>Macromedia Flash</td>\n",
              "    </tr>\n",
              "    <tr>\n",
              "      <th>3</th>\n",
              "      <td>Sanbec</td>\n",
              "      <td>7856.0</td>\n",
              "      <td>NaN</td>\n",
              "      <td>delete</td>\n",
              "      <td>Archivo:Gnu head.png</td>\n",
              "    </tr>\n",
              "    <tr>\n",
              "      <th>4</th>\n",
              "      <td>Sanbec</td>\n",
              "      <td>7856.0</td>\n",
              "      <td>NaN</td>\n",
              "      <td>delete</td>\n",
              "      <td>Archivo:Gnu-head-sm.jpg</td>\n",
              "    </tr>\n",
              "    <tr>\n",
              "      <th>...</th>\n",
              "      <td>...</td>\n",
              "      <td>...</td>\n",
              "      <td>...</td>\n",
              "      <td>...</td>\n",
              "      <td>...</td>\n",
              "    </tr>\n",
              "    <tr>\n",
              "      <th>12188941</th>\n",
              "      <td>SeroBOT</td>\n",
              "      <td>4980693.0</td>\n",
              "      <td>NaN</td>\n",
              "      <td>create</td>\n",
              "      <td>Usuario discusión:El guachicol</td>\n",
              "    </tr>\n",
              "    <tr>\n",
              "      <th>12188942</th>\n",
              "      <td>Leonpolanco</td>\n",
              "      <td>561850.0</td>\n",
              "      <td>NaN</td>\n",
              "      <td>create</td>\n",
              "      <td>Usuario discusión:2806:2F0:3140:BE0:C09B:D1C4:...</td>\n",
              "    </tr>\n",
              "    <tr>\n",
              "      <th>12188943</th>\n",
              "      <td>Desiretjs</td>\n",
              "      <td>6335019.0</td>\n",
              "      <td>NaN</td>\n",
              "      <td>create</td>\n",
              "      <td>Usuario:Desiretjs</td>\n",
              "    </tr>\n",
              "    <tr>\n",
              "      <th>12188944</th>\n",
              "      <td>Correogsk</td>\n",
              "      <td>443260.0</td>\n",
              "      <td>NaN</td>\n",
              "      <td>create</td>\n",
              "      <td>Contenedores</td>\n",
              "    </tr>\n",
              "    <tr>\n",
              "      <th>12188945</th>\n",
              "      <td>Liza.amane</td>\n",
              "      <td>6335020.0</td>\n",
              "      <td>NaN</td>\n",
              "      <td>create</td>\n",
              "      <td>Usuario:Liza.amane</td>\n",
              "    </tr>\n",
              "  </tbody>\n",
              "</table>\n",
              "<p>12188946 rows × 5 columns</p>\n",
              "</div>"
            ],
            "text/plain": [
              "         contributor_username  ...                                              title\n",
              "0                      Sabbut  ...                                   Verificacionismo\n",
              "1                      Sabbut  ...                                           Rapunzel\n",
              "2                      Sabbut  ...                                   Macromedia Flash\n",
              "3                      Sanbec  ...                               Archivo:Gnu head.png\n",
              "4                      Sanbec  ...                            Archivo:Gnu-head-sm.jpg\n",
              "...                       ...  ...                                                ...\n",
              "12188941              SeroBOT  ...                     Usuario discusión:El guachicol\n",
              "12188942          Leonpolanco  ...  Usuario discusión:2806:2F0:3140:BE0:C09B:D1C4:...\n",
              "12188943            Desiretjs  ...                                  Usuario:Desiretjs\n",
              "12188944            Correogsk  ...                                       Contenedores\n",
              "12188945           Liza.amane  ...                                 Usuario:Liza.amane\n",
              "\n",
              "[12188946 rows x 5 columns]"
            ]
          },
          "metadata": {},
          "execution_count": 21
        }
      ]
    },
    {
      "cell_type": "markdown",
      "metadata": {
        "id": "ADLCeoA3lvIF"
      },
      "source": [
        "Busco los usuarios que fueron bloqueados, y luego veo las acciones que realizaron"
      ]
    },
    {
      "cell_type": "code",
      "metadata": {
        "id": "fK5Npgd3OoKE",
        "colab": {
          "base_uri": "https://localhost:8080/"
        },
        "outputId": "76272cc8-e0ee-4d64-e4a6-7b5a54b35156"
      },
      "source": [
        "blocks = logs.loc[logs[('action')]==\"block\",:] #filtro solo los bloqueos\n",
        "blocked_users = blocks['title'].str.replace(\"Usuario:\", \"\")\n",
        "blocked_users"
      ],
      "execution_count": null,
      "outputs": [
        {
          "output_type": "execute_result",
          "data": {
            "text/plain": [
              "5             212.55.30.157\n",
              "287          201.241.228.15\n",
              "288           201.255.50.32\n",
              "290            84.122.0.158\n",
              "313            81.192.12.93\n",
              "                 ...       \n",
              "12188865    186.141.200.121\n",
              "12188886          Galaxi066\n",
              "12188909        Xx.tkpro.xx\n",
              "12188924    181.167.104.152\n",
              "12188930      190.18.98.138\n",
              "Name: title, Length: 342302, dtype: object"
            ]
          },
          "metadata": {},
          "execution_count": 22
        }
      ]
    },
    {
      "cell_type": "code",
      "metadata": {
        "id": "OWdfv0DN7J8B",
        "colab": {
          "base_uri": "https://localhost:8080/",
          "height": 419
        },
        "outputId": "6296028d-d515-432a-e992-5e8346238ec5"
      },
      "source": [
        "blocked_username_actions = (logs.loc[logs['contributor_username'].isin(blocked_users), :])\n",
        "blocked_username_actions "
      ],
      "execution_count": null,
      "outputs": [
        {
          "output_type": "execute_result",
          "data": {
            "text/html": [
              "<div>\n",
              "<style scoped>\n",
              "    .dataframe tbody tr th:only-of-type {\n",
              "        vertical-align: middle;\n",
              "    }\n",
              "\n",
              "    .dataframe tbody tr th {\n",
              "        vertical-align: top;\n",
              "    }\n",
              "\n",
              "    .dataframe thead th {\n",
              "        text-align: right;\n",
              "    }\n",
              "</style>\n",
              "<table border=\"1\" class=\"dataframe\">\n",
              "  <thead>\n",
              "    <tr style=\"text-align: right;\">\n",
              "      <th></th>\n",
              "      <th>contributor_username</th>\n",
              "      <th>contributor_id</th>\n",
              "      <th>contributor_ip</th>\n",
              "      <th>action</th>\n",
              "      <th>title</th>\n",
              "    </tr>\n",
              "  </thead>\n",
              "  <tbody>\n",
              "    <tr>\n",
              "      <th>0</th>\n",
              "      <td>Sabbut</td>\n",
              "      <td>2075.0</td>\n",
              "      <td>NaN</td>\n",
              "      <td>delete</td>\n",
              "      <td>Verificacionismo</td>\n",
              "    </tr>\n",
              "    <tr>\n",
              "      <th>1</th>\n",
              "      <td>Sabbut</td>\n",
              "      <td>2075.0</td>\n",
              "      <td>NaN</td>\n",
              "      <td>delete</td>\n",
              "      <td>Rapunzel</td>\n",
              "    </tr>\n",
              "    <tr>\n",
              "      <th>2</th>\n",
              "      <td>Sabbut</td>\n",
              "      <td>2075.0</td>\n",
              "      <td>NaN</td>\n",
              "      <td>delete</td>\n",
              "      <td>Macromedia Flash</td>\n",
              "    </tr>\n",
              "    <tr>\n",
              "      <th>3</th>\n",
              "      <td>Sanbec</td>\n",
              "      <td>7856.0</td>\n",
              "      <td>NaN</td>\n",
              "      <td>delete</td>\n",
              "      <td>Archivo:Gnu head.png</td>\n",
              "    </tr>\n",
              "    <tr>\n",
              "      <th>4</th>\n",
              "      <td>Sanbec</td>\n",
              "      <td>7856.0</td>\n",
              "      <td>NaN</td>\n",
              "      <td>delete</td>\n",
              "      <td>Archivo:Gnu-head-sm.jpg</td>\n",
              "    </tr>\n",
              "    <tr>\n",
              "      <th>...</th>\n",
              "      <td>...</td>\n",
              "      <td>...</td>\n",
              "      <td>...</td>\n",
              "      <td>...</td>\n",
              "      <td>...</td>\n",
              "    </tr>\n",
              "    <tr>\n",
              "      <th>12188905</th>\n",
              "      <td>Latothy99</td>\n",
              "      <td>6001164.0</td>\n",
              "      <td>NaN</td>\n",
              "      <td>thank</td>\n",
              "      <td>Usuario:JulioW4rrior00</td>\n",
              "    </tr>\n",
              "    <tr>\n",
              "      <th>12188913</th>\n",
              "      <td>NaN</td>\n",
              "      <td>NaN</td>\n",
              "      <td>190.122.184.86</td>\n",
              "      <td>create</td>\n",
              "      <td>Chiquimula F.C.</td>\n",
              "    </tr>\n",
              "    <tr>\n",
              "      <th>12188915</th>\n",
              "      <td>NaN</td>\n",
              "      <td>NaN</td>\n",
              "      <td>2806:108E:1C:366A:EC17:C8DB:35:3EAF</td>\n",
              "      <td>create</td>\n",
              "      <td>Black Hawk Down (libro)</td>\n",
              "    </tr>\n",
              "    <tr>\n",
              "      <th>12188918</th>\n",
              "      <td>NaN</td>\n",
              "      <td>NaN</td>\n",
              "      <td>186.73.165.140</td>\n",
              "      <td>create</td>\n",
              "      <td>Bastón Sonajero Guna</td>\n",
              "    </tr>\n",
              "    <tr>\n",
              "      <th>12188941</th>\n",
              "      <td>SeroBOT</td>\n",
              "      <td>4980693.0</td>\n",
              "      <td>NaN</td>\n",
              "      <td>create</td>\n",
              "      <td>Usuario discusión:El guachicol</td>\n",
              "    </tr>\n",
              "  </tbody>\n",
              "</table>\n",
              "<p>2536743 rows × 5 columns</p>\n",
              "</div>"
            ],
            "text/plain": [
              "         contributor_username  ...                           title\n",
              "0                      Sabbut  ...                Verificacionismo\n",
              "1                      Sabbut  ...                        Rapunzel\n",
              "2                      Sabbut  ...                Macromedia Flash\n",
              "3                      Sanbec  ...            Archivo:Gnu head.png\n",
              "4                      Sanbec  ...         Archivo:Gnu-head-sm.jpg\n",
              "...                       ...  ...                             ...\n",
              "12188905            Latothy99  ...          Usuario:JulioW4rrior00\n",
              "12188913                  NaN  ...                 Chiquimula F.C.\n",
              "12188915                  NaN  ...         Black Hawk Down (libro)\n",
              "12188918                  NaN  ...            Bastón Sonajero Guna\n",
              "12188941              SeroBOT  ...  Usuario discusión:El guachicol\n",
              "\n",
              "[2536743 rows x 5 columns]"
            ]
          },
          "metadata": {},
          "execution_count": 23
        }
      ]
    },
    {
      "cell_type": "markdown",
      "metadata": {
        "id": "c9TsFCSWmXIa"
      },
      "source": [
        "Cuento las acciones de los usuarios bloqueados y me fijo cuales son las que mas y menos se repiten"
      ]
    },
    {
      "cell_type": "code",
      "metadata": {
        "id": "vaKUhk52ak89",
        "colab": {
          "base_uri": "https://localhost:8080/"
        },
        "outputId": "9dc1f6e6-744d-4cd9-880c-897057381996"
      },
      "source": [
        "blocked_actions = blocked_username_actions.loc[:, ['action']].value_counts()\n",
        "print('Accion que mas se relaciona con ser bloqueado: '+ blocked_actions.idxmax()[0])\n",
        "print('Accion que menos se relaciona con ser bloqueado: '+ blocked_actions.idxmin()[0])"
      ],
      "execution_count": null,
      "outputs": [
        {
          "output_type": "stream",
          "name": "stdout",
          "text": [
            "Accion que mas se relaciona con ser bloqueado: delete\n",
            "Accion que menos se relaciona con ser bloqueado: profilesave\n"
          ]
        }
      ]
    },
    {
      "cell_type": "code",
      "metadata": {
        "id": "uxGfyZcEIC4e",
        "colab": {
          "base_uri": "https://localhost:8080/"
        },
        "outputId": "93009fec-33ea-4886-f237-02b6d3743069"
      },
      "source": [
        "languages.info()"
      ],
      "execution_count": null,
      "outputs": [
        {
          "output_type": "stream",
          "name": "stdout",
          "text": [
            "<class 'pandas.core.frame.DataFrame'>\n",
            "RangeIndex: 35666 entries, 0 to 35665\n",
            "Data columns (total 3 columns):\n",
            " #   Column       Non-Null Count  Dtype \n",
            "---  ------       --------------  ----- \n",
            " 0   babel_user   35666 non-null  int64 \n",
            " 1   babel_lang   35662 non-null  object\n",
            " 2   babel_level  35666 non-null  object\n",
            "dtypes: int64(1), object(2)\n",
            "memory usage: 836.0+ KB\n"
          ]
        }
      ]
    },
    {
      "cell_type": "code",
      "metadata": {
        "id": "f0RdMX98HU_M",
        "colab": {
          "base_uri": "https://localhost:8080/"
        },
        "outputId": "a1a3571b-590b-4bea-edb2-d4accf403b5e"
      },
      "source": [
        "languages.loc[languages['babel_level'] ==  \"N\", 'babel_level'] = 1 \n",
        "pd.to_numeric(languages['babel_level'])\n",
        "english_speakers = (languages.loc[(languages['babel_lang'] == \"en\") & ((languages['babel_level']).astype(\"int\") >= 1), :])['babel_user']\n",
        "english_speakers"
      ],
      "execution_count": null,
      "outputs": [
        {
          "output_type": "execute_result",
          "data": {
            "text/plain": [
              "3906         311\n",
              "3907        3712\n",
              "3908        3823\n",
              "3909        5639\n",
              "3910        7856\n",
              "          ...   \n",
              "13355    6253125\n",
              "13356    6254900\n",
              "13357    6277026\n",
              "13358    6327824\n",
              "13359    6331490\n",
              "Name: babel_user, Length: 9454, dtype: int64"
            ]
          },
          "metadata": {},
          "execution_count": 26
        }
      ]
    },
    {
      "cell_type": "code",
      "metadata": {
        "id": "AuZJn3JOJBKi",
        "colab": {
          "base_uri": "https://localhost:8080/"
        },
        "outputId": "6d86f549-2955-440e-e9d6-22de2d8613e0"
      },
      "source": [
        "actions_english_speakers = (logs.loc[logs['contributor_id'].isin(english_speakers), :])\n",
        "actions_english_speakers"
      ],
      "execution_count": null,
      "outputs": [
        {
          "output_type": "execute_result",
          "data": {
            "text/html": [
              "<div>\n",
              "<style scoped>\n",
              "    .dataframe tbody tr th:only-of-type {\n",
              "        vertical-align: middle;\n",
              "    }\n",
              "\n",
              "    .dataframe tbody tr th {\n",
              "        vertical-align: top;\n",
              "    }\n",
              "\n",
              "    .dataframe thead th {\n",
              "        text-align: right;\n",
              "    }\n",
              "</style>\n",
              "<table border=\"1\" class=\"dataframe\">\n",
              "  <thead>\n",
              "    <tr style=\"text-align: right;\">\n",
              "      <th></th>\n",
              "      <th>contributor_username</th>\n",
              "      <th>contributor_id</th>\n",
              "      <th>contributor_ip</th>\n",
              "      <th>action</th>\n",
              "      <th>title</th>\n",
              "    </tr>\n",
              "  </thead>\n",
              "  <tbody>\n",
              "    <tr>\n",
              "      <th>0</th>\n",
              "      <td>Sabbut</td>\n",
              "      <td>2075.0</td>\n",
              "      <td>NaN</td>\n",
              "      <td>delete</td>\n",
              "      <td>Verificacionismo</td>\n",
              "    </tr>\n",
              "    <tr>\n",
              "      <th>1</th>\n",
              "      <td>Sabbut</td>\n",
              "      <td>2075.0</td>\n",
              "      <td>NaN</td>\n",
              "      <td>delete</td>\n",
              "      <td>Rapunzel</td>\n",
              "    </tr>\n",
              "    <tr>\n",
              "      <th>2</th>\n",
              "      <td>Sabbut</td>\n",
              "      <td>2075.0</td>\n",
              "      <td>NaN</td>\n",
              "      <td>delete</td>\n",
              "      <td>Macromedia Flash</td>\n",
              "    </tr>\n",
              "    <tr>\n",
              "      <th>3</th>\n",
              "      <td>Sanbec</td>\n",
              "      <td>7856.0</td>\n",
              "      <td>NaN</td>\n",
              "      <td>delete</td>\n",
              "      <td>Archivo:Gnu head.png</td>\n",
              "    </tr>\n",
              "    <tr>\n",
              "      <th>4</th>\n",
              "      <td>Sanbec</td>\n",
              "      <td>7856.0</td>\n",
              "      <td>NaN</td>\n",
              "      <td>delete</td>\n",
              "      <td>Archivo:Gnu-head-sm.jpg</td>\n",
              "    </tr>\n",
              "    <tr>\n",
              "      <th>...</th>\n",
              "      <td>...</td>\n",
              "      <td>...</td>\n",
              "      <td>...</td>\n",
              "      <td>...</td>\n",
              "      <td>...</td>\n",
              "    </tr>\n",
              "    <tr>\n",
              "      <th>12188928</th>\n",
              "      <td>Leonpolanco</td>\n",
              "      <td>561850.0</td>\n",
              "      <td>NaN</td>\n",
              "      <td>create</td>\n",
              "      <td>Usuario discusión:190.18.98.138</td>\n",
              "    </tr>\n",
              "    <tr>\n",
              "      <th>12188932</th>\n",
              "      <td>Leonpolanco</td>\n",
              "      <td>561850.0</td>\n",
              "      <td>NaN</td>\n",
              "      <td>create</td>\n",
              "      <td>Usuario discusión:190.110.109.44</td>\n",
              "    </tr>\n",
              "    <tr>\n",
              "      <th>12188937</th>\n",
              "      <td>Leonpolanco</td>\n",
              "      <td>561850.0</td>\n",
              "      <td>NaN</td>\n",
              "      <td>create</td>\n",
              "      <td>Usuario discusión:2800:810:4FF:A95:D5AA:C859:F...</td>\n",
              "    </tr>\n",
              "    <tr>\n",
              "      <th>12188942</th>\n",
              "      <td>Leonpolanco</td>\n",
              "      <td>561850.0</td>\n",
              "      <td>NaN</td>\n",
              "      <td>create</td>\n",
              "      <td>Usuario discusión:2806:2F0:3140:BE0:C09B:D1C4:...</td>\n",
              "    </tr>\n",
              "    <tr>\n",
              "      <th>12188944</th>\n",
              "      <td>Correogsk</td>\n",
              "      <td>443260.0</td>\n",
              "      <td>NaN</td>\n",
              "      <td>create</td>\n",
              "      <td>Contenedores</td>\n",
              "    </tr>\n",
              "  </tbody>\n",
              "</table>\n",
              "<p>1655169 rows × 5 columns</p>\n",
              "</div>"
            ],
            "text/plain": [
              "         contributor_username  ...                                              title\n",
              "0                      Sabbut  ...                                   Verificacionismo\n",
              "1                      Sabbut  ...                                           Rapunzel\n",
              "2                      Sabbut  ...                                   Macromedia Flash\n",
              "3                      Sanbec  ...                               Archivo:Gnu head.png\n",
              "4                      Sanbec  ...                            Archivo:Gnu-head-sm.jpg\n",
              "...                       ...  ...                                                ...\n",
              "12188928          Leonpolanco  ...                    Usuario discusión:190.18.98.138\n",
              "12188932          Leonpolanco  ...                   Usuario discusión:190.110.109.44\n",
              "12188937          Leonpolanco  ...  Usuario discusión:2800:810:4FF:A95:D5AA:C859:F...\n",
              "12188942          Leonpolanco  ...  Usuario discusión:2806:2F0:3140:BE0:C09B:D1C4:...\n",
              "12188944            Correogsk  ...                                       Contenedores\n",
              "\n",
              "[1655169 rows x 5 columns]"
            ]
          },
          "metadata": {},
          "execution_count": 27
        }
      ]
    },
    {
      "cell_type": "code",
      "metadata": {
        "id": "M78LPmdWKRda",
        "colab": {
          "base_uri": "https://localhost:8080/"
        },
        "outputId": "87a46523-c2eb-4a87-c81d-28d223df4b8e"
      },
      "source": [
        "actions_english_speakers = actions_english_speakers.loc[:, ['action']].value_counts()\n",
        "print('Accion que mas se relaciona con saber ingles: '+ actions_english_speakers.idxmax()[0])\n",
        "print('Accion que menos se relaciona con saber ingles: '+ actions_english_speakers.idxmin()[0])"
      ],
      "execution_count": null,
      "outputs": [
        {
          "output_type": "stream",
          "name": "stdout",
          "text": [
            "Accion que mas se relaciona con saber ingles: delete\n",
            "Accion que menos se relaciona con saber ingles: new\n"
          ]
        }
      ]
    }
  ]
}
