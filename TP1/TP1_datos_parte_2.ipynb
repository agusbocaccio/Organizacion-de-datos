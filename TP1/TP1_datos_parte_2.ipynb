{
  "nbformat": 4,
  "nbformat_minor": 0,
  "metadata": {
    "colab": {
      "name": "TP1_datos_parte_2.ipynb",
      "provenance": [],
      "collapsed_sections": [
        "sQ2ugURUHJx5"
      ]
    },
    "kernelspec": {
      "name": "python3",
      "display_name": "Python 3"
    },
    "language_info": {
      "name": "python"
    }
  },
  "cells": [
    {
      "cell_type": "markdown",
      "metadata": {
        "id": "EQUlxbRmIMvO"
      },
      "source": [
        "# Trabajo práctico 1 (Parte 2) - Organización de datos\n",
        "### Facultad de ingeniería - Universidad de Buenos Aires\n",
        "\n",
        "\n",
        "---\n",
        "\n",
        "\n",
        "Alumna: Agustina Bocaccio \\\\\n",
        "Padron: 106393 \\\\\n",
        "Email: abocaccio@fi.uba.ar \\\\\n",
        "\n",
        "---\n",
        "\n",
        "#### Segundo cuatrimestre 2021\n",
        "#### Fecha de entrega: 14/10"
      ]
    },
    {
      "cell_type": "markdown",
      "metadata": {
        "id": "sQ2ugURUHJx5"
      },
      "source": [
        "## Imports"
      ]
    },
    {
      "cell_type": "code",
      "metadata": {
        "id": "BDBX8kuNuRcg"
      },
      "source": [
        "import pandas as pd\n",
        "import seaborn as sns\n",
        "import numpy as np\n",
        "import matplotlib.pyplot as plt"
      ],
      "execution_count": null,
      "outputs": []
    },
    {
      "cell_type": "code",
      "metadata": {
        "id": "zVWbglIw7Lt4"
      },
      "source": [
        "from pydrive.auth import GoogleAuth\n",
        "from pydrive.drive import GoogleDrive\n",
        "from google.colab import auth\n",
        "from oauth2client.client import GoogleCredentials\n",
        "\n",
        "auth.authenticate_user()\n",
        "gauth = GoogleAuth()\n",
        "gauth.credentials = GoogleCredentials.get_application_default()\n",
        "drive = GoogleDrive(gauth)"
      ],
      "execution_count": null,
      "outputs": []
    },
    {
      "cell_type": "markdown",
      "metadata": {
        "id": "QrI81x6BTp8y"
      },
      "source": [
        "## Parte 2"
      ]
    },
    {
      "cell_type": "markdown",
      "metadata": {
        "id": "arzE6kR4QH8f"
      },
      "source": [
        "### Parte a)"
      ]
    },
    {
      "cell_type": "markdown",
      "metadata": {
        "id": "h2lg1_XBYVIT"
      },
      "source": [
        "#### Bar chart\n"
      ]
    },
    {
      "cell_type": "markdown",
      "metadata": {
        "id": "ROoAwzhr3XbY"
      },
      "source": [
        "La variable a predecir en este dataset es la venta de SKU, por lo que es conveniente saber los mas vendidos. Con este bar chart se muestran "
      ]
    },
    {
      "cell_type": "code",
      "metadata": {
        "id": "1FZQbTd3Yg_H"
      },
      "source": [
        "id='10CSjcscRpZJa9Al2G07Tr3UpdoxM7Rzc'\n",
        "downloaded = drive.CreateFile({'id': id})\n",
        "downloaded.GetContentFile('train_data.parquet')\n",
        "\n",
        "meli_data = pd.read_parquet('train_data.parquet')"
      ],
      "execution_count": null,
      "outputs": []
    },
    {
      "cell_type": "code",
      "metadata": {
        "id": "SZizMZICO5g2",
        "colab": {
          "base_uri": "https://localhost:8080/"
        },
        "outputId": "c5daa897-436c-4d3d-887a-e54f001ba791"
      },
      "source": [
        "meli_data"
      ],
      "execution_count": null,
      "outputs": [
        {
          "output_type": "execute_result",
          "data": {
            "text/html": [
              "<div>\n",
              "<style scoped>\n",
              "    .dataframe tbody tr th:only-of-type {\n",
              "        vertical-align: middle;\n",
              "    }\n",
              "\n",
              "    .dataframe tbody tr th {\n",
              "        vertical-align: top;\n",
              "    }\n",
              "\n",
              "    .dataframe thead th {\n",
              "        text-align: right;\n",
              "    }\n",
              "</style>\n",
              "<table border=\"1\" class=\"dataframe\">\n",
              "  <thead>\n",
              "    <tr style=\"text-align: right;\">\n",
              "      <th></th>\n",
              "      <th>sku</th>\n",
              "      <th>date</th>\n",
              "      <th>sold_quantity</th>\n",
              "      <th>current_price</th>\n",
              "      <th>currency</th>\n",
              "      <th>listing_type</th>\n",
              "      <th>shipping_logistic_type</th>\n",
              "      <th>shipping_payment</th>\n",
              "      <th>minutes_active</th>\n",
              "    </tr>\n",
              "  </thead>\n",
              "  <tbody>\n",
              "    <tr>\n",
              "      <th>0</th>\n",
              "      <td>464801</td>\n",
              "      <td>2021-02-01</td>\n",
              "      <td>0</td>\n",
              "      <td>156.78</td>\n",
              "      <td>REA</td>\n",
              "      <td>classic</td>\n",
              "      <td>fulfillment</td>\n",
              "      <td>free_shipping</td>\n",
              "      <td>1440.000000</td>\n",
              "    </tr>\n",
              "    <tr>\n",
              "      <th>1</th>\n",
              "      <td>464801</td>\n",
              "      <td>2021-02-02</td>\n",
              "      <td>0</td>\n",
              "      <td>156.78</td>\n",
              "      <td>REA</td>\n",
              "      <td>classic</td>\n",
              "      <td>fulfillment</td>\n",
              "      <td>free_shipping</td>\n",
              "      <td>1440.000000</td>\n",
              "    </tr>\n",
              "    <tr>\n",
              "      <th>2</th>\n",
              "      <td>464801</td>\n",
              "      <td>2021-02-03</td>\n",
              "      <td>0</td>\n",
              "      <td>156.78</td>\n",
              "      <td>REA</td>\n",
              "      <td>classic</td>\n",
              "      <td>fulfillment</td>\n",
              "      <td>free_shipping</td>\n",
              "      <td>1440.000000</td>\n",
              "    </tr>\n",
              "    <tr>\n",
              "      <th>3</th>\n",
              "      <td>464801</td>\n",
              "      <td>2021-02-04</td>\n",
              "      <td>0</td>\n",
              "      <td>156.78</td>\n",
              "      <td>REA</td>\n",
              "      <td>classic</td>\n",
              "      <td>fulfillment</td>\n",
              "      <td>free_shipping</td>\n",
              "      <td>1440.000000</td>\n",
              "    </tr>\n",
              "    <tr>\n",
              "      <th>4</th>\n",
              "      <td>464801</td>\n",
              "      <td>2021-02-05</td>\n",
              "      <td>1</td>\n",
              "      <td>156.78</td>\n",
              "      <td>REA</td>\n",
              "      <td>classic</td>\n",
              "      <td>fulfillment</td>\n",
              "      <td>free_shipping</td>\n",
              "      <td>1440.000000</td>\n",
              "    </tr>\n",
              "    <tr>\n",
              "      <th>...</th>\n",
              "      <td>...</td>\n",
              "      <td>...</td>\n",
              "      <td>...</td>\n",
              "      <td>...</td>\n",
              "      <td>...</td>\n",
              "      <td>...</td>\n",
              "      <td>...</td>\n",
              "      <td>...</td>\n",
              "      <td>...</td>\n",
              "    </tr>\n",
              "    <tr>\n",
              "      <th>37660274</th>\n",
              "      <td>129187</td>\n",
              "      <td>2021-03-31</td>\n",
              "      <td>0</td>\n",
              "      <td>22057.00</td>\n",
              "      <td>ARG</td>\n",
              "      <td>classic</td>\n",
              "      <td>drop_off</td>\n",
              "      <td>free_shipping</td>\n",
              "      <td>267.710767</td>\n",
              "    </tr>\n",
              "    <tr>\n",
              "      <th>37660275</th>\n",
              "      <td>6707</td>\n",
              "      <td>2021-03-31</td>\n",
              "      <td>0</td>\n",
              "      <td>26999.00</td>\n",
              "      <td>ARG</td>\n",
              "      <td>classic</td>\n",
              "      <td>cross_docking</td>\n",
              "      <td>free_shipping</td>\n",
              "      <td>266.083333</td>\n",
              "    </tr>\n",
              "    <tr>\n",
              "      <th>37660276</th>\n",
              "      <td>170355</td>\n",
              "      <td>2021-03-31</td>\n",
              "      <td>0</td>\n",
              "      <td>3400.00</td>\n",
              "      <td>ARG</td>\n",
              "      <td>classic</td>\n",
              "      <td>drop_off</td>\n",
              "      <td>paid_shipping</td>\n",
              "      <td>0.252633</td>\n",
              "    </tr>\n",
              "    <tr>\n",
              "      <th>37660277</th>\n",
              "      <td>246568</td>\n",
              "      <td>2021-03-31</td>\n",
              "      <td>0</td>\n",
              "      <td>6289.00</td>\n",
              "      <td>ARG</td>\n",
              "      <td>classic</td>\n",
              "      <td>fulfillment</td>\n",
              "      <td>free_shipping</td>\n",
              "      <td>135.416667</td>\n",
              "    </tr>\n",
              "    <tr>\n",
              "      <th>37660278</th>\n",
              "      <td>49718</td>\n",
              "      <td>2021-03-31</td>\n",
              "      <td>0</td>\n",
              "      <td>1990.00</td>\n",
              "      <td>ARG</td>\n",
              "      <td>classic</td>\n",
              "      <td>drop_off</td>\n",
              "      <td>paid_shipping</td>\n",
              "      <td>88.033333</td>\n",
              "    </tr>\n",
              "  </tbody>\n",
              "</table>\n",
              "<p>37660279 rows × 9 columns</p>\n",
              "</div>"
            ],
            "text/plain": [
              "             sku        date  ...  shipping_payment  minutes_active\n",
              "0         464801  2021-02-01  ...     free_shipping     1440.000000\n",
              "1         464801  2021-02-02  ...     free_shipping     1440.000000\n",
              "2         464801  2021-02-03  ...     free_shipping     1440.000000\n",
              "3         464801  2021-02-04  ...     free_shipping     1440.000000\n",
              "4         464801  2021-02-05  ...     free_shipping     1440.000000\n",
              "...          ...         ...  ...               ...             ...\n",
              "37660274  129187  2021-03-31  ...     free_shipping      267.710767\n",
              "37660275    6707  2021-03-31  ...     free_shipping      266.083333\n",
              "37660276  170355  2021-03-31  ...     paid_shipping        0.252633\n",
              "37660277  246568  2021-03-31  ...     free_shipping      135.416667\n",
              "37660278   49718  2021-03-31  ...     paid_shipping       88.033333\n",
              "\n",
              "[37660279 rows x 9 columns]"
            ]
          },
          "metadata": {},
          "execution_count": 4
        }
      ]
    },
    {
      "cell_type": "code",
      "metadata": {
        "id": "Js6tccWXYG3r",
        "colab": {
          "base_uri": "https://localhost:8080/"
        },
        "outputId": "8317d12d-305f-4c0b-d45e-6b6c82bdabd9"
      },
      "source": [
        "meli_sku = meli_data.loc[:, ['sku', 'sold_quantity']].groupby('sku').sum()\n",
        "meli_sku"
      ],
      "execution_count": null,
      "outputs": [
        {
          "output_type": "execute_result",
          "data": {
            "text/html": [
              "<div>\n",
              "<style scoped>\n",
              "    .dataframe tbody tr th:only-of-type {\n",
              "        vertical-align: middle;\n",
              "    }\n",
              "\n",
              "    .dataframe tbody tr th {\n",
              "        vertical-align: top;\n",
              "    }\n",
              "\n",
              "    .dataframe thead th {\n",
              "        text-align: right;\n",
              "    }\n",
              "</style>\n",
              "<table border=\"1\" class=\"dataframe\">\n",
              "  <thead>\n",
              "    <tr style=\"text-align: right;\">\n",
              "      <th></th>\n",
              "      <th>sold_quantity</th>\n",
              "    </tr>\n",
              "    <tr>\n",
              "      <th>sku</th>\n",
              "      <th></th>\n",
              "    </tr>\n",
              "  </thead>\n",
              "  <tbody>\n",
              "    <tr>\n",
              "      <th>0</th>\n",
              "      <td>11</td>\n",
              "    </tr>\n",
              "    <tr>\n",
              "      <th>1</th>\n",
              "      <td>22</td>\n",
              "    </tr>\n",
              "    <tr>\n",
              "      <th>2</th>\n",
              "      <td>1</td>\n",
              "    </tr>\n",
              "    <tr>\n",
              "      <th>3</th>\n",
              "      <td>8</td>\n",
              "    </tr>\n",
              "    <tr>\n",
              "      <th>4</th>\n",
              "      <td>39</td>\n",
              "    </tr>\n",
              "    <tr>\n",
              "      <th>...</th>\n",
              "      <td>...</td>\n",
              "    </tr>\n",
              "    <tr>\n",
              "      <th>660911</th>\n",
              "      <td>19</td>\n",
              "    </tr>\n",
              "    <tr>\n",
              "      <th>660912</th>\n",
              "      <td>14</td>\n",
              "    </tr>\n",
              "    <tr>\n",
              "      <th>660913</th>\n",
              "      <td>10</td>\n",
              "    </tr>\n",
              "    <tr>\n",
              "      <th>660914</th>\n",
              "      <td>23</td>\n",
              "    </tr>\n",
              "    <tr>\n",
              "      <th>660915</th>\n",
              "      <td>44</td>\n",
              "    </tr>\n",
              "  </tbody>\n",
              "</table>\n",
              "<p>660916 rows × 1 columns</p>\n",
              "</div>"
            ],
            "text/plain": [
              "        sold_quantity\n",
              "sku                  \n",
              "0                  11\n",
              "1                  22\n",
              "2                   1\n",
              "3                   8\n",
              "4                  39\n",
              "...               ...\n",
              "660911             19\n",
              "660912             14\n",
              "660913             10\n",
              "660914             23\n",
              "660915             44\n",
              "\n",
              "[660916 rows x 1 columns]"
            ]
          },
          "metadata": {},
          "execution_count": 5
        }
      ]
    },
    {
      "cell_type": "code",
      "metadata": {
        "colab": {
          "base_uri": "https://localhost:8080/"
        },
        "id": "-FC9pSyZx7lA",
        "outputId": "c3bb2fd2-50d8-4f59-ecfc-bd1f363f67fd"
      },
      "source": [
        "meli_series=meli_sku.squeeze().nlargest(10)\n",
        "meli_series"
      ],
      "execution_count": null,
      "outputs": [
        {
          "output_type": "execute_result",
          "data": {
            "text/plain": [
              "sku\n",
              "526920    137528\n",
              "335101     95731\n",
              "115        68160\n",
              "578318     66711\n",
              "535060     59749\n",
              "492681     52741\n",
              "476143     51599\n",
              "287058     51357\n",
              "232892     47692\n",
              "342848     46621\n",
              "Name: sold_quantity, dtype: int64"
            ]
          },
          "metadata": {},
          "execution_count": 6
        }
      ]
    },
    {
      "cell_type": "code",
      "metadata": {
        "colab": {
          "base_uri": "https://localhost:8080/"
        },
        "id": "Gk8u05VWywO8",
        "outputId": "9b962e6e-115a-426c-8572-39c6ec9bce18"
      },
      "source": [
        "plt.figure(figsize=(6.4, 4.8), dpi=100)\n",
        "meli_series.plot.bar(color= {'#EB943B'})\n",
        "plt.ylabel(\"Sold quantity\")\n",
        "plt.xlabel(\"SKU\")\n",
        "plt.title(\"The 10 Best-Selling SKU in February and March 2021 \")\n",
        "plt.show()"
      ],
      "execution_count": null,
      "outputs": [
        {
          "output_type": "display_data",
          "data": {
            "image/png": "[encoded data removed]",
            "text/plain": [
              "<Figure size 640x480 with 1 Axes>"
            ]
          },
          "metadata": {
            "needs_background": "light"
          }
        }
      ]
    },
    {
      "cell_type": "markdown",
      "metadata": {
        "id": "rICoc2fCy5nR"
      },
      "source": [
        "#### Pie chart"
      ]
    },
    {
      "cell_type": "code",
      "metadata": {
        "colab": {
          "base_uri": "https://localhost:8080/"
        },
        "id": "UfX0zcA5iINU",
        "outputId": "1ee2205e-eb36-4fed-a91b-dabdc1fe6b52"
      },
      "source": [
        "plt.figure(dpi=80)\n",
        "meli_data['shipping_logistic_type'].value_counts().plot.pie(colors={'#691E94', '#F05F32', '#F0FF32'}, subplots=True)\n",
        "plt.title(\"Shipping logistic type distribution\")\n",
        "plt.show()"
      ],
      "execution_count": null,
      "outputs": [
        {
          "output_type": "display_data",
          "data": {
            "image/png": "[encoded data removed]",
            "text/plain": [
              "<Figure size 480x320 with 1 Axes>"
            ]
          },
          "metadata": {}
        }
      ]
    },
    {
      "cell_type": "markdown",
      "metadata": {
        "id": "3MdAR_lywtFC"
      },
      "source": [
        "#### Violin plot"
      ]
    },
    {
      "cell_type": "code",
      "metadata": {
        "id": "7QpSLoy-w1Fu"
      },
      "source": [
        "id='1mtJARQUFJj-xcVxjdDyk_vJ75cVhcK6c'\n",
        "downloaded = drive.CreateFile({'id': id})\n",
        "downloaded.GetContentFile('dengue_features_train.csv')\n",
        "dengue_data = pd.read_csv('dengue_features_train.csv')"
      ],
      "execution_count": null,
      "outputs": []
    },
    {
      "cell_type": "code",
      "metadata": {
        "id": "rCyItC6pxh9F"
      },
      "source": [
        "dengue_data.loc[dengue_data['city']=='sj', ['city']] ='San Juan'\n",
        "dengue_data.loc[dengue_data['city']=='iq', ['city']] ='Iquitos'\n",
        "dengue_humidity = dengue_data.loc[:, ['reanalysis_relative_humidity_percent', 'city']]"
      ],
      "execution_count": null,
      "outputs": []
    },
    {
      "cell_type": "code",
      "metadata": {
        "colab": {
          "base_uri": "https://localhost:8080/"
        },
        "id": "WC_Vo8PexM5y",
        "outputId": "e946aa54-0b34-483e-befd-8c53b59abf48"
      },
      "source": [
        "plt.figure(dpi=80)\n",
        "plt.title(\"Humidity percent distribution for each city\")\n",
        "sns.violinplot(data=dengue_data, y='reanalysis_relative_humidity_percent', x='city', palette=['#4346F0', \"#FC933A\"])\n",
        "plt.ylabel('Relative humidity percent')\n",
        "\n",
        "plt.show()"
      ],
      "execution_count": null,
      "outputs": [
        {
          "output_type": "display_data",
          "data": {
            "image/png": "[encoded data removed]",
            "text/plain": [
              "<Figure size 480x320 with 1 Axes>"
            ]
          },
          "metadata": {
            "needs_background": "light"
          }
        }
      ]
    },
    {
      "cell_type": "markdown",
      "metadata": {
        "id": "6qjSsWTOzJ8y"
      },
      "source": [
        "#### Box plot"
      ]
    },
    {
      "cell_type": "code",
      "metadata": {
        "colab": {
          "base_uri": "https://localhost:8080/"
        },
        "id": "zwZzc14QMm3m",
        "outputId": "093cb102-d9d6-4d01-dca9-b2763446bba3"
      },
      "source": [
        "plt.figure(dpi=80)\n",
        "plt.title(\"Precipitation distribution for each city\")\n",
        "sns.boxplot(data=dengue_data, y='precipitation_amt_mm', x='city', palette=['#F0DF3E', \"#7F4EC7\"])\n",
        "plt.ylabel('Total precipitations')\n",
        "plt.show()"
      ],
      "execution_count": null,
      "outputs": [
        {
          "output_type": "display_data",
          "data": {
            "image/png": "[encoded data removed]",
            "text/plain": [
              "<Figure size 480x320 with 1 Axes>"
            ]
          },
          "metadata": {
            "needs_background": "light"
          }
        }
      ]
    },
    {
      "cell_type": "markdown",
      "metadata": {
        "id": "JtzQEJtdzvyk"
      },
      "source": [
        "#### Histograma"
      ]
    },
    {
      "cell_type": "code",
      "metadata": {
        "colab": {
          "base_uri": "https://localhost:8080/"
        },
        "id": "lIi3EWOnmRFh",
        "outputId": "79903924-e633-47f7-b8cd-dfe316f74b96"
      },
      "source": [
        "plt.figure(dpi=100)\n",
        "iquitos_temp = dengue_data.loc[dengue_data['city']=='Iquitos', ['city', 'station_avg_temp_c']]\n",
        "iquitos_temp.hist(bins=20, column=['station_avg_temp_c'], figsize = (9,7), color={'#687AB3'})\n",
        "plt.ylabel('Frequency')\n",
        "plt.xlabel('Temperature')\n",
        "plt.title('Temperature distribution in Iquitos', size= 20)"
      ],
      "execution_count": null,
      "outputs": [
        {
          "output_type": "execute_result",
          "data": {
            "text/plain": [
              "Text(0.5, 1.0, 'Temperature distribution in Iquitos')"
            ]
          },
          "metadata": {},
          "execution_count": 13
        },
        {
          "output_type": "display_data",
          "data": {
            "text/plain": [
              "<Figure size 600x400 with 0 Axes>"
            ]
          },
          "metadata": {}
        },
        {
          "output_type": "display_data",
          "data": {
            "image/png": "[encoded data removed]",
            "text/plain": [
              "<Figure size 648x504 with 1 Axes>"
            ]
          },
          "metadata": {
            "needs_background": "light"
          }
        }
      ]
    },
    {
      "cell_type": "markdown",
      "metadata": {
        "id": "oUxhbBfEV51s"
      },
      "source": [
        "#### Heatmap"
      ]
    },
    {
      "cell_type": "code",
      "metadata": {
        "id": "UUhYm56XWFSz"
      },
      "source": [
        "id='1BDD0tlAqXE-h5uX9kxmH_CrjwQPp9jtX'\n",
        "downloaded = drive.CreateFile({'id': id})\n",
        "downloaded.GetContentFile('training_set_features.csv')\n",
        "\n",
        "flu_data = pd.read_csv('training_set_features.csv')"
      ],
      "execution_count": null,
      "outputs": []
    },
    {
      "cell_type": "code",
      "metadata": {
        "colab": {
          "base_uri": "https://localhost:8080/"
        },
        "id": "ofPykV3PXyj0",
        "outputId": "46c5e657-d9f6-499f-cfaa-1ddb2969bda8"
      },
      "source": [
        "flu_data"
      ],
      "execution_count": null,
      "outputs": [
        {
          "output_type": "execute_result",
          "data": {
            "text/html": [
              "<div>\n",
              "<style scoped>\n",
              "    .dataframe tbody tr th:only-of-type {\n",
              "        vertical-align: middle;\n",
              "    }\n",
              "\n",
              "    .dataframe tbody tr th {\n",
              "        vertical-align: top;\n",
              "    }\n",
              "\n",
              "    .dataframe thead th {\n",
              "        text-align: right;\n",
              "    }\n",
              "</style>\n",
              "<table border=\"1\" class=\"dataframe\">\n",
              "  <thead>\n",
              "    <tr style=\"text-align: right;\">\n",
              "      <th></th>\n",
              "      <th>respondent_id</th>\n",
              "      <th>h1n1_concern</th>\n",
              "      <th>h1n1_knowledge</th>\n",
              "      <th>behavioral_antiviral_meds</th>\n",
              "      <th>behavioral_avoidance</th>\n",
              "      <th>behavioral_face_mask</th>\n",
              "      <th>behavioral_wash_hands</th>\n",
              "      <th>behavioral_large_gatherings</th>\n",
              "      <th>behavioral_outside_home</th>\n",
              "      <th>behavioral_touch_face</th>\n",
              "      <th>doctor_recc_h1n1</th>\n",
              "      <th>doctor_recc_seasonal</th>\n",
              "      <th>chronic_med_condition</th>\n",
              "      <th>child_under_6_months</th>\n",
              "      <th>health_worker</th>\n",
              "      <th>health_insurance</th>\n",
              "      <th>opinion_h1n1_vacc_effective</th>\n",
              "      <th>opinion_h1n1_risk</th>\n",
              "      <th>opinion_h1n1_sick_from_vacc</th>\n",
              "      <th>opinion_seas_vacc_effective</th>\n",
              "      <th>opinion_seas_risk</th>\n",
              "      <th>opinion_seas_sick_from_vacc</th>\n",
              "      <th>age_group</th>\n",
              "      <th>education</th>\n",
              "      <th>race</th>\n",
              "      <th>sex</th>\n",
              "      <th>income_poverty</th>\n",
              "      <th>marital_status</th>\n",
              "      <th>rent_or_own</th>\n",
              "      <th>employment_status</th>\n",
              "      <th>hhs_geo_region</th>\n",
              "      <th>census_msa</th>\n",
              "      <th>household_adults</th>\n",
              "      <th>household_children</th>\n",
              "      <th>employment_industry</th>\n",
              "      <th>employment_occupation</th>\n",
              "    </tr>\n",
              "  </thead>\n",
              "  <tbody>\n",
              "    <tr>\n",
              "      <th>0</th>\n",
              "      <td>0</td>\n",
              "      <td>1.0</td>\n",
              "      <td>0.0</td>\n",
              "      <td>0.0</td>\n",
              "      <td>0.0</td>\n",
              "      <td>0.0</td>\n",
              "      <td>0.0</td>\n",
              "      <td>0.0</td>\n",
              "      <td>1.0</td>\n",
              "      <td>1.0</td>\n",
              "      <td>0.0</td>\n",
              "      <td>0.0</td>\n",
              "      <td>0.0</td>\n",
              "      <td>0.0</td>\n",
              "      <td>0.0</td>\n",
              "      <td>1.0</td>\n",
              "      <td>3.0</td>\n",
              "      <td>1.0</td>\n",
              "      <td>2.0</td>\n",
              "      <td>2.0</td>\n",
              "      <td>1.0</td>\n",
              "      <td>2.0</td>\n",
              "      <td>55 - 64 Years</td>\n",
              "      <td>&lt; 12 Years</td>\n",
              "      <td>White</td>\n",
              "      <td>Female</td>\n",
              "      <td>Below Poverty</td>\n",
              "      <td>Not Married</td>\n",
              "      <td>Own</td>\n",
              "      <td>Not in Labor Force</td>\n",
              "      <td>oxchjgsf</td>\n",
              "      <td>Non-MSA</td>\n",
              "      <td>0.0</td>\n",
              "      <td>0.0</td>\n",
              "      <td>NaN</td>\n",
              "      <td>NaN</td>\n",
              "    </tr>\n",
              "    <tr>\n",
              "      <th>1</th>\n",
              "      <td>1</td>\n",
              "      <td>3.0</td>\n",
              "      <td>2.0</td>\n",
              "      <td>0.0</td>\n",
              "      <td>1.0</td>\n",
              "      <td>0.0</td>\n",
              "      <td>1.0</td>\n",
              "      <td>0.0</td>\n",
              "      <td>1.0</td>\n",
              "      <td>1.0</td>\n",
              "      <td>0.0</td>\n",
              "      <td>0.0</td>\n",
              "      <td>0.0</td>\n",
              "      <td>0.0</td>\n",
              "      <td>0.0</td>\n",
              "      <td>1.0</td>\n",
              "      <td>5.0</td>\n",
              "      <td>4.0</td>\n",
              "      <td>4.0</td>\n",
              "      <td>4.0</td>\n",
              "      <td>2.0</td>\n",
              "      <td>4.0</td>\n",
              "      <td>35 - 44 Years</td>\n",
              "      <td>12 Years</td>\n",
              "      <td>White</td>\n",
              "      <td>Male</td>\n",
              "      <td>Below Poverty</td>\n",
              "      <td>Not Married</td>\n",
              "      <td>Rent</td>\n",
              "      <td>Employed</td>\n",
              "      <td>bhuqouqj</td>\n",
              "      <td>MSA, Not Principle  City</td>\n",
              "      <td>0.0</td>\n",
              "      <td>0.0</td>\n",
              "      <td>pxcmvdjn</td>\n",
              "      <td>xgwztkwe</td>\n",
              "    </tr>\n",
              "    <tr>\n",
              "      <th>2</th>\n",
              "      <td>2</td>\n",
              "      <td>1.0</td>\n",
              "      <td>1.0</td>\n",
              "      <td>0.0</td>\n",
              "      <td>1.0</td>\n",
              "      <td>0.0</td>\n",
              "      <td>0.0</td>\n",
              "      <td>0.0</td>\n",
              "      <td>0.0</td>\n",
              "      <td>0.0</td>\n",
              "      <td>NaN</td>\n",
              "      <td>NaN</td>\n",
              "      <td>1.0</td>\n",
              "      <td>0.0</td>\n",
              "      <td>0.0</td>\n",
              "      <td>NaN</td>\n",
              "      <td>3.0</td>\n",
              "      <td>1.0</td>\n",
              "      <td>1.0</td>\n",
              "      <td>4.0</td>\n",
              "      <td>1.0</td>\n",
              "      <td>2.0</td>\n",
              "      <td>18 - 34 Years</td>\n",
              "      <td>College Graduate</td>\n",
              "      <td>White</td>\n",
              "      <td>Male</td>\n",
              "      <td>&lt;= $75,000, Above Poverty</td>\n",
              "      <td>Not Married</td>\n",
              "      <td>Own</td>\n",
              "      <td>Employed</td>\n",
              "      <td>qufhixun</td>\n",
              "      <td>MSA, Not Principle  City</td>\n",
              "      <td>2.0</td>\n",
              "      <td>0.0</td>\n",
              "      <td>rucpziij</td>\n",
              "      <td>xtkaffoo</td>\n",
              "    </tr>\n",
              "    <tr>\n",
              "      <th>3</th>\n",
              "      <td>3</td>\n",
              "      <td>1.0</td>\n",
              "      <td>1.0</td>\n",
              "      <td>0.0</td>\n",
              "      <td>1.0</td>\n",
              "      <td>0.0</td>\n",
              "      <td>1.0</td>\n",
              "      <td>1.0</td>\n",
              "      <td>0.0</td>\n",
              "      <td>0.0</td>\n",
              "      <td>0.0</td>\n",
              "      <td>1.0</td>\n",
              "      <td>1.0</td>\n",
              "      <td>0.0</td>\n",
              "      <td>0.0</td>\n",
              "      <td>NaN</td>\n",
              "      <td>3.0</td>\n",
              "      <td>3.0</td>\n",
              "      <td>5.0</td>\n",
              "      <td>5.0</td>\n",
              "      <td>4.0</td>\n",
              "      <td>1.0</td>\n",
              "      <td>65+ Years</td>\n",
              "      <td>12 Years</td>\n",
              "      <td>White</td>\n",
              "      <td>Female</td>\n",
              "      <td>Below Poverty</td>\n",
              "      <td>Not Married</td>\n",
              "      <td>Rent</td>\n",
              "      <td>Not in Labor Force</td>\n",
              "      <td>lrircsnp</td>\n",
              "      <td>MSA, Principle City</td>\n",
              "      <td>0.0</td>\n",
              "      <td>0.0</td>\n",
              "      <td>NaN</td>\n",
              "      <td>NaN</td>\n",
              "    </tr>\n",
              "    <tr>\n",
              "      <th>4</th>\n",
              "      <td>4</td>\n",
              "      <td>2.0</td>\n",
              "      <td>1.0</td>\n",
              "      <td>0.0</td>\n",
              "      <td>1.0</td>\n",
              "      <td>0.0</td>\n",
              "      <td>1.0</td>\n",
              "      <td>1.0</td>\n",
              "      <td>0.0</td>\n",
              "      <td>1.0</td>\n",
              "      <td>0.0</td>\n",
              "      <td>0.0</td>\n",
              "      <td>0.0</td>\n",
              "      <td>0.0</td>\n",
              "      <td>0.0</td>\n",
              "      <td>NaN</td>\n",
              "      <td>3.0</td>\n",
              "      <td>3.0</td>\n",
              "      <td>2.0</td>\n",
              "      <td>3.0</td>\n",
              "      <td>1.0</td>\n",
              "      <td>4.0</td>\n",
              "      <td>45 - 54 Years</td>\n",
              "      <td>Some College</td>\n",
              "      <td>White</td>\n",
              "      <td>Female</td>\n",
              "      <td>&lt;= $75,000, Above Poverty</td>\n",
              "      <td>Married</td>\n",
              "      <td>Own</td>\n",
              "      <td>Employed</td>\n",
              "      <td>qufhixun</td>\n",
              "      <td>MSA, Not Principle  City</td>\n",
              "      <td>1.0</td>\n",
              "      <td>0.0</td>\n",
              "      <td>wxleyezf</td>\n",
              "      <td>emcorrxb</td>\n",
              "    </tr>\n",
              "    <tr>\n",
              "      <th>...</th>\n",
              "      <td>...</td>\n",
              "      <td>...</td>\n",
              "      <td>...</td>\n",
              "      <td>...</td>\n",
              "      <td>...</td>\n",
              "      <td>...</td>\n",
              "      <td>...</td>\n",
              "      <td>...</td>\n",
              "      <td>...</td>\n",
              "      <td>...</td>\n",
              "      <td>...</td>\n",
              "      <td>...</td>\n",
              "      <td>...</td>\n",
              "      <td>...</td>\n",
              "      <td>...</td>\n",
              "      <td>...</td>\n",
              "      <td>...</td>\n",
              "      <td>...</td>\n",
              "      <td>...</td>\n",
              "      <td>...</td>\n",
              "      <td>...</td>\n",
              "      <td>...</td>\n",
              "      <td>...</td>\n",
              "      <td>...</td>\n",
              "      <td>...</td>\n",
              "      <td>...</td>\n",
              "      <td>...</td>\n",
              "      <td>...</td>\n",
              "      <td>...</td>\n",
              "      <td>...</td>\n",
              "      <td>...</td>\n",
              "      <td>...</td>\n",
              "      <td>...</td>\n",
              "      <td>...</td>\n",
              "      <td>...</td>\n",
              "      <td>...</td>\n",
              "    </tr>\n",
              "    <tr>\n",
              "      <th>26702</th>\n",
              "      <td>26702</td>\n",
              "      <td>2.0</td>\n",
              "      <td>0.0</td>\n",
              "      <td>0.0</td>\n",
              "      <td>1.0</td>\n",
              "      <td>0.0</td>\n",
              "      <td>0.0</td>\n",
              "      <td>0.0</td>\n",
              "      <td>1.0</td>\n",
              "      <td>0.0</td>\n",
              "      <td>0.0</td>\n",
              "      <td>0.0</td>\n",
              "      <td>0.0</td>\n",
              "      <td>0.0</td>\n",
              "      <td>0.0</td>\n",
              "      <td>NaN</td>\n",
              "      <td>3.0</td>\n",
              "      <td>1.0</td>\n",
              "      <td>1.0</td>\n",
              "      <td>5.0</td>\n",
              "      <td>2.0</td>\n",
              "      <td>2.0</td>\n",
              "      <td>65+ Years</td>\n",
              "      <td>Some College</td>\n",
              "      <td>White</td>\n",
              "      <td>Female</td>\n",
              "      <td>&lt;= $75,000, Above Poverty</td>\n",
              "      <td>Not Married</td>\n",
              "      <td>Own</td>\n",
              "      <td>Not in Labor Force</td>\n",
              "      <td>qufhixun</td>\n",
              "      <td>Non-MSA</td>\n",
              "      <td>0.0</td>\n",
              "      <td>0.0</td>\n",
              "      <td>NaN</td>\n",
              "      <td>NaN</td>\n",
              "    </tr>\n",
              "    <tr>\n",
              "      <th>26703</th>\n",
              "      <td>26703</td>\n",
              "      <td>1.0</td>\n",
              "      <td>2.0</td>\n",
              "      <td>0.0</td>\n",
              "      <td>1.0</td>\n",
              "      <td>0.0</td>\n",
              "      <td>1.0</td>\n",
              "      <td>0.0</td>\n",
              "      <td>0.0</td>\n",
              "      <td>0.0</td>\n",
              "      <td>1.0</td>\n",
              "      <td>1.0</td>\n",
              "      <td>0.0</td>\n",
              "      <td>0.0</td>\n",
              "      <td>1.0</td>\n",
              "      <td>1.0</td>\n",
              "      <td>4.0</td>\n",
              "      <td>2.0</td>\n",
              "      <td>2.0</td>\n",
              "      <td>5.0</td>\n",
              "      <td>1.0</td>\n",
              "      <td>1.0</td>\n",
              "      <td>18 - 34 Years</td>\n",
              "      <td>College Graduate</td>\n",
              "      <td>White</td>\n",
              "      <td>Male</td>\n",
              "      <td>&lt;= $75,000, Above Poverty</td>\n",
              "      <td>Not Married</td>\n",
              "      <td>Rent</td>\n",
              "      <td>Employed</td>\n",
              "      <td>lzgpxyit</td>\n",
              "      <td>MSA, Principle City</td>\n",
              "      <td>1.0</td>\n",
              "      <td>0.0</td>\n",
              "      <td>fcxhlnwr</td>\n",
              "      <td>cmhcxjea</td>\n",
              "    </tr>\n",
              "    <tr>\n",
              "      <th>26704</th>\n",
              "      <td>26704</td>\n",
              "      <td>2.0</td>\n",
              "      <td>2.0</td>\n",
              "      <td>0.0</td>\n",
              "      <td>1.0</td>\n",
              "      <td>1.0</td>\n",
              "      <td>1.0</td>\n",
              "      <td>1.0</td>\n",
              "      <td>0.0</td>\n",
              "      <td>1.0</td>\n",
              "      <td>0.0</td>\n",
              "      <td>0.0</td>\n",
              "      <td>0.0</td>\n",
              "      <td>0.0</td>\n",
              "      <td>0.0</td>\n",
              "      <td>NaN</td>\n",
              "      <td>4.0</td>\n",
              "      <td>4.0</td>\n",
              "      <td>2.0</td>\n",
              "      <td>5.0</td>\n",
              "      <td>4.0</td>\n",
              "      <td>2.0</td>\n",
              "      <td>55 - 64 Years</td>\n",
              "      <td>Some College</td>\n",
              "      <td>White</td>\n",
              "      <td>Female</td>\n",
              "      <td>NaN</td>\n",
              "      <td>Not Married</td>\n",
              "      <td>Own</td>\n",
              "      <td>NaN</td>\n",
              "      <td>lzgpxyit</td>\n",
              "      <td>MSA, Not Principle  City</td>\n",
              "      <td>0.0</td>\n",
              "      <td>0.0</td>\n",
              "      <td>NaN</td>\n",
              "      <td>NaN</td>\n",
              "    </tr>\n",
              "    <tr>\n",
              "      <th>26705</th>\n",
              "      <td>26705</td>\n",
              "      <td>1.0</td>\n",
              "      <td>1.0</td>\n",
              "      <td>0.0</td>\n",
              "      <td>0.0</td>\n",
              "      <td>0.0</td>\n",
              "      <td>0.0</td>\n",
              "      <td>0.0</td>\n",
              "      <td>0.0</td>\n",
              "      <td>NaN</td>\n",
              "      <td>0.0</td>\n",
              "      <td>0.0</td>\n",
              "      <td>0.0</td>\n",
              "      <td>0.0</td>\n",
              "      <td>0.0</td>\n",
              "      <td>0.0</td>\n",
              "      <td>3.0</td>\n",
              "      <td>1.0</td>\n",
              "      <td>2.0</td>\n",
              "      <td>2.0</td>\n",
              "      <td>1.0</td>\n",
              "      <td>2.0</td>\n",
              "      <td>18 - 34 Years</td>\n",
              "      <td>Some College</td>\n",
              "      <td>Hispanic</td>\n",
              "      <td>Female</td>\n",
              "      <td>&lt;= $75,000, Above Poverty</td>\n",
              "      <td>Married</td>\n",
              "      <td>Rent</td>\n",
              "      <td>Employed</td>\n",
              "      <td>lrircsnp</td>\n",
              "      <td>Non-MSA</td>\n",
              "      <td>1.0</td>\n",
              "      <td>0.0</td>\n",
              "      <td>fcxhlnwr</td>\n",
              "      <td>haliazsg</td>\n",
              "    </tr>\n",
              "    <tr>\n",
              "      <th>26706</th>\n",
              "      <td>26706</td>\n",
              "      <td>0.0</td>\n",
              "      <td>0.0</td>\n",
              "      <td>0.0</td>\n",
              "      <td>1.0</td>\n",
              "      <td>0.0</td>\n",
              "      <td>0.0</td>\n",
              "      <td>0.0</td>\n",
              "      <td>0.0</td>\n",
              "      <td>0.0</td>\n",
              "      <td>0.0</td>\n",
              "      <td>0.0</td>\n",
              "      <td>0.0</td>\n",
              "      <td>0.0</td>\n",
              "      <td>0.0</td>\n",
              "      <td>1.0</td>\n",
              "      <td>5.0</td>\n",
              "      <td>1.0</td>\n",
              "      <td>1.0</td>\n",
              "      <td>5.0</td>\n",
              "      <td>1.0</td>\n",
              "      <td>1.0</td>\n",
              "      <td>65+ Years</td>\n",
              "      <td>Some College</td>\n",
              "      <td>White</td>\n",
              "      <td>Male</td>\n",
              "      <td>&lt;= $75,000, Above Poverty</td>\n",
              "      <td>Married</td>\n",
              "      <td>Own</td>\n",
              "      <td>Not in Labor Force</td>\n",
              "      <td>mlyzmhmf</td>\n",
              "      <td>MSA, Principle City</td>\n",
              "      <td>1.0</td>\n",
              "      <td>0.0</td>\n",
              "      <td>NaN</td>\n",
              "      <td>NaN</td>\n",
              "    </tr>\n",
              "  </tbody>\n",
              "</table>\n",
              "<p>26707 rows × 36 columns</p>\n",
              "</div>"
            ],
            "text/plain": [
              "       respondent_id  h1n1_concern  ...  employment_industry  employment_occupation\n",
              "0                  0           1.0  ...                  NaN                    NaN\n",
              "1                  1           3.0  ...             pxcmvdjn               xgwztkwe\n",
              "2                  2           1.0  ...             rucpziij               xtkaffoo\n",
              "3                  3           1.0  ...                  NaN                    NaN\n",
              "4                  4           2.0  ...             wxleyezf               emcorrxb\n",
              "...              ...           ...  ...                  ...                    ...\n",
              "26702          26702           2.0  ...                  NaN                    NaN\n",
              "26703          26703           1.0  ...             fcxhlnwr               cmhcxjea\n",
              "26704          26704           2.0  ...                  NaN                    NaN\n",
              "26705          26705           1.0  ...             fcxhlnwr               haliazsg\n",
              "26706          26706           0.0  ...                  NaN                    NaN\n",
              "\n",
              "[26707 rows x 36 columns]"
            ]
          },
          "metadata": {},
          "execution_count": 15
        }
      ]
    },
    {
      "cell_type": "code",
      "metadata": {
        "colab": {
          "base_uri": "https://localhost:8080/"
        },
        "id": "jn35lDZVSOzv",
        "outputId": "d1a8184f-30a5-41c9-ebc2-1246e3e7d518"
      },
      "source": [
        "people_by_age_and_opinion = pd.pivot_table(data = flu_data, index = 'age_group', values = 'respondent_id', columns = 'opinion_seas_risk', aggfunc= 'count')\n",
        "people_by_age_and_opinion= people_by_age_and_opinion.apply(lambda row: (row/row.sum())*100, axis=1)\n",
        "people_by_age_and_opinion.sort_index(inplace = True,ascending = False)\n",
        "people_by_age_and_opinion"
      ],
      "execution_count": null,
      "outputs": [
        {
          "output_type": "execute_result",
          "data": {
            "text/html": [
              "<div>\n",
              "<style scoped>\n",
              "    .dataframe tbody tr th:only-of-type {\n",
              "        vertical-align: middle;\n",
              "    }\n",
              "\n",
              "    .dataframe tbody tr th {\n",
              "        vertical-align: top;\n",
              "    }\n",
              "\n",
              "    .dataframe thead th {\n",
              "        text-align: right;\n",
              "    }\n",
              "</style>\n",
              "<table border=\"1\" class=\"dataframe\">\n",
              "  <thead>\n",
              "    <tr style=\"text-align: right;\">\n",
              "      <th>opinion_seas_risk</th>\n",
              "      <th>1.0</th>\n",
              "      <th>2.0</th>\n",
              "      <th>3.0</th>\n",
              "      <th>4.0</th>\n",
              "      <th>5.0</th>\n",
              "    </tr>\n",
              "    <tr>\n",
              "      <th>age_group</th>\n",
              "      <th></th>\n",
              "      <th></th>\n",
              "      <th></th>\n",
              "      <th></th>\n",
              "      <th></th>\n",
              "    </tr>\n",
              "  </thead>\n",
              "  <tbody>\n",
              "    <tr>\n",
              "      <th>65+ Years</th>\n",
              "      <td>22.258690</td>\n",
              "      <td>30.434134</td>\n",
              "      <td>5.340892</td>\n",
              "      <td>31.791735</td>\n",
              "      <td>10.174549</td>\n",
              "    </tr>\n",
              "    <tr>\n",
              "      <th>55 - 64 Years</th>\n",
              "      <td>21.936543</td>\n",
              "      <td>33.369803</td>\n",
              "      <td>2.461707</td>\n",
              "      <td>30.306346</td>\n",
              "      <td>11.925602</td>\n",
              "    </tr>\n",
              "    <tr>\n",
              "      <th>45 - 54 Years</th>\n",
              "      <td>24.447031</td>\n",
              "      <td>35.195964</td>\n",
              "      <td>1.474583</td>\n",
              "      <td>26.930539</td>\n",
              "      <td>11.951882</td>\n",
              "    </tr>\n",
              "    <tr>\n",
              "      <th>35 - 44 Years</th>\n",
              "      <td>21.840915</td>\n",
              "      <td>37.137537</td>\n",
              "      <td>1.250333</td>\n",
              "      <td>27.853152</td>\n",
              "      <td>11.918063</td>\n",
              "    </tr>\n",
              "    <tr>\n",
              "      <th>18 - 34 Years</th>\n",
              "      <td>23.522482</td>\n",
              "      <td>36.795602</td>\n",
              "      <td>1.197722</td>\n",
              "      <td>27.527980</td>\n",
              "      <td>10.956214</td>\n",
              "    </tr>\n",
              "  </tbody>\n",
              "</table>\n",
              "</div>"
            ],
            "text/plain": [
              "opinion_seas_risk        1.0        2.0       3.0        4.0        5.0\n",
              "age_group                                                              \n",
              "65+ Years          22.258690  30.434134  5.340892  31.791735  10.174549\n",
              "55 - 64 Years      21.936543  33.369803  2.461707  30.306346  11.925602\n",
              "45 - 54 Years      24.447031  35.195964  1.474583  26.930539  11.951882\n",
              "35 - 44 Years      21.840915  37.137537  1.250333  27.853152  11.918063\n",
              "18 - 34 Years      23.522482  36.795602  1.197722  27.527980  10.956214"
            ]
          },
          "metadata": {},
          "execution_count": 16
        }
      ]
    },
    {
      "cell_type": "code",
      "metadata": {
        "colab": {
          "base_uri": "https://localhost:8080/"
        },
        "id": "zVDzZrSW4B6-",
        "outputId": "7dc6b0c9-ff80-4d9c-fe66-e99ac99354af"
      },
      "source": [
        "sns.set(rc={'figure.figsize':(10,8)})\n",
        "\n",
        "people_by_age_and_opinion.sort_index(ascending =  False, inplace = True)\n",
        "g = sns.heatmap(people_by_age_and_opinion, cmap=\"Blues\", annot=True, fmt='f')\n",
        "g.set_ylabel(\"Age range\")\n",
        "g.set_xlabel(\"Respondent's opinion about risk of getting sick with H1N1 flu without vaccine\")\n",
        "g.set_title(\"Respondent's opinion about risk of getting sick with H1N1 flu without vaccine by age range\", size=15)\n",
        "plt.show()"
      ],
      "execution_count": null,
      "outputs": [
        {
          "output_type": "display_data",
          "data": {
            "image/png": "[encoded data removed]",
            "text/plain": [
              "<Figure size 720x576 with 2 Axes>"
            ]
          },
          "metadata": {}
        }
      ]
    },
    {
      "cell_type": "markdown",
      "metadata": {
        "id": "GUuxxDPKQPAD"
      },
      "source": [
        "### Parte b)"
      ]
    },
    {
      "cell_type": "markdown",
      "metadata": {
        "id": "dEJ8DHyFAg08"
      },
      "source": [
        "La visualizacion realizada tiene como objetivo analizar la cantidad de libros que leen en promedio las personas segun su rango etario. Para esto, se selecciono un dataset que contiene informacion de personas con respecto a la lectura en los ultimos 12 meses desde que se les hizo la encuesta.\n",
        "\n",
        "Los datos fueron obtenidos como parte de un proyecto para General Assembly Data Science Immersive course.\n",
        "\n",
        "Fuente: https://www.kaggle.com/bilalyussef/google-books-dataset\n"
      ]
    },
    {
      "cell_type": "code",
      "metadata": {
        "id": "WthIuJV4-KJa"
      },
      "source": [
        "id='1cAkI78EgYrXtPvRizX8vJygACS_aB4zw'\n",
        "downloaded = drive.CreateFile({'id': id})\n",
        "downloaded.GetContentFile('books.csv')\n",
        "books = pd.read_csv('books.csv')"
      ],
      "execution_count": null,
      "outputs": []
    },
    {
      "cell_type": "code",
      "metadata": {
        "colab": {
          "base_uri": "https://localhost:8080/"
        },
        "id": "CFWC3JxOBLSs",
        "outputId": "db777dfb-1884-4560-aa95-88a5df72aa77"
      },
      "source": [
        "books"
      ],
      "execution_count": null,
      "outputs": [
        {
          "output_type": "execute_result",
          "data": {
            "text/html": [
              "<div>\n",
              "<style scoped>\n",
              "    .dataframe tbody tr th:only-of-type {\n",
              "        vertical-align: middle;\n",
              "    }\n",
              "\n",
              "    .dataframe tbody tr th {\n",
              "        vertical-align: top;\n",
              "    }\n",
              "\n",
              "    .dataframe thead th {\n",
              "        text-align: right;\n",
              "    }\n",
              "</style>\n",
              "<table border=\"1\" class=\"dataframe\">\n",
              "  <thead>\n",
              "    <tr style=\"text-align: right;\">\n",
              "      <th></th>\n",
              "      <th>Age</th>\n",
              "      <th>Sex</th>\n",
              "      <th>Race</th>\n",
              "      <th>Marital status?</th>\n",
              "      <th>Education</th>\n",
              "      <th>Employement</th>\n",
              "      <th>Incomes</th>\n",
              "      <th>How many books did you read during last 12months?</th>\n",
              "      <th>Read any printed books during last 12months?</th>\n",
              "      <th>Read any audiobooks during last 12months?</th>\n",
              "      <th>Read any e-books during last 12months?</th>\n",
              "      <th>Last book you read, you…</th>\n",
              "      <th>Do you happen to read any daily news or newspapers?</th>\n",
              "      <th>Do you happen to read any magazines or journals?</th>\n",
              "    </tr>\n",
              "  </thead>\n",
              "  <tbody>\n",
              "    <tr>\n",
              "      <th>0</th>\n",
              "      <td>66</td>\n",
              "      <td>Male</td>\n",
              "      <td>Refused</td>\n",
              "      <td>Divorced</td>\n",
              "      <td>College graduate</td>\n",
              "      <td>Retired</td>\n",
              "      <td>$20,000 to under $30,000</td>\n",
              "      <td>97</td>\n",
              "      <td>Yes</td>\n",
              "      <td>No</td>\n",
              "      <td>Yes</td>\n",
              "      <td>Purchased the book</td>\n",
              "      <td>No</td>\n",
              "      <td>Yes</td>\n",
              "    </tr>\n",
              "    <tr>\n",
              "      <th>1</th>\n",
              "      <td>46</td>\n",
              "      <td>Male</td>\n",
              "      <td>Native American/American Indian</td>\n",
              "      <td>Married</td>\n",
              "      <td>High school graduate</td>\n",
              "      <td>Employed full-time</td>\n",
              "      <td>Less than $10,000</td>\n",
              "      <td>97</td>\n",
              "      <td>Yes</td>\n",
              "      <td>Yes</td>\n",
              "      <td>Yes</td>\n",
              "      <td>Purchased the book</td>\n",
              "      <td>Yes</td>\n",
              "      <td>Yes</td>\n",
              "    </tr>\n",
              "    <tr>\n",
              "      <th>2</th>\n",
              "      <td>32</td>\n",
              "      <td>Male</td>\n",
              "      <td>Mixed race</td>\n",
              "      <td>Never been married</td>\n",
              "      <td>High school graduate</td>\n",
              "      <td>Employed full-time</td>\n",
              "      <td>Less than $10,000</td>\n",
              "      <td>97</td>\n",
              "      <td>No</td>\n",
              "      <td>Yes</td>\n",
              "      <td>Yes</td>\n",
              "      <td>Borrowed the book from a friend or family member</td>\n",
              "      <td>Yes</td>\n",
              "      <td>Yes</td>\n",
              "    </tr>\n",
              "    <tr>\n",
              "      <th>3</th>\n",
              "      <td>27</td>\n",
              "      <td>Male</td>\n",
              "      <td>Mixed race</td>\n",
              "      <td>Married</td>\n",
              "      <td>High school graduate</td>\n",
              "      <td>Employed full-time</td>\n",
              "      <td>$40,000 to under $50,000</td>\n",
              "      <td>97</td>\n",
              "      <td>Yes</td>\n",
              "      <td>No</td>\n",
              "      <td>Yes</td>\n",
              "      <td>Borrowed the book from a library</td>\n",
              "      <td>Yes</td>\n",
              "      <td>No</td>\n",
              "    </tr>\n",
              "    <tr>\n",
              "      <th>4</th>\n",
              "      <td>16</td>\n",
              "      <td>Female</td>\n",
              "      <td>Mixed race</td>\n",
              "      <td>Never been married</td>\n",
              "      <td>High school incomplete</td>\n",
              "      <td>Employed part-time</td>\n",
              "      <td>$10,000 to under $20,000</td>\n",
              "      <td>97</td>\n",
              "      <td>Yes</td>\n",
              "      <td>Yes</td>\n",
              "      <td>No</td>\n",
              "      <td>Purchased the book</td>\n",
              "      <td>Yes</td>\n",
              "      <td>No</td>\n",
              "    </tr>\n",
              "    <tr>\n",
              "      <th>...</th>\n",
              "      <td>...</td>\n",
              "      <td>...</td>\n",
              "      <td>...</td>\n",
              "      <td>...</td>\n",
              "      <td>...</td>\n",
              "      <td>...</td>\n",
              "      <td>...</td>\n",
              "      <td>...</td>\n",
              "      <td>...</td>\n",
              "      <td>...</td>\n",
              "      <td>...</td>\n",
              "      <td>...</td>\n",
              "      <td>...</td>\n",
              "      <td>...</td>\n",
              "    </tr>\n",
              "    <tr>\n",
              "      <th>2827</th>\n",
              "      <td>18</td>\n",
              "      <td>Male</td>\n",
              "      <td>White</td>\n",
              "      <td>Never been married</td>\n",
              "      <td>High school graduate</td>\n",
              "      <td>Employed part-time</td>\n",
              "      <td>$75,000 to under $100,000</td>\n",
              "      <td>0</td>\n",
              "      <td>NaN</td>\n",
              "      <td>NaN</td>\n",
              "      <td>NaN</td>\n",
              "      <td>NaN</td>\n",
              "      <td>Yes</td>\n",
              "      <td>Yes</td>\n",
              "    </tr>\n",
              "    <tr>\n",
              "      <th>2828</th>\n",
              "      <td>17</td>\n",
              "      <td>Male</td>\n",
              "      <td>White</td>\n",
              "      <td>Never been married</td>\n",
              "      <td>High school incomplete</td>\n",
              "      <td>Employed part-time</td>\n",
              "      <td>$30,000 to under $40,000</td>\n",
              "      <td>0</td>\n",
              "      <td>NaN</td>\n",
              "      <td>NaN</td>\n",
              "      <td>NaN</td>\n",
              "      <td>NaN</td>\n",
              "      <td>Yes</td>\n",
              "      <td>No</td>\n",
              "    </tr>\n",
              "    <tr>\n",
              "      <th>2829</th>\n",
              "      <td>17</td>\n",
              "      <td>Female</td>\n",
              "      <td>White</td>\n",
              "      <td>Never been married</td>\n",
              "      <td>High school incomplete</td>\n",
              "      <td>Not employed for pay</td>\n",
              "      <td>9$100,000 to under $150,000</td>\n",
              "      <td>0</td>\n",
              "      <td>NaN</td>\n",
              "      <td>NaN</td>\n",
              "      <td>NaN</td>\n",
              "      <td>NaN</td>\n",
              "      <td>No</td>\n",
              "      <td>Yes</td>\n",
              "    </tr>\n",
              "    <tr>\n",
              "      <th>2830</th>\n",
              "      <td>16</td>\n",
              "      <td>Male</td>\n",
              "      <td>White</td>\n",
              "      <td>Never been married</td>\n",
              "      <td>High school graduate</td>\n",
              "      <td>Not employed for pay</td>\n",
              "      <td>9$100,000 to under $150,000</td>\n",
              "      <td>0</td>\n",
              "      <td>NaN</td>\n",
              "      <td>NaN</td>\n",
              "      <td>NaN</td>\n",
              "      <td>NaN</td>\n",
              "      <td>No</td>\n",
              "      <td>No</td>\n",
              "    </tr>\n",
              "    <tr>\n",
              "      <th>2831</th>\n",
              "      <td>16</td>\n",
              "      <td>Male</td>\n",
              "      <td>White</td>\n",
              "      <td>Never been married</td>\n",
              "      <td>Don’t know</td>\n",
              "      <td>Not employed for pay</td>\n",
              "      <td>Refused</td>\n",
              "      <td>0</td>\n",
              "      <td>NaN</td>\n",
              "      <td>NaN</td>\n",
              "      <td>NaN</td>\n",
              "      <td>NaN</td>\n",
              "      <td>No</td>\n",
              "      <td>No</td>\n",
              "    </tr>\n",
              "  </tbody>\n",
              "</table>\n",
              "<p>2832 rows × 14 columns</p>\n",
              "</div>"
            ],
            "text/plain": [
              "      Age  ... Do you happen to read any magazines or journals?\n",
              "0      66  ...                                              Yes\n",
              "1      46  ...                                              Yes\n",
              "2      32  ...                                              Yes\n",
              "3      27  ...                                               No\n",
              "4      16  ...                                               No\n",
              "...   ...  ...                                              ...\n",
              "2827   18  ...                                              Yes\n",
              "2828   17  ...                                               No\n",
              "2829   17  ...                                              Yes\n",
              "2830   16  ...                                               No\n",
              "2831   16  ...                                               No\n",
              "\n",
              "[2832 rows x 14 columns]"
            ]
          },
          "metadata": {},
          "execution_count": 19
        }
      ]
    },
    {
      "cell_type": "code",
      "metadata": {
        "colab": {
          "base_uri": "https://localhost:8080/"
        },
        "id": "032wJ4BuBOZW",
        "outputId": "d897cde6-319c-4964-b38c-b60882bf6b4f"
      },
      "source": [
        "books.info()"
      ],
      "execution_count": null,
      "outputs": [
        {
          "output_type": "stream",
          "name": "stdout",
          "text": [
            "<class 'pandas.core.frame.DataFrame'>\n",
            "RangeIndex: 2832 entries, 0 to 2831\n",
            "Data columns (total 14 columns):\n",
            " #   Column                                               Non-Null Count  Dtype \n",
            "---  ------                                               --------------  ----- \n",
            " 0   Age                                                  2832 non-null   int64 \n",
            " 1   Sex                                                  2832 non-null   object\n",
            " 2   Race                                                 2832 non-null   object\n",
            " 3   Marital status?                                      2832 non-null   object\n",
            " 4   Education                                            2832 non-null   object\n",
            " 5   Employement                                          2832 non-null   object\n",
            " 6   Incomes                                              2832 non-null   object\n",
            " 7   How many books did you read during last 12months?    2832 non-null   int64 \n",
            " 8   Read any printed books during last 12months?         2442 non-null   object\n",
            " 9   Read any audiobooks during last 12months?            2442 non-null   object\n",
            " 10  Read any e-books during last 12months?               2442 non-null   object\n",
            " 11  Last book you read, you…                             2442 non-null   object\n",
            " 12  Do you happen to read any daily news or newspapers?  2832 non-null   object\n",
            " 13  Do you happen to read any magazines or journals?     2832 non-null   object\n",
            "dtypes: int64(2), object(12)\n",
            "memory usage: 309.9+ KB\n"
          ]
        }
      ]
    },
    {
      "cell_type": "markdown",
      "metadata": {
        "id": "DvGRdz3yDCi4"
      },
      "source": [
        "Agrupo por edad y por cantidad de libros leidos, posteriormente agrupo por rango etario y calculo el promedio"
      ]
    },
    {
      "cell_type": "code",
      "metadata": {
        "colab": {
          "base_uri": "https://localhost:8080/"
        },
        "id": "PNmr_BB9BS6o",
        "outputId": "6d55ea91-3867-4e01-cd2b-365be01d19f3"
      },
      "source": [
        "books_short = books.loc[:, ['How many books did you read during last 12months?', 'Age']].groupby('Age').count()\n",
        "books_short.dropna(inplace=True)\n",
        "books_short"
      ],
      "execution_count": null,
      "outputs": [
        {
          "output_type": "execute_result",
          "data": {
            "text/html": [
              "<div>\n",
              "<style scoped>\n",
              "    .dataframe tbody tr th:only-of-type {\n",
              "        vertical-align: middle;\n",
              "    }\n",
              "\n",
              "    .dataframe tbody tr th {\n",
              "        vertical-align: top;\n",
              "    }\n",
              "\n",
              "    .dataframe thead th {\n",
              "        text-align: right;\n",
              "    }\n",
              "</style>\n",
              "<table border=\"1\" class=\"dataframe\">\n",
              "  <thead>\n",
              "    <tr style=\"text-align: right;\">\n",
              "      <th></th>\n",
              "      <th>How many books did you read during last 12months?</th>\n",
              "    </tr>\n",
              "    <tr>\n",
              "      <th>Age</th>\n",
              "      <th></th>\n",
              "    </tr>\n",
              "  </thead>\n",
              "  <tbody>\n",
              "    <tr>\n",
              "      <th>16</th>\n",
              "      <td>68</td>\n",
              "    </tr>\n",
              "    <tr>\n",
              "      <th>17</th>\n",
              "      <td>68</td>\n",
              "    </tr>\n",
              "    <tr>\n",
              "      <th>18</th>\n",
              "      <td>59</td>\n",
              "    </tr>\n",
              "    <tr>\n",
              "      <th>19</th>\n",
              "      <td>34</td>\n",
              "    </tr>\n",
              "    <tr>\n",
              "      <th>20</th>\n",
              "      <td>34</td>\n",
              "    </tr>\n",
              "    <tr>\n",
              "      <th>...</th>\n",
              "      <td>...</td>\n",
              "    </tr>\n",
              "    <tr>\n",
              "      <th>89</th>\n",
              "      <td>2</td>\n",
              "    </tr>\n",
              "    <tr>\n",
              "      <th>90</th>\n",
              "      <td>2</td>\n",
              "    </tr>\n",
              "    <tr>\n",
              "      <th>91</th>\n",
              "      <td>3</td>\n",
              "    </tr>\n",
              "    <tr>\n",
              "      <th>92</th>\n",
              "      <td>2</td>\n",
              "    </tr>\n",
              "    <tr>\n",
              "      <th>93</th>\n",
              "      <td>1</td>\n",
              "    </tr>\n",
              "  </tbody>\n",
              "</table>\n",
              "<p>78 rows × 1 columns</p>\n",
              "</div>"
            ],
            "text/plain": [
              "     How many books did you read during last 12months?\n",
              "Age                                                   \n",
              "16                                                  68\n",
              "17                                                  68\n",
              "18                                                  59\n",
              "19                                                  34\n",
              "20                                                  34\n",
              "..                                                 ...\n",
              "89                                                   2\n",
              "90                                                   2\n",
              "91                                                   3\n",
              "92                                                   2\n",
              "93                                                   1\n",
              "\n",
              "[78 rows x 1 columns]"
            ]
          },
          "metadata": {},
          "execution_count": 21
        }
      ]
    },
    {
      "cell_type": "code",
      "metadata": {
        "colab": {
          "base_uri": "https://localhost:8080/"
        },
        "id": "j08h7usgL4il",
        "outputId": "c3228094-ecc1-4a78-9a5f-cc2a0dd8f233"
      },
      "source": [
        "bins = [0, 20, 40, 60, 80, 100]\n",
        "categorias_anios = pd.cut(books_short.index, bins=bins)\n",
        "categorias_anios"
      ],
      "execution_count": null,
      "outputs": [
        {
          "output_type": "execute_result",
          "data": {
            "text/plain": [
              "[(0, 20], (0, 20], (0, 20], (0, 20], (0, 20], ..., (80, 100], (80, 100], (80, 100], (80, 100], (80, 100]]\n",
              "Length: 78\n",
              "Categories (5, interval[int64]): [(0, 20] < (20, 40] < (40, 60] < (60, 80] < (80, 100]]"
            ]
          },
          "metadata": {},
          "execution_count": 22
        }
      ]
    },
    {
      "cell_type": "code",
      "metadata": {
        "id": "MUvekqXhQQYC"
      },
      "source": [
        "books_short['Age_gap'] = categorias_anios\n"
      ],
      "execution_count": null,
      "outputs": []
    },
    {
      "cell_type": "code",
      "metadata": {
        "colab": {
          "base_uri": "https://localhost:8080/"
        },
        "id": "tiXf9msyM-oA",
        "outputId": "be45f349-ec3a-4454-b0eb-090c61ea0b7b"
      },
      "source": [
        "books_short['Age_gap'] = categorias_anios\n",
        "books_by_age_range = books_short.groupby('Age_gap').mean()\n",
        "books_by_age_range"
      ],
      "execution_count": null,
      "outputs": [
        {
          "output_type": "execute_result",
          "data": {
            "text/html": [
              "<div>\n",
              "<style scoped>\n",
              "    .dataframe tbody tr th:only-of-type {\n",
              "        vertical-align: middle;\n",
              "    }\n",
              "\n",
              "    .dataframe tbody tr th {\n",
              "        vertical-align: top;\n",
              "    }\n",
              "\n",
              "    .dataframe thead th {\n",
              "        text-align: right;\n",
              "    }\n",
              "</style>\n",
              "<table border=\"1\" class=\"dataframe\">\n",
              "  <thead>\n",
              "    <tr style=\"text-align: right;\">\n",
              "      <th></th>\n",
              "      <th>How many books did you read during last 12months?</th>\n",
              "    </tr>\n",
              "    <tr>\n",
              "      <th>Age_gap</th>\n",
              "      <th></th>\n",
              "    </tr>\n",
              "  </thead>\n",
              "  <tbody>\n",
              "    <tr>\n",
              "      <th>(0, 20]</th>\n",
              "      <td>52.600000</td>\n",
              "    </tr>\n",
              "    <tr>\n",
              "      <th>(20, 40]</th>\n",
              "      <td>41.300000</td>\n",
              "    </tr>\n",
              "    <tr>\n",
              "      <th>(40, 60]</th>\n",
              "      <td>49.500000</td>\n",
              "    </tr>\n",
              "    <tr>\n",
              "      <th>(60, 80]</th>\n",
              "      <td>32.900000</td>\n",
              "    </tr>\n",
              "    <tr>\n",
              "      <th>(80, 100]</th>\n",
              "      <td>7.307692</td>\n",
              "    </tr>\n",
              "  </tbody>\n",
              "</table>\n",
              "</div>"
            ],
            "text/plain": [
              "           How many books did you read during last 12months?\n",
              "Age_gap                                                     \n",
              "(0, 20]                                            52.600000\n",
              "(20, 40]                                           41.300000\n",
              "(40, 60]                                           49.500000\n",
              "(60, 80]                                           32.900000\n",
              "(80, 100]                                           7.307692"
            ]
          },
          "metadata": {},
          "execution_count": 24
        }
      ]
    },
    {
      "cell_type": "markdown",
      "metadata": {
        "id": "1KHBAv7LDdRc"
      },
      "source": [
        "Como base, hago un bar chart con la biblioteca matplotlib.pyplot"
      ]
    },
    {
      "cell_type": "code",
      "metadata": {
        "colab": {
          "base_uri": "https://localhost:8080/"
        },
        "id": "jt1SyKlOREG9",
        "outputId": "810a5e14-9362-419d-f9f3-33493eee5bd2"
      },
      "source": [
        "plt.figure(figsize=(6.4, 4.8), dpi=100)\n",
        "books_by_age_range.plot.bar(color= {'#EB943B'}, legend=False)\n",
        "plt.ylabel(\"Books read\")\n",
        "plt.xlabel(\"Age\")\n",
        "plt.title(\"How many books does people read by age range\")\n",
        "plt.show()"
      ],
      "execution_count": null,
      "outputs": [
        {
          "output_type": "display_data",
          "data": {
            "text/plain": [
              "<Figure size 640x480 with 0 Axes>"
            ]
          },
          "metadata": {}
        },
        {
          "output_type": "display_data",
          "data": {
            "image/png": "[encoded data removed]",
            "text/plain": [
              "<Figure size 720x576 with 1 Axes>"
            ]
          },
          "metadata": {}
        }
      ]
    },
    {
      "cell_type": "markdown",
      "metadata": {
        "id": "aT5MjYz-QH81"
      },
      "source": [
        "Modifico el bar chart para que tenga una metafora sobre lo que se quiere mostrar. En este caso, la cantidad de libros que se lee por edad esta representada por cuantos libros hay en el estante, y cada estante corresponde a un rango etario diferente."
      ]
    },
    {
      "cell_type": "markdown",
      "metadata": {
        "id": "eLZMmYUM7r4f"
      },
      "source": [
        "\n",
        "<img src= \"https://drive.google.com/uc?id=1WTs1s4Fg0Cahwrh3x-l2-XNBjIyvl2Fz\" width=\"45%\">"
      ]
    }
  ]
}
